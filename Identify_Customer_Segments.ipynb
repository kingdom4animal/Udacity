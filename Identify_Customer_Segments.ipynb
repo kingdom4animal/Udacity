{
 "cells": [
  {
   "cell_type": "markdown",
   "metadata": {},
   "source": [
    "# Project: Identify Customer Segments\n",
    "\n",
    "In this project, you will apply unsupervised learning techniques to identify segments of the population that form the core customer base for a mail-order sales company in Germany. These segments can then be used to direct marketing campaigns towards audiences that will have the highest expected rate of returns. The data that you will use has been provided by our partners at Bertelsmann Arvato Analytics, and represents a real-life data science task.\n",
    "\n",
    "This notebook will help you complete this task by providing a framework within which you will perform your analysis steps. In each step of the project, you will see some text describing the subtask that you will perform, followed by one or more code cells for you to complete your work. **Feel free to add additional code and markdown cells as you go along so that you can explore everything in precise chunks.** The code cells provided in the base template will outline only the major tasks, and will usually not be enough to cover all of the minor tasks that comprise it.\n",
    "\n",
    "It should be noted that while there will be precise guidelines on how you should handle certain tasks in the project, there will also be places where an exact specification is not provided. **There will be times in the project where you will need to make and justify your own decisions on how to treat the data.** These are places where there may not be only one way to handle the data. In real-life tasks, there may be many valid ways to approach an analysis task. One of the most important things you can do is clearly document your approach so that other scientists can understand the decisions you've made.\n",
    "\n",
    "At the end of most sections, there will be a Markdown cell labeled **Discussion**. In these cells, you will report your findings for the completed section, as well as document the decisions that you made in your approach to each subtask. **Your project will be evaluated not just on the code used to complete the tasks outlined, but also your communication about your observations and conclusions at each stage.**"
   ]
  },
  {
   "cell_type": "code",
   "execution_count": 1,
   "metadata": {},
   "outputs": [
    {
     "data": {
      "text/plain": [
       "'\\nImport note: The classroom currently uses sklearn version 0.19.\\nIf you need to use an imputer, it is available in sklearn.preprocessing.Imputer,\\ninstead of sklearn.impute as in newer versions of sklearn.\\n'"
      ]
     },
     "execution_count": 1,
     "metadata": {},
     "output_type": "execute_result"
    }
   ],
   "source": [
    "# import libraries here; add more as necessary\n",
    "import numpy as np\n",
    "import pandas as pd\n",
    "import matplotlib.pyplot as plt\n",
    "import seaborn as sns\n",
    "\n",
    "# magic word for producing visualizations in notebook\n",
    "%matplotlib inline\n",
    "\n",
    "'''\n",
    "Import note: The classroom currently uses sklearn version 0.19.\n",
    "If you need to use an imputer, it is available in sklearn.preprocessing.Imputer,\n",
    "instead of sklearn.impute as in newer versions of sklearn.\n",
    "'''"
   ]
  },
  {
   "cell_type": "markdown",
   "metadata": {},
   "source": [
    "### Step 0: Load the Data\n",
    "\n",
    "There are four files associated with this project (not including this one):\n",
    "\n",
    "- `Udacity_AZDIAS_Subset.csv`: Demographics data for the general population of Germany; 891211 persons (rows) x 85 features (columns).\n",
    "- `Udacity_CUSTOMERS_Subset.csv`: Demographics data for customers of a mail-order company; 191652 persons (rows) x 85 features (columns).\n",
    "- `Data_Dictionary.md`: Detailed information file about the features in the provided datasets.\n",
    "https://github.com/mkucz95/customer_segmentation/blob/master/Data_Dictionary.md\n",
    "- `AZDIAS_Feature_Summary.csv`: Summary of feature attributes for demographics data; 85 features (rows) x 4 columns\n",
    "\n",
    "Each row of the demographics files represents a single person, but also includes information outside of individuals, including information about their household, building, and neighborhood. You will use this information to cluster the general population into groups with similar demographic properties. Then, you will see how the people in the customers dataset fit into those created clusters. The hope here is that certain clusters are over-represented in the customers data, as compared to the general population; those over-represented clusters will be assumed to be part of the core userbase. This information can then be used for further applications, such as targeting for a marketing campaign.\n",
    "\n",
    "To start off with, load in the demographics data for the general population into a pandas DataFrame, and do the same for the feature attributes summary. Note for all of the `.csv` data files in this project: they're semicolon (`;`) delimited, so you'll need an additional argument in your [`read_csv()`](https://pandas.pydata.org/pandas-docs/stable/generated/pandas.read_csv.html) call to read in the data properly. Also, considering the size of the main dataset, it may take some time for it to load completely.\n",
    "\n",
    "Once the dataset is loaded, it's recommended that you take a little bit of time just browsing the general structure of the dataset and feature summary file. You'll be getting deep into the innards of the cleaning in the first major step of the project, so gaining some general familiarity can help you get your bearings."
   ]
  },
  {
   "cell_type": "code",
   "execution_count": 2,
   "metadata": {},
   "outputs": [],
   "source": [
    "# Load in the general demographics data.\n",
    "azdias = pd.read_csv('./Udacity_AZDIAS_Subset.csv', delimiter=';')\n",
    "\n",
    "# Load in the feature summary file.\n",
    "feat_info = pd.read_csv('./AZDIAS_Feature_Summary.csv', delimiter=';')"
   ]
  },
  {
   "cell_type": "code",
   "execution_count": 3,
   "metadata": {},
   "outputs": [],
   "source": [
    "# Check the structure of the data after it's loaded (e.g. print the number of\n",
    "# rows and columns, print the first few rows).\n",
    "\n",
    "#print (azdias['AGER_TYP'].value_counts()) # -1\n",
    "#print (azdias['ALTERSKATEGORIE_GROB'].value_counts()) # -1, 9"
   ]
  },
  {
   "cell_type": "code",
   "execution_count": 4,
   "metadata": {},
   "outputs": [],
   "source": [
    "#azdias.head()"
   ]
  },
  {
   "cell_type": "code",
   "execution_count": 5,
   "metadata": {},
   "outputs": [],
   "source": [
    "#feat_info.head()\n",
    "#feat_info"
   ]
  },
  {
   "cell_type": "code",
   "execution_count": 6,
   "metadata": {},
   "outputs": [
    {
     "data": {
      "text/html": [
       "<div>\n",
       "<style scoped>\n",
       "    .dataframe tbody tr th:only-of-type {\n",
       "        vertical-align: middle;\n",
       "    }\n",
       "\n",
       "    .dataframe tbody tr th {\n",
       "        vertical-align: top;\n",
       "    }\n",
       "\n",
       "    .dataframe thead th {\n",
       "        text-align: right;\n",
       "    }\n",
       "</style>\n",
       "<table border=\"1\" class=\"dataframe\">\n",
       "  <thead>\n",
       "    <tr style=\"text-align: right;\">\n",
       "      <th></th>\n",
       "      <th>AGER_TYP</th>\n",
       "      <th>ALTERSKATEGORIE_GROB</th>\n",
       "      <th>ANREDE_KZ</th>\n",
       "      <th>CJT_GESAMTTYP</th>\n",
       "      <th>FINANZ_MINIMALIST</th>\n",
       "      <th>FINANZ_SPARER</th>\n",
       "      <th>FINANZ_VORSORGER</th>\n",
       "      <th>FINANZ_ANLEGER</th>\n",
       "      <th>FINANZ_UNAUFFAELLIGER</th>\n",
       "      <th>FINANZ_HAUSBAUER</th>\n",
       "      <th>...</th>\n",
       "      <th>PLZ8_ANTG1</th>\n",
       "      <th>PLZ8_ANTG2</th>\n",
       "      <th>PLZ8_ANTG3</th>\n",
       "      <th>PLZ8_ANTG4</th>\n",
       "      <th>PLZ8_BAUMAX</th>\n",
       "      <th>PLZ8_HHZ</th>\n",
       "      <th>PLZ8_GBZ</th>\n",
       "      <th>ARBEIT</th>\n",
       "      <th>ORTSGR_KLS9</th>\n",
       "      <th>RELAT_AB</th>\n",
       "    </tr>\n",
       "  </thead>\n",
       "  <tbody>\n",
       "    <tr>\n",
       "      <th>count</th>\n",
       "      <td>891221.000000</td>\n",
       "      <td>891221.000000</td>\n",
       "      <td>891221.000000</td>\n",
       "      <td>886367.000000</td>\n",
       "      <td>891221.000000</td>\n",
       "      <td>891221.000000</td>\n",
       "      <td>891221.000000</td>\n",
       "      <td>891221.000000</td>\n",
       "      <td>891221.000000</td>\n",
       "      <td>891221.000000</td>\n",
       "      <td>...</td>\n",
       "      <td>774706.000000</td>\n",
       "      <td>774706.000000</td>\n",
       "      <td>774706.000000</td>\n",
       "      <td>774706.000000</td>\n",
       "      <td>774706.000000</td>\n",
       "      <td>774706.000000</td>\n",
       "      <td>774706.000000</td>\n",
       "      <td>794005.000000</td>\n",
       "      <td>794005.000000</td>\n",
       "      <td>794005.00000</td>\n",
       "    </tr>\n",
       "    <tr>\n",
       "      <th>mean</th>\n",
       "      <td>-0.358435</td>\n",
       "      <td>2.777398</td>\n",
       "      <td>1.522098</td>\n",
       "      <td>3.632838</td>\n",
       "      <td>3.074528</td>\n",
       "      <td>2.821039</td>\n",
       "      <td>3.401106</td>\n",
       "      <td>3.033328</td>\n",
       "      <td>2.874167</td>\n",
       "      <td>3.075121</td>\n",
       "      <td>...</td>\n",
       "      <td>2.253330</td>\n",
       "      <td>2.801858</td>\n",
       "      <td>1.595426</td>\n",
       "      <td>0.699166</td>\n",
       "      <td>1.943913</td>\n",
       "      <td>3.612821</td>\n",
       "      <td>3.381087</td>\n",
       "      <td>3.167854</td>\n",
       "      <td>5.293002</td>\n",
       "      <td>3.07222</td>\n",
       "    </tr>\n",
       "    <tr>\n",
       "      <th>std</th>\n",
       "      <td>1.198724</td>\n",
       "      <td>1.068775</td>\n",
       "      <td>0.499512</td>\n",
       "      <td>1.595021</td>\n",
       "      <td>1.321055</td>\n",
       "      <td>1.464749</td>\n",
       "      <td>1.322134</td>\n",
       "      <td>1.529603</td>\n",
       "      <td>1.486731</td>\n",
       "      <td>1.353248</td>\n",
       "      <td>...</td>\n",
       "      <td>0.972008</td>\n",
       "      <td>0.920309</td>\n",
       "      <td>0.986736</td>\n",
       "      <td>0.727137</td>\n",
       "      <td>1.459654</td>\n",
       "      <td>0.973967</td>\n",
       "      <td>1.111598</td>\n",
       "      <td>1.002376</td>\n",
       "      <td>2.303739</td>\n",
       "      <td>1.36298</td>\n",
       "    </tr>\n",
       "    <tr>\n",
       "      <th>min</th>\n",
       "      <td>-1.000000</td>\n",
       "      <td>1.000000</td>\n",
       "      <td>1.000000</td>\n",
       "      <td>1.000000</td>\n",
       "      <td>1.000000</td>\n",
       "      <td>1.000000</td>\n",
       "      <td>1.000000</td>\n",
       "      <td>1.000000</td>\n",
       "      <td>1.000000</td>\n",
       "      <td>1.000000</td>\n",
       "      <td>...</td>\n",
       "      <td>0.000000</td>\n",
       "      <td>0.000000</td>\n",
       "      <td>0.000000</td>\n",
       "      <td>0.000000</td>\n",
       "      <td>1.000000</td>\n",
       "      <td>1.000000</td>\n",
       "      <td>1.000000</td>\n",
       "      <td>1.000000</td>\n",
       "      <td>0.000000</td>\n",
       "      <td>1.00000</td>\n",
       "    </tr>\n",
       "    <tr>\n",
       "      <th>25%</th>\n",
       "      <td>-1.000000</td>\n",
       "      <td>2.000000</td>\n",
       "      <td>1.000000</td>\n",
       "      <td>2.000000</td>\n",
       "      <td>2.000000</td>\n",
       "      <td>1.000000</td>\n",
       "      <td>3.000000</td>\n",
       "      <td>2.000000</td>\n",
       "      <td>2.000000</td>\n",
       "      <td>2.000000</td>\n",
       "      <td>...</td>\n",
       "      <td>1.000000</td>\n",
       "      <td>2.000000</td>\n",
       "      <td>1.000000</td>\n",
       "      <td>0.000000</td>\n",
       "      <td>1.000000</td>\n",
       "      <td>3.000000</td>\n",
       "      <td>3.000000</td>\n",
       "      <td>3.000000</td>\n",
       "      <td>4.000000</td>\n",
       "      <td>2.00000</td>\n",
       "    </tr>\n",
       "    <tr>\n",
       "      <th>50%</th>\n",
       "      <td>-1.000000</td>\n",
       "      <td>3.000000</td>\n",
       "      <td>2.000000</td>\n",
       "      <td>4.000000</td>\n",
       "      <td>3.000000</td>\n",
       "      <td>3.000000</td>\n",
       "      <td>3.000000</td>\n",
       "      <td>3.000000</td>\n",
       "      <td>3.000000</td>\n",
       "      <td>3.000000</td>\n",
       "      <td>...</td>\n",
       "      <td>2.000000</td>\n",
       "      <td>3.000000</td>\n",
       "      <td>2.000000</td>\n",
       "      <td>1.000000</td>\n",
       "      <td>1.000000</td>\n",
       "      <td>4.000000</td>\n",
       "      <td>3.000000</td>\n",
       "      <td>3.000000</td>\n",
       "      <td>5.000000</td>\n",
       "      <td>3.00000</td>\n",
       "    </tr>\n",
       "    <tr>\n",
       "      <th>75%</th>\n",
       "      <td>-1.000000</td>\n",
       "      <td>4.000000</td>\n",
       "      <td>2.000000</td>\n",
       "      <td>5.000000</td>\n",
       "      <td>4.000000</td>\n",
       "      <td>4.000000</td>\n",
       "      <td>5.000000</td>\n",
       "      <td>5.000000</td>\n",
       "      <td>4.000000</td>\n",
       "      <td>4.000000</td>\n",
       "      <td>...</td>\n",
       "      <td>3.000000</td>\n",
       "      <td>3.000000</td>\n",
       "      <td>2.000000</td>\n",
       "      <td>1.000000</td>\n",
       "      <td>3.000000</td>\n",
       "      <td>4.000000</td>\n",
       "      <td>4.000000</td>\n",
       "      <td>4.000000</td>\n",
       "      <td>7.000000</td>\n",
       "      <td>4.00000</td>\n",
       "    </tr>\n",
       "    <tr>\n",
       "      <th>max</th>\n",
       "      <td>3.000000</td>\n",
       "      <td>9.000000</td>\n",
       "      <td>2.000000</td>\n",
       "      <td>6.000000</td>\n",
       "      <td>5.000000</td>\n",
       "      <td>5.000000</td>\n",
       "      <td>5.000000</td>\n",
       "      <td>5.000000</td>\n",
       "      <td>5.000000</td>\n",
       "      <td>5.000000</td>\n",
       "      <td>...</td>\n",
       "      <td>4.000000</td>\n",
       "      <td>4.000000</td>\n",
       "      <td>3.000000</td>\n",
       "      <td>2.000000</td>\n",
       "      <td>5.000000</td>\n",
       "      <td>5.000000</td>\n",
       "      <td>5.000000</td>\n",
       "      <td>9.000000</td>\n",
       "      <td>9.000000</td>\n",
       "      <td>9.00000</td>\n",
       "    </tr>\n",
       "  </tbody>\n",
       "</table>\n",
       "<p>8 rows × 81 columns</p>\n",
       "</div>"
      ],
      "text/plain": [
       "            AGER_TYP  ALTERSKATEGORIE_GROB      ANREDE_KZ  CJT_GESAMTTYP  \\\n",
       "count  891221.000000         891221.000000  891221.000000  886367.000000   \n",
       "mean       -0.358435              2.777398       1.522098       3.632838   \n",
       "std         1.198724              1.068775       0.499512       1.595021   \n",
       "min        -1.000000              1.000000       1.000000       1.000000   \n",
       "25%        -1.000000              2.000000       1.000000       2.000000   \n",
       "50%        -1.000000              3.000000       2.000000       4.000000   \n",
       "75%        -1.000000              4.000000       2.000000       5.000000   \n",
       "max         3.000000              9.000000       2.000000       6.000000   \n",
       "\n",
       "       FINANZ_MINIMALIST  FINANZ_SPARER  FINANZ_VORSORGER  FINANZ_ANLEGER  \\\n",
       "count      891221.000000  891221.000000     891221.000000   891221.000000   \n",
       "mean            3.074528       2.821039          3.401106        3.033328   \n",
       "std             1.321055       1.464749          1.322134        1.529603   \n",
       "min             1.000000       1.000000          1.000000        1.000000   \n",
       "25%             2.000000       1.000000          3.000000        2.000000   \n",
       "50%             3.000000       3.000000          3.000000        3.000000   \n",
       "75%             4.000000       4.000000          5.000000        5.000000   \n",
       "max             5.000000       5.000000          5.000000        5.000000   \n",
       "\n",
       "       FINANZ_UNAUFFAELLIGER  FINANZ_HAUSBAUER      ...          PLZ8_ANTG1  \\\n",
       "count          891221.000000     891221.000000      ...       774706.000000   \n",
       "mean                2.874167          3.075121      ...            2.253330   \n",
       "std                 1.486731          1.353248      ...            0.972008   \n",
       "min                 1.000000          1.000000      ...            0.000000   \n",
       "25%                 2.000000          2.000000      ...            1.000000   \n",
       "50%                 3.000000          3.000000      ...            2.000000   \n",
       "75%                 4.000000          4.000000      ...            3.000000   \n",
       "max                 5.000000          5.000000      ...            4.000000   \n",
       "\n",
       "          PLZ8_ANTG2     PLZ8_ANTG3     PLZ8_ANTG4    PLZ8_BAUMAX  \\\n",
       "count  774706.000000  774706.000000  774706.000000  774706.000000   \n",
       "mean        2.801858       1.595426       0.699166       1.943913   \n",
       "std         0.920309       0.986736       0.727137       1.459654   \n",
       "min         0.000000       0.000000       0.000000       1.000000   \n",
       "25%         2.000000       1.000000       0.000000       1.000000   \n",
       "50%         3.000000       2.000000       1.000000       1.000000   \n",
       "75%         3.000000       2.000000       1.000000       3.000000   \n",
       "max         4.000000       3.000000       2.000000       5.000000   \n",
       "\n",
       "            PLZ8_HHZ       PLZ8_GBZ         ARBEIT    ORTSGR_KLS9  \\\n",
       "count  774706.000000  774706.000000  794005.000000  794005.000000   \n",
       "mean        3.612821       3.381087       3.167854       5.293002   \n",
       "std         0.973967       1.111598       1.002376       2.303739   \n",
       "min         1.000000       1.000000       1.000000       0.000000   \n",
       "25%         3.000000       3.000000       3.000000       4.000000   \n",
       "50%         4.000000       3.000000       3.000000       5.000000   \n",
       "75%         4.000000       4.000000       4.000000       7.000000   \n",
       "max         5.000000       5.000000       9.000000       9.000000   \n",
       "\n",
       "           RELAT_AB  \n",
       "count  794005.00000  \n",
       "mean        3.07222  \n",
       "std         1.36298  \n",
       "min         1.00000  \n",
       "25%         2.00000  \n",
       "50%         3.00000  \n",
       "75%         4.00000  \n",
       "max         9.00000  \n",
       "\n",
       "[8 rows x 81 columns]"
      ]
     },
     "execution_count": 6,
     "metadata": {},
     "output_type": "execute_result"
    }
   ],
   "source": [
    "azdias.describe()"
   ]
  },
  {
   "cell_type": "code",
   "execution_count": 7,
   "metadata": {},
   "outputs": [
    {
     "data": {
      "text/html": [
       "<div>\n",
       "<style scoped>\n",
       "    .dataframe tbody tr th:only-of-type {\n",
       "        vertical-align: middle;\n",
       "    }\n",
       "\n",
       "    .dataframe tbody tr th {\n",
       "        vertical-align: top;\n",
       "    }\n",
       "\n",
       "    .dataframe thead th {\n",
       "        text-align: right;\n",
       "    }\n",
       "</style>\n",
       "<table border=\"1\" class=\"dataframe\">\n",
       "  <thead>\n",
       "    <tr style=\"text-align: right;\">\n",
       "      <th></th>\n",
       "      <th>attribute</th>\n",
       "      <th>information_level</th>\n",
       "      <th>type</th>\n",
       "      <th>missing_or_unknown</th>\n",
       "    </tr>\n",
       "  </thead>\n",
       "  <tbody>\n",
       "    <tr>\n",
       "      <th>count</th>\n",
       "      <td>85</td>\n",
       "      <td>85</td>\n",
       "      <td>85</td>\n",
       "      <td>85</td>\n",
       "    </tr>\n",
       "    <tr>\n",
       "      <th>unique</th>\n",
       "      <td>85</td>\n",
       "      <td>9</td>\n",
       "      <td>5</td>\n",
       "      <td>9</td>\n",
       "    </tr>\n",
       "    <tr>\n",
       "      <th>top</th>\n",
       "      <td>PLZ8_GBZ</td>\n",
       "      <td>person</td>\n",
       "      <td>ordinal</td>\n",
       "      <td>[-1]</td>\n",
       "    </tr>\n",
       "    <tr>\n",
       "      <th>freq</th>\n",
       "      <td>1</td>\n",
       "      <td>43</td>\n",
       "      <td>49</td>\n",
       "      <td>26</td>\n",
       "    </tr>\n",
       "  </tbody>\n",
       "</table>\n",
       "</div>"
      ],
      "text/plain": [
       "       attribute information_level     type missing_or_unknown\n",
       "count         85                85       85                 85\n",
       "unique        85                 9        5                  9\n",
       "top     PLZ8_GBZ            person  ordinal               [-1]\n",
       "freq           1                43       49                 26"
      ]
     },
     "execution_count": 7,
     "metadata": {},
     "output_type": "execute_result"
    }
   ],
   "source": [
    "feat_info.describe()"
   ]
  },
  {
   "cell_type": "code",
   "execution_count": 8,
   "metadata": {},
   "outputs": [],
   "source": [
    "#azdias.info()"
   ]
  },
  {
   "cell_type": "code",
   "execution_count": 9,
   "metadata": {},
   "outputs": [
    {
     "name": "stdout",
     "output_type": "stream",
     "text": [
      "Index(['AGER_TYP', 'ALTERSKATEGORIE_GROB', 'ANREDE_KZ', 'CJT_GESAMTTYP',\n",
      "       'FINANZ_MINIMALIST', 'FINANZ_SPARER', 'FINANZ_VORSORGER',\n",
      "       'FINANZ_ANLEGER', 'FINANZ_UNAUFFAELLIGER', 'FINANZ_HAUSBAUER',\n",
      "       'FINANZTYP', 'GEBURTSJAHR', 'GFK_URLAUBERTYP', 'GREEN_AVANTGARDE',\n",
      "       'HEALTH_TYP', 'LP_LEBENSPHASE_FEIN', 'LP_LEBENSPHASE_GROB',\n",
      "       'LP_FAMILIE_FEIN', 'LP_FAMILIE_GROB', 'LP_STATUS_FEIN',\n",
      "       'LP_STATUS_GROB', 'NATIONALITAET_KZ', 'PRAEGENDE_JUGENDJAHRE',\n",
      "       'RETOURTYP_BK_S', 'SEMIO_SOZ', 'SEMIO_FAM', 'SEMIO_REL', 'SEMIO_MAT',\n",
      "       'SEMIO_VERT', 'SEMIO_LUST', 'SEMIO_ERL', 'SEMIO_KULT', 'SEMIO_RAT',\n",
      "       'SEMIO_KRIT', 'SEMIO_DOM', 'SEMIO_KAEM', 'SEMIO_PFLICHT', 'SEMIO_TRADV',\n",
      "       'SHOPPER_TYP', 'SOHO_KZ', 'TITEL_KZ', 'VERS_TYP', 'ZABEOTYP',\n",
      "       'ALTER_HH', 'ANZ_PERSONEN', 'ANZ_TITEL', 'HH_EINKOMMEN_SCORE',\n",
      "       'KK_KUNDENTYP', 'W_KEIT_KIND_HH', 'WOHNDAUER_2008',\n",
      "       'ANZ_HAUSHALTE_AKTIV', 'ANZ_HH_TITEL', 'GEBAEUDETYP', 'KONSUMNAEHE',\n",
      "       'MIN_GEBAEUDEJAHR', 'OST_WEST_KZ', 'WOHNLAGE', 'CAMEO_DEUG_2015',\n",
      "       'CAMEO_DEU_2015', 'CAMEO_INTL_2015', 'KBA05_ANTG1', 'KBA05_ANTG2',\n",
      "       'KBA05_ANTG3', 'KBA05_ANTG4', 'KBA05_BAUMAX', 'KBA05_GBZ', 'BALLRAUM',\n",
      "       'EWDICHTE', 'INNENSTADT', 'GEBAEUDETYP_RASTER', 'KKK', 'MOBI_REGIO',\n",
      "       'ONLINE_AFFINITAET', 'REGIOTYP', 'KBA13_ANZAHL_PKW', 'PLZ8_ANTG1',\n",
      "       'PLZ8_ANTG2', 'PLZ8_ANTG3', 'PLZ8_ANTG4', 'PLZ8_BAUMAX', 'PLZ8_HHZ',\n",
      "       'PLZ8_GBZ', 'ARBEIT', 'ORTSGR_KLS9', 'RELAT_AB'],\n",
      "      dtype='object')\n"
     ]
    }
   ],
   "source": [
    "print(azdias.columns)\n",
    "#'ALTERSKATEGORIE_GROB', 'ANREDE_KZ','FINANZTYP','GFK_URLAUBERTYP','LP_FAMILIE_FEIN','LP_STATUS_GROB','ANZ_TITEL','HH_EINKOMMEN_SCORE',\n",
    "#'GEBAEUDETYP','OST_WEST_KZ','WOHNLAGE', 'CAMEO_DEU_2015','KBA05_BAUMAX','EWDICHTE','INNENSTADT', 'GEBAEUDETYP_RASTER','KKK',\n",
    "#'REGIOTYP','ARBEIT', 'ORTSGR_KLS9'"
   ]
  },
  {
   "cell_type": "code",
   "execution_count": 10,
   "metadata": {},
   "outputs": [
    {
     "name": "stdout",
     "output_type": "stream",
     "text": [
      "<class 'pandas.core.frame.DataFrame'>\n",
      "RangeIndex: 85 entries, 0 to 84\n",
      "Data columns (total 4 columns):\n",
      "attribute             85 non-null object\n",
      "information_level     85 non-null object\n",
      "type                  85 non-null object\n",
      "missing_or_unknown    85 non-null object\n",
      "dtypes: object(4)\n",
      "memory usage: 2.7+ KB\n"
     ]
    }
   ],
   "source": [
    "feat_info.info()"
   ]
  },
  {
   "cell_type": "markdown",
   "metadata": {},
   "source": [
    "> **Tip**: Add additional cells to keep everything in reasonably-sized chunks! Keyboard shortcut `esc --> a` (press escape to enter command mode, then press the 'A' key) adds a new cell before the active cell, and `esc --> b` adds a new cell after the active cell. If you need to convert an active cell to a markdown cell, use `esc --> m` and to convert to a code cell, use `esc --> y`. \n",
    "\n",
    "## Step 1: Preprocessing\n",
    "\n",
    "### Step 1.1: Assess Missing Data\n",
    "\n",
    "The feature summary file contains a summary of properties for each demographics data column. You will use this file to help you make cleaning decisions during this stage of the project. First of all, you should assess the demographics data in terms of missing data. Pay attention to the following points as you perform your analysis, and take notes on what you observe. Make sure that you fill in the **Discussion** cell with your findings and decisions at the end of each step that has one!\n",
    "\n",
    "#### Step 1.1.1: Convert Missing Value Codes to NaNs\n",
    "The fourth column of the feature attributes summary (loaded in above as `feat_info`) documents the codes from the data dictionary that indicate missing or unknown data. While the file encodes this as a list (e.g. `[-1,0]`), this will get read in as a string object. You'll need to do a little bit of parsing to make use of it to identify and clean the data. Convert data that matches a 'missing' or 'unknown' value code into a numpy NaN value. You might want to see how much data takes on a 'missing' or 'unknown' code, and how much data is naturally missing, as a point of interest.\n",
    "\n",
    "**As one more reminder, you are encouraged to add additional cells to break up your analysis into manageable chunks.**"
   ]
  },
  {
   "cell_type": "code",
   "execution_count": 11,
   "metadata": {},
   "outputs": [],
   "source": [
    "# Identify missing or unknown data values and convert them to NaNs.\n",
    "\n",
    "#feat_info"
   ]
  },
  {
   "cell_type": "code",
   "execution_count": 12,
   "metadata": {},
   "outputs": [
    {
     "data": {
      "text/plain": [
       "[-1]        26\n",
       "[-1,9]      17\n",
       "[-1,0]      16\n",
       "[0]         12\n",
       "[]          10\n",
       "[XX]         1\n",
       "[-1,X]       1\n",
       "[-1,XX]      1\n",
       "[-1,0,9]     1\n",
       "Name: missing_or_unknown, dtype: int64"
      ]
     },
     "execution_count": 12,
     "metadata": {},
     "output_type": "execute_result"
    }
   ],
   "source": [
    "feat_info['missing_or_unknown'].value_counts()"
   ]
  },
  {
   "cell_type": "code",
   "execution_count": 13,
   "metadata": {},
   "outputs": [],
   "source": [
    "#print(azdias.isnull().sum())"
   ]
  },
  {
   "cell_type": "code",
   "execution_count": 14,
   "metadata": {},
   "outputs": [],
   "source": [
    "azdias_nan = azdias.copy()"
   ]
  },
  {
   "cell_type": "code",
   "execution_count": 15,
   "metadata": {},
   "outputs": [
    {
     "name": "stdout",
     "output_type": "stream",
     "text": [
      "          attribute information_level   type missing_or_unknown\n",
      "59  CAMEO_INTL_2015     microcell_rr4  mixed            [-1,XX]\n"
     ]
    }
   ],
   "source": [
    "column1 = feat_info[feat_info['missing_or_unknown']=='[-1]']\n",
    "column2 = feat_info[feat_info['missing_or_unknown']=='[-1,9]']\n",
    "column3 = feat_info[feat_info['missing_or_unknown']=='[-1,0]']\n",
    "column4 = feat_info[feat_info['missing_or_unknown']=='[0]']\n",
    "column5 = feat_info[feat_info['missing_or_unknown']=='[-1,XX]']\n",
    "column6 = feat_info[feat_info['missing_or_unknown']=='[-1,X]']\n",
    "column7 = feat_info[feat_info['missing_or_unknown']=='[XX]']\n",
    "column8 = feat_info[feat_info['missing_or_unknown']=='[-1,0,9]']\n",
    "print (column5)"
   ]
  },
  {
   "cell_type": "code",
   "execution_count": 16,
   "metadata": {},
   "outputs": [],
   "source": [
    "for i in column1['attribute']:\n",
    "    azdias_nan[i].replace(to_replace=[-1], value=np.nan,inplace = True)\n",
    "\n",
    "for i in column2['attribute']:\n",
    "    azdias_nan[i].replace(to_replace=[-1,9], value=np.nan,inplace = True)\n",
    "\n",
    "for i in column3['attribute']:\n",
    "    azdias_nan[i].replace(to_replace=[-1,0], value=np.nan,inplace = True)\n",
    "    \n",
    "for i in column4['attribute']:\n",
    "    azdias_nan[i].replace(to_replace=[0], value=np.nan,inplace = True)\n",
    "    \n",
    "for i in column5['attribute']:\n",
    "    azdias_nan[i].replace(to_replace=[-1,'XX'], value=np.nan,inplace = True)\n",
    "    \n",
    "for i in column6['attribute']:\n",
    "    azdias_nan[i].replace(to_replace=[-1,'X'], value=np.nan,inplace = True)\n",
    "    \n",
    "for i in column7['attribute']:\n",
    "    azdias_nan[i].replace(to_replace=['XX'], value=np.nan,inplace = True)\n",
    "    \n",
    "for i in column8['attribute']:\n",
    "    azdias_nan[i].replace(to_replace=[-1,0,9], value=np.nan,inplace = True)\n",
    "#print (azdias['CAMEO_INTL_2015'].value_counts())\n",
    "#print (azdias_nan['CAMEO_INTL_2015'].value_counts())\n",
    "\n",
    "#print (azdias['CAMEO_INTL_2015'].isna().sum())\n",
    "#print (azdias_nan['CAMEO_INTL_2015'].isna().sum())\n"
   ]
  },
  {
   "cell_type": "markdown",
   "metadata": {},
   "source": [
    "#### Step 1.1.2: Assess Missing Data in Each Column\n",
    "\n",
    "How much missing data is present in each column? There are a few columns that are outliers in terms of the proportion of values that are missing. You will want to use matplotlib's [`hist()`](https://matplotlib.org/api/_as_gen/matplotlib.pyplot.hist.html) function to visualize the distribution of missing value counts to find these columns. Identify and document these columns. While some of these columns might have justifications for keeping or re-encoding the data, for this project you should just remove them from the dataframe. (Feel free to make remarks about these outlier columns in the discussion, however!)\n",
    "\n",
    "For the remaining features, are there any patterns in which columns have, or share, missing data?"
   ]
  },
  {
   "cell_type": "code",
   "execution_count": 17,
   "metadata": {},
   "outputs": [
    {
     "data": {
      "text/plain": [
       "([0,\n",
       "  1,\n",
       "  2,\n",
       "  3,\n",
       "  4,\n",
       "  5,\n",
       "  6,\n",
       "  7,\n",
       "  8,\n",
       "  9,\n",
       "  10,\n",
       "  11,\n",
       "  12,\n",
       "  13,\n",
       "  14,\n",
       "  15,\n",
       "  16,\n",
       "  17,\n",
       "  18,\n",
       "  19,\n",
       "  20,\n",
       "  21,\n",
       "  22,\n",
       "  23,\n",
       "  24,\n",
       "  25,\n",
       "  26,\n",
       "  27,\n",
       "  28,\n",
       "  29,\n",
       "  30,\n",
       "  31,\n",
       "  32,\n",
       "  33,\n",
       "  34,\n",
       "  35,\n",
       "  36,\n",
       "  37,\n",
       "  38,\n",
       "  39,\n",
       "  40,\n",
       "  41,\n",
       "  42,\n",
       "  43,\n",
       "  44,\n",
       "  45,\n",
       "  46,\n",
       "  47,\n",
       "  48,\n",
       "  49,\n",
       "  50,\n",
       "  51,\n",
       "  52,\n",
       "  53,\n",
       "  54,\n",
       "  55,\n",
       "  56,\n",
       "  57,\n",
       "  58,\n",
       "  59,\n",
       "  60,\n",
       "  61,\n",
       "  62,\n",
       "  63,\n",
       "  64,\n",
       "  65,\n",
       "  66,\n",
       "  67,\n",
       "  68,\n",
       "  69,\n",
       "  70,\n",
       "  71,\n",
       "  72,\n",
       "  73,\n",
       "  74,\n",
       "  75,\n",
       "  76,\n",
       "  77,\n",
       "  78,\n",
       "  79,\n",
       "  80,\n",
       "  81,\n",
       "  82,\n",
       "  83,\n",
       "  84],\n",
       " <a list of 85 Text xticklabel objects>)"
      ]
     },
     "execution_count": 17,
     "metadata": {},
     "output_type": "execute_result"
    },
    {
     "data": {
      "image/png": "[encoded data removed]",
      "text/plain": [
       "<matplotlib.figure.Figure at 0x7f0719996358>"
      ]
     },
     "metadata": {
      "needs_background": "light"
     },
     "output_type": "display_data"
    }
   ],
   "source": [
    "# Perform an assessment of how much missing data there is in each column of the\n",
    "# dataset.\n",
    "\n",
    "fig, ax = plt.subplots (figsize = (40,15))\n",
    "ax.bar(azdias_nan.columns, azdias_nan.isnull().sum())\n",
    "plt.xticks(rotation =90)"
   ]
  },
  {
   "cell_type": "code",
   "execution_count": 18,
   "metadata": {},
   "outputs": [
    {
     "data": {
      "text/plain": [
       "AGER_TYP        True\n",
       "GEBURTSJAHR     True\n",
       "TITEL_KZ        True\n",
       "ALTER_HH        True\n",
       "KK_KUNDENTYP    True\n",
       "KBA05_BAUMAX    True\n",
       "dtype: bool"
      ]
     },
     "execution_count": 18,
     "metadata": {},
     "output_type": "execute_result"
    }
   ],
   "source": [
    "# Investigate patterns in the amount of missing data in each column.\n",
    "# columns with greater than 30% of missing data.\n",
    "# Perform an assessment of how much missing data there is in each column of the\n",
    "# dataset.\n",
    "df=azdias_nan.isnull().sum()/len(azdias_nan)>0.30\n",
    "df_false=df[df.values==False]\n",
    "df_false\n",
    "df_true=df[df.values==True]\n",
    "df_true"
   ]
  },
  {
   "cell_type": "code",
   "execution_count": 19,
   "metadata": {},
   "outputs": [
    {
     "name": "stdout",
     "output_type": "stream",
     "text": [
      "   ALTERSKATEGORIE_GROB  ANREDE_KZ  CJT_GESAMTTYP  FINANZ_MINIMALIST  \\\n",
      "0                   2.0          1            2.0                  3   \n",
      "1                   1.0          2            5.0                  1   \n",
      "2                   3.0          2            3.0                  1   \n",
      "3                   4.0          2            2.0                  4   \n",
      "4                   3.0          1            5.0                  4   \n",
      "\n",
      "   FINANZ_SPARER  FINANZ_VORSORGER  FINANZ_ANLEGER  FINANZ_UNAUFFAELLIGER  \\\n",
      "0              4                 3               5                      5   \n",
      "1              5                 2               5                      4   \n",
      "2              4                 1               2                      3   \n",
      "3              2                 5               2                      1   \n",
      "4              3                 4               1                      3   \n",
      "\n",
      "   FINANZ_HAUSBAUER  FINANZTYP    ...     PLZ8_ANTG1  PLZ8_ANTG2  PLZ8_ANTG3  \\\n",
      "0                 3          4    ...            NaN         NaN         NaN   \n",
      "1                 5          1    ...            2.0         3.0         2.0   \n",
      "2                 5          1    ...            3.0         3.0         1.0   \n",
      "3                 2          6    ...            2.0         2.0         2.0   \n",
      "4                 2          5    ...            2.0         4.0         2.0   \n",
      "\n",
      "   PLZ8_ANTG4  PLZ8_BAUMAX  PLZ8_HHZ  PLZ8_GBZ  ARBEIT  ORTSGR_KLS9  RELAT_AB  \n",
      "0         NaN          NaN       NaN       NaN     NaN          NaN       NaN  \n",
      "1         1.0          1.0       5.0       4.0     3.0          5.0       4.0  \n",
      "2         0.0          1.0       4.0       4.0     3.0          5.0       2.0  \n",
      "3         0.0          1.0       3.0       4.0     2.0          3.0       3.0  \n",
      "4         1.0          2.0       3.0       3.0     4.0          6.0       5.0  \n",
      "\n",
      "[5 rows x 79 columns]\n",
      "(891221, 79)\n"
     ]
    }
   ],
   "source": [
    "# Remove the outlier columns from the dataset. (You'll perform other data\n",
    "# engineering tasks such as re-encoding and imputation later.)\n",
    "\n",
    "# new data set with columns less than 30% of missing data.\n",
    "azdias_nan_rdu=azdias_nan[df_false.index]\n",
    "print(azdias_nan_rdu.head())\n",
    "print(azdias_nan_rdu.shape)\n"
   ]
  },
  {
   "cell_type": "markdown",
   "metadata": {},
   "source": [
    "#### Discussion 1.1.2: Assess Missing Data in Each Column\n",
    "\n",
    "observations regarding the amount of missing data in each column. Are there any patterns in missing values? \n",
    "\n",
    "Which columns were removed from the dataset?\n",
    "The following columns were removed from the dataset.\n",
    "\n",
    "- AGER_TYP        True \n",
    "- GEBURTSJAHR     True\n",
    "- TITEL_KZ        True\n",
    "- ALTER_HH        True\n",
    "- KK_KUNDENTYP    True\n",
    "- KBA05_BAUMAX    True"
   ]
  },
  {
   "cell_type": "markdown",
   "metadata": {},
   "source": [
    "#### Step 1.1.3: Assess Missing Data in Each Row\n",
    "\n",
    "Now, you'll perform a similar assessment for the rows of the dataset. How much data is missing in each row? As with the columns, you should see some groups of points that have a very different numbers of missing values. Divide the data into two subsets: one for data points that are above some threshold for missing values, and a second subset for points below that threshold.\n",
    "\n",
    "In order to know what to do with the outlier rows, we should see if the distribution of data values on columns that are not missing data (or are missing very little data) are similar or different between the two groups. Select at least five of these columns and compare the distribution of values.\n",
    "- You can use seaborn's [`countplot()`](https://seaborn.pydata.org/generated/seaborn.countplot.html) function to create a bar chart of code frequencies and matplotlib's [`subplot()`](https://matplotlib.org/api/_as_gen/matplotlib.pyplot.subplot.html) function to put bar charts for the two subplots side by side.\n",
    "- To reduce repeated code, you might want to write a function that can perform this comparison, taking as one of its arguments a column to be compared.\n",
    "\n",
    "Depending on what you observe in your comparison, this will have implications on how you approach your conclusions later in the analysis. If the distributions of non-missing features look similar between the data with many missing values and the data with few or no missing values, then we could argue that simply dropping those points from the analysis won't present a major issue. On the other hand, if the data with many missing values looks very different from the data with few or no missing values, then we should make a note on those data as special. We'll revisit these data later on. **Either way, you should continue your analysis for now using just the subset of the data with few or no missing values.**"
   ]
  },
  {
   "cell_type": "code",
   "execution_count": 20,
   "metadata": {},
   "outputs": [],
   "source": [
    "# How much data is missing in each row of the dataset?\n",
    "\n",
    "nan_rowwise = azdias_nan_rdu.isnull().sum(axis=1)"
   ]
  },
  {
   "cell_type": "code",
   "execution_count": 21,
   "metadata": {},
   "outputs": [],
   "source": [
    "# Write code to divide the data into two subsets based on the number of missing\n",
    "# values in each row.\n",
    "\n",
    "low_set = azdias_nan_rdu[nan_rowwise <25]\n",
    "high_set = azdias_nan_rdu[nan_rowwise >=25]\n",
    "missing_data_low = low_set.isnull().sum(axis=1)\n",
    "missing_data_high = high_set.isnull().sum(axis=1)"
   ]
  },
  {
   "cell_type": "code",
   "execution_count": 22,
   "metadata": {},
   "outputs": [],
   "source": [
    "# Compare the distribution of values for at least five columns where there are\n",
    "# no or few missing values, between the two subsets.\n",
    "\n",
    "#print (missing_data_low)  # rows of column with low missing data\n",
    "#print (missing_data_high) # rows of column with high missing data"
   ]
  },
  {
   "cell_type": "code",
   "execution_count": 23,
   "metadata": {},
   "outputs": [],
   "source": [
    "df_low=low_set.iloc[:,:5]\n",
    "df_high=high_set.iloc[:,:5]\n",
    "#print(df_low.columns)\n",
    "#print(df_high.columns)"
   ]
  },
  {
   "cell_type": "code",
   "execution_count": 24,
   "metadata": {},
   "outputs": [],
   "source": [
    "feature = ['ALTERSKATEGORIE_GROB', 'ANREDE_KZ', 'CJT_GESAMTTYP',\n",
    "       'FINANZ_MINIMALIST', 'FINANZ_SPARER']"
   ]
  },
  {
   "cell_type": "code",
   "execution_count": 25,
   "metadata": {},
   "outputs": [
    {
     "data": {
      "image/png": "[encoded data removed]",
      "text/plain": [
       "<matplotlib.figure.Figure at 0x7f06da3922e8>"
      ]
     },
     "metadata": {
      "needs_background": "light"
     },
     "output_type": "display_data"
    }
   ],
   "source": [
    "plt.figure(figsize = (8,16))\n",
    "plt.subplot(5,2,1)\n",
    "sns.countplot(x=df_low.columns[0], data=df_low)\n",
    "plt.subplot(5,2,2)\n",
    "sns.countplot(x=df_high.columns[0], data=df_high)\n",
    "plt.tight_layout(2)\n",
    "plt.subplot(5,2,3)\n",
    "sns.countplot(x=df_low.columns[1], data=df_low)\n",
    "plt.subplot(5,2,4)\n",
    "sns.countplot(x=df_high.columns[1], data=df_high)\n",
    "plt.tight_layout(2)\n",
    "plt.subplot(5,2,5)\n",
    "sns.countplot(x=df_low.columns[2], data=df_low)\n",
    "plt.subplot(5,2,6)\n",
    "sns.countplot(x=df_high.columns[2], data=df_high)\n",
    "plt.tight_layout(2)\n",
    "plt.subplot(5,2,7)\n",
    "sns.countplot(x=df_low.columns[3], data=df_low)\n",
    "plt.subplot(5,2,8)\n",
    "sns.countplot(x=df_high.columns[3], data=df_high)\n",
    "plt.tight_layout(2)\n",
    "plt.subplot(5,2,9)\n",
    "sns.countplot(x=df_low.columns[4], data=df_low)\n",
    "plt.subplot(5,2,10)\n",
    "sns.countplot(x=df_high.columns[4], data=df_high)\n",
    "plt.tight_layout(2)"
   ]
  },
  {
   "cell_type": "code",
   "execution_count": 26,
   "metadata": {},
   "outputs": [
    {
     "data": {
      "text/plain": [
       "[(0, 'ALTERSKATEGORIE_GROB'),\n",
       " (1, 'ANREDE_KZ'),\n",
       " (2, 'CJT_GESAMTTYP'),\n",
       " (3, 'FINANZ_MINIMALIST'),\n",
       " (4, 'FINANZ_SPARER')]"
      ]
     },
     "execution_count": 26,
     "metadata": {},
     "output_type": "execute_result"
    }
   ],
   "source": [
    "list(enumerate(feature))"
   ]
  },
  {
   "cell_type": "markdown",
   "metadata": {},
   "source": [
    "\n",
    "plt.figure(figsize = (12,24))\n",
    "for i in enumerate(feature):\n",
    "    ax=plt.subplot(5,2,i[0]+1) # get the index value from list\n",
    "    sns.countplot(x=i[1], data=df_low, ax=ax)\n",
    "    ax1=plt.subplot(5,2,i[0]+2)\n",
    "    sns.countplot(x=i[1], data=df_high, ax=ax1)"
   ]
  },
  {
   "cell_type": "markdown",
   "metadata": {},
   "source": [
    "#### Discussion 1.1.3: Assess Missing Data in Each Row\n",
    "\n",
    "(Double-click this cell and replace this text with your own text, reporting your observations regarding missing data in rows. Are the data with lots of missing values are qualitatively different from data with few or no missing values?)\n",
    "\n",
    "Yes, in some columns certain values have higher counts than others when compared between the set with few or no missing values vs one with lots of missing values.  "
   ]
  },
  {
   "cell_type": "markdown",
   "metadata": {},
   "source": [
    "### Step 1.2: Select and Re-Encode Features\n",
    "\n",
    "Checking for missing data isn't the only way in which you can prepare a dataset for analysis. Since the unsupervised learning techniques to be used will only work on data that is encoded numerically, you need to make a few encoding changes or additional assumptions to be able to make progress. In addition, while almost all of the values in the dataset are encoded using numbers, not all of them represent numeric values. Check the third column of the feature summary (`feat_info`) for a summary of types of measurement.\n",
    "- For numeric and interval data, these features can be kept without changes.\n",
    "- Most of the variables in the dataset are ordinal in nature. While ordinal values may technically be non-linear in spacing, make the simplifying assumption that the ordinal variables can be treated as being interval in nature (that is, kept without any changes).\n",
    "- Special handling may be necessary for the remaining two variable types: categorical, and 'mixed'.\n",
    "\n",
    "In the first two parts of this sub-step, you will perform an investigation of the categorical and mixed-type features and make a decision on each of them, whether you will keep, drop, or re-encode each. Then, in the last part, you will create a new data frame with only the selected and engineered columns.\n",
    "\n",
    "Data wrangling is often the trickiest part of the data analysis process, and there's a lot of it to be done here. But stick with it: once you're done with this step, you'll be ready to get to the machine learning parts of the project!"
   ]
  },
  {
   "cell_type": "code",
   "execution_count": 27,
   "metadata": {
    "scrolled": true
   },
   "outputs": [
    {
     "name": "stdout",
     "output_type": "stream",
     "text": [
      "ordinal        49\n",
      "categorical    21\n",
      "mixed           7\n",
      "numeric         7\n",
      "interval        1\n",
      "Name: type, dtype: int64\n"
     ]
    }
   ],
   "source": [
    "# How many features are there of each data type? special handling needed for categorical, and 'mixed'\n",
    "print (feat_info['type'].value_counts())"
   ]
  },
  {
   "cell_type": "markdown",
   "metadata": {},
   "source": [
    "#### Step 1.2.1: Re-Encode Categorical Features\n",
    "\n",
    "For categorical data, you would ordinarily need to encode the levels as dummy variables. Depending on the number of categories, perform one of the following:\n",
    "- For binary (two-level) categoricals that take numeric values, you can keep them without needing to do anything.\n",
    "- There is one binary variable that takes on non-numeric values. For this one, you need to re-encode the values as numbers or create a dummy variable.\n",
    "- For multi-level categoricals (three or more values), you can choose to encode the values using multiple dummy variables (e.g. via [OneHotEncoder](http://scikit-learn.org/stable/modules/generated/sklearn.preprocessing.OneHotEncoder.html)), or (to keep things straightforward) just drop them from the analysis. As always, document your choices in the Discussion section."
   ]
  },
  {
   "cell_type": "code",
   "execution_count": 28,
   "metadata": {},
   "outputs": [],
   "source": [
    "# Assess categorical variables: which are binary, which are multi-level, and\n",
    "# which one needs to be re-encoded?\n",
    "ordinal = feat_info[feat_info['type']=='ordinal']\n",
    "mixed = feat_info[feat_info['type']=='mixed']\n",
    "numeric = feat_info[feat_info['type']=='numeric']\n",
    "categorical = feat_info[feat_info['type']=='categorical']\n",
    "interval = feat_info[feat_info['type']=='interval'] #ALTER_HH this column has been dropped"
   ]
  },
  {
   "cell_type": "code",
   "execution_count": 29,
   "metadata": {},
   "outputs": [],
   "source": [
    "categorical_feat = categorical['attribute']\n",
    "#print(categorical_feat)\n",
    "\n",
    "#for j in enumerate(categorical_feat):\n",
    "#    if j[1] not in ['AGER_TYP', 'GEBURTSJAHR','TITEL_KZ','ALTER_HH', 'KK_KUNDENTYP','KBA05_BAUMAX']:\n",
    "#        print (low_set[j[1]].value_counts())"
   ]
  },
  {
   "cell_type": "code",
   "execution_count": 30,
   "metadata": {},
   "outputs": [],
   "source": [
    "ordinal_feat = ordinal['attribute']\n",
    "#for j in enumerate(ordinal_feat):\n",
    "#    if j[1] not in ['AGER_TYP', 'GEBURTSJAHR','TITEL_KZ','ALTER_HH', 'KK_KUNDENTYP','KBA05_BAUMAX']:\n",
    "#        print (low_set[j[1]].value_counts())"
   ]
  },
  {
   "cell_type": "code",
   "execution_count": 31,
   "metadata": {},
   "outputs": [],
   "source": [
    "#mixed_feat = mixed['attribute']\n",
    "#for j in enumerate(mixed_feat):\n",
    "#    if j[1] not in ['AGER_TYP', 'GEBURTSJAHR','TITEL_KZ','ALTER_HH', 'KK_KUNDENTYP','KBA05_BAUMAX']:\n",
    "#        print (low_set[j[1]].value_counts())"
   ]
  },
  {
   "cell_type": "code",
   "execution_count": 32,
   "metadata": {},
   "outputs": [],
   "source": [
    "numeric_feat = numeric['attribute']\n",
    "#for j in enumerate(numeric_feat):\n",
    "#    if j[1] not in ['AGER_TYP', 'GEBURTSJAHR','TITEL_KZ','ALTER_HH', 'KK_KUNDENTYP','KBA05_BAUMAX']:\n",
    "#        print (low_set[j[1]].value_counts())"
   ]
  },
  {
   "cell_type": "code",
   "execution_count": 33,
   "metadata": {},
   "outputs": [
    {
     "name": "stdout",
     "output_type": "stream",
     "text": [
      "43    ALTER_HH\n",
      "Name: attribute, dtype: object\n"
     ]
    }
   ],
   "source": [
    "interval_feat = interval['attribute']\n",
    "print(interval_feat)\n",
    "for j in enumerate(interval_feat):\n",
    "    if j[1] not in ['AGER_TYP', 'GEBURTSJAHR','TITEL_KZ','ALTER_HH', 'KK_KUNDENTYP','KBA05_BAUMAX']:\n",
    "        print (low_set[j[1]].value_counts())"
   ]
  },
  {
   "cell_type": "code",
   "execution_count": 34,
   "metadata": {},
   "outputs": [
    {
     "name": "stdout",
     "output_type": "stream",
     "text": [
      "1    629388\n",
      "0    168518\n",
      "Name: OST_WEST_KZ, dtype: int64\n"
     ]
    },
    {
     "name": "stderr",
     "output_type": "stream",
     "text": [
      "/opt/conda/lib/python3.6/site-packages/ipykernel_launcher.py:1: SettingWithCopyWarning: \n",
      "A value is trying to be set on a copy of a slice from a DataFrame.\n",
      "Try using .loc[row_indexer,col_indexer] = value instead\n",
      "\n",
      "See the caveats in the documentation: http://pandas.pydata.org/pandas-docs/stable/indexing.html#indexing-view-versus-copy\n",
      "  \"\"\"Entry point for launching an IPython kernel.\n"
     ]
    }
   ],
   "source": [
    "low_set['OST_WEST_KZ'] = low_set['OST_WEST_KZ'].replace({'O':0,'W':1})\n",
    "\n",
    "print (low_set['OST_WEST_KZ'].value_counts())"
   ]
  },
  {
   "cell_type": "code",
   "execution_count": 35,
   "metadata": {},
   "outputs": [],
   "source": [
    "azdias_df=low_set[['ALTERSKATEGORIE_GROB','ANREDE_KZ','ANZ_TITEL','HH_EINKOMMEN_SCORE','OST_WEST_KZ','WOHNLAGE','EWDICHTE',\n",
    "                  'INNENSTADT','GEBAEUDETYP_RASTER','KKK','REGIOTYP','ARBEIT','ORTSGR_KLS9','PRAEGENDE_JUGENDJAHRE',\n",
    " 'CAMEO_INTL_2015','FINANZTYP','GFK_URLAUBERTYP','LP_FAMILIE_FEIN','LP_STATUS_GROB','GEBAEUDETYP','CAMEO_DEU_2015']]"
   ]
  },
  {
   "cell_type": "code",
   "execution_count": 36,
   "metadata": {},
   "outputs": [
    {
     "name": "stdout",
     "output_type": "stream",
     "text": [
      "categorical:\n",
      " ['AGER_TYP', 'ANREDE_KZ', 'CJT_GESAMTTYP', 'FINANZTYP', 'GFK_URLAUBERTYP', 'GREEN_AVANTGARDE', 'LP_FAMILIE_FEIN', 'LP_FAMILIE_GROB', 'LP_STATUS_FEIN', 'LP_STATUS_GROB', 'NATIONALITAET_KZ', 'SHOPPER_TYP', 'SOHO_KZ', 'TITEL_KZ', 'VERS_TYP', 'ZABEOTYP', 'KK_KUNDENTYP', 'GEBAEUDETYP', 'OST_WEST_KZ', 'CAMEO_DEUG_2015', 'CAMEO_DEU_2015']\n",
      "ordinal:\n",
      " ['ALTERSKATEGORIE_GROB', 'FINANZ_MINIMALIST', 'FINANZ_SPARER', 'FINANZ_VORSORGER', 'FINANZ_ANLEGER', 'FINANZ_UNAUFFAELLIGER', 'FINANZ_HAUSBAUER', 'HEALTH_TYP', 'RETOURTYP_BK_S', 'SEMIO_SOZ', 'SEMIO_FAM', 'SEMIO_REL', 'SEMIO_MAT', 'SEMIO_VERT', 'SEMIO_LUST', 'SEMIO_ERL', 'SEMIO_KULT', 'SEMIO_RAT', 'SEMIO_KRIT', 'SEMIO_DOM', 'SEMIO_KAEM', 'SEMIO_PFLICHT', 'SEMIO_TRADV', 'HH_EINKOMMEN_SCORE', 'W_KEIT_KIND_HH', 'WOHNDAUER_2008', 'KONSUMNAEHE', 'KBA05_ANTG1', 'KBA05_ANTG2', 'KBA05_ANTG3', 'KBA05_ANTG4', 'KBA05_GBZ', 'BALLRAUM', 'EWDICHTE', 'INNENSTADT', 'GEBAEUDETYP_RASTER', 'KKK', 'MOBI_REGIO', 'ONLINE_AFFINITAET', 'REGIOTYP', 'PLZ8_ANTG1', 'PLZ8_ANTG2', 'PLZ8_ANTG3', 'PLZ8_ANTG4', 'PLZ8_HHZ', 'PLZ8_GBZ', 'ARBEIT', 'ORTSGR_KLS9', 'RELAT_AB']\n",
      "numeric:\n",
      " ['GEBURTSJAHR', 'ANZ_PERSONEN', 'ANZ_TITEL', 'ANZ_HAUSHALTE_AKTIV', 'ANZ_HH_TITEL', 'MIN_GEBAEUDEJAHR', 'KBA13_ANZAHL_PKW']\n"
     ]
    }
   ],
   "source": [
    "print('categorical:\\n', list(categorical_feat))\n",
    "print('ordinal:\\n',list(ordinal_feat))\n",
    "print('numeric:\\n',list(numeric_feat))"
   ]
  },
  {
   "cell_type": "code",
   "execution_count": 37,
   "metadata": {},
   "outputs": [],
   "source": [
    "#categorical_feat \n",
    "# these are the categorical features chosen\n",
    "cat_feat_chosen = ['ANREDE_KZ','FINANZTYP','GFK_URLAUBERTYP','LP_FAMILIE_FEIN','LP_STATUS_GROB','GEBAEUDETYP','OST_WEST_KZ','CAMEO_DEU_2015']\n",
    "# ANREDE_KZ (2), OST_WEST_KZ (2), OPT: GREEN_AVANTGARDE (2), SOHO_K2 (2) \n",
    "to_encode= ['FINANZTYP','GFK_URLAUBERTYP','LP_FAMILIE_FEIN','LP_STATUS_GROB','GEBAEUDETYP','CAMEO_DEU_2015']\n",
    "ordinal_feat_chosen = ['ALTERSKATEGORIE_GROB','HH_EINKOMMEN_SCORE','WOHNLAGE','EWDICHTE',\n",
    "                  'INNENSTADT','GEBAEUDETYP_RASTER','KKK','REGIOTYP','ARBEIT','ORTSGR_KLS9']\n",
    "numeric_feat_chosen = ['ANZ_TITEL']"
   ]
  },
  {
   "cell_type": "code",
   "execution_count": 38,
   "metadata": {},
   "outputs": [
    {
     "data": {
      "text/plain": [
       "[(0, 'ANREDE_KZ'),\n",
       " (1, 'FINANZTYP'),\n",
       " (2, 'GFK_URLAUBERTYP'),\n",
       " (3, 'LP_FAMILIE_FEIN'),\n",
       " (4, 'LP_STATUS_GROB'),\n",
       " (5, 'GEBAEUDETYP'),\n",
       " (6, 'OST_WEST_KZ'),\n",
       " (7, 'CAMEO_DEU_2015')]"
      ]
     },
     "execution_count": 38,
     "metadata": {},
     "output_type": "execute_result"
    }
   ],
   "source": [
    "#print(cat_feat_chosen)\n",
    "list(enumerate(cat_feat_chosen))"
   ]
  },
  {
   "cell_type": "code",
   "execution_count": 39,
   "metadata": {},
   "outputs": [
    {
     "name": "stderr",
     "output_type": "stream",
     "text": [
      "/opt/conda/lib/python3.6/site-packages/pandas/core/indexing.py:543: SettingWithCopyWarning: \n",
      "A value is trying to be set on a copy of a slice from a DataFrame.\n",
      "Try using .loc[row_indexer,col_indexer] = value instead\n",
      "\n",
      "See the caveats in the documentation: http://pandas.pydata.org/pandas-docs/stable/indexing.html#indexing-view-versus-copy\n",
      "  self.obj[item] = s\n"
     ]
    }
   ],
   "source": [
    "for c in enumerate(cat_feat_chosen):\n",
    "    azdias_df.loc[:,c[1]] = azdias_df.fillna(azdias_df.loc[:, c[1]].value_counts().index[0])\n",
    "    #print(azdias_df.loc[:,c[1]].isnull().sum(), c[1])"
   ]
  },
  {
   "cell_type": "code",
   "execution_count": 40,
   "metadata": {},
   "outputs": [
    {
     "name": "stdout",
     "output_type": "stream",
     "text": [
      "(797906, 21)\n"
     ]
    },
    {
     "data": {
      "text/html": [
       "<div>\n",
       "<style scoped>\n",
       "    .dataframe tbody tr th:only-of-type {\n",
       "        vertical-align: middle;\n",
       "    }\n",
       "\n",
       "    .dataframe tbody tr th {\n",
       "        vertical-align: top;\n",
       "    }\n",
       "\n",
       "    .dataframe thead th {\n",
       "        text-align: right;\n",
       "    }\n",
       "</style>\n",
       "<table border=\"1\" class=\"dataframe\">\n",
       "  <thead>\n",
       "    <tr style=\"text-align: right;\">\n",
       "      <th></th>\n",
       "      <th>ALTERSKATEGORIE_GROB</th>\n",
       "      <th>ANREDE_KZ</th>\n",
       "      <th>ANZ_TITEL</th>\n",
       "      <th>HH_EINKOMMEN_SCORE</th>\n",
       "      <th>OST_WEST_KZ</th>\n",
       "      <th>WOHNLAGE</th>\n",
       "      <th>EWDICHTE</th>\n",
       "      <th>INNENSTADT</th>\n",
       "      <th>GEBAEUDETYP_RASTER</th>\n",
       "      <th>KKK</th>\n",
       "      <th>...</th>\n",
       "      <th>ARBEIT</th>\n",
       "      <th>ORTSGR_KLS9</th>\n",
       "      <th>PRAEGENDE_JUGENDJAHRE</th>\n",
       "      <th>CAMEO_INTL_2015</th>\n",
       "      <th>FINANZTYP</th>\n",
       "      <th>GFK_URLAUBERTYP</th>\n",
       "      <th>LP_FAMILIE_FEIN</th>\n",
       "      <th>LP_STATUS_GROB</th>\n",
       "      <th>GEBAEUDETYP</th>\n",
       "      <th>CAMEO_DEU_2015</th>\n",
       "    </tr>\n",
       "  </thead>\n",
       "  <tbody>\n",
       "    <tr>\n",
       "      <th>1</th>\n",
       "      <td>1.0</td>\n",
       "      <td>2</td>\n",
       "      <td>0.0</td>\n",
       "      <td>6.0</td>\n",
       "      <td>1</td>\n",
       "      <td>4.0</td>\n",
       "      <td>3.0</td>\n",
       "      <td>8.0</td>\n",
       "      <td>3.0</td>\n",
       "      <td>2.0</td>\n",
       "      <td>...</td>\n",
       "      <td>3.0</td>\n",
       "      <td>5.0</td>\n",
       "      <td>14.0</td>\n",
       "      <td>51</td>\n",
       "      <td>1</td>\n",
       "      <td>10.0</td>\n",
       "      <td>5.0</td>\n",
       "      <td>1.0</td>\n",
       "      <td>8.0</td>\n",
       "      <td>8A</td>\n",
       "    </tr>\n",
       "    <tr>\n",
       "      <th>2</th>\n",
       "      <td>3.0</td>\n",
       "      <td>2</td>\n",
       "      <td>0.0</td>\n",
       "      <td>4.0</td>\n",
       "      <td>1</td>\n",
       "      <td>2.0</td>\n",
       "      <td>4.0</td>\n",
       "      <td>4.0</td>\n",
       "      <td>4.0</td>\n",
       "      <td>2.0</td>\n",
       "      <td>...</td>\n",
       "      <td>3.0</td>\n",
       "      <td>5.0</td>\n",
       "      <td>15.0</td>\n",
       "      <td>24</td>\n",
       "      <td>1</td>\n",
       "      <td>10.0</td>\n",
       "      <td>1.0</td>\n",
       "      <td>2.0</td>\n",
       "      <td>1.0</td>\n",
       "      <td>4C</td>\n",
       "    </tr>\n",
       "    <tr>\n",
       "      <th>3</th>\n",
       "      <td>4.0</td>\n",
       "      <td>2</td>\n",
       "      <td>0.0</td>\n",
       "      <td>1.0</td>\n",
       "      <td>1</td>\n",
       "      <td>7.0</td>\n",
       "      <td>2.0</td>\n",
       "      <td>6.0</td>\n",
       "      <td>4.0</td>\n",
       "      <td>NaN</td>\n",
       "      <td>...</td>\n",
       "      <td>2.0</td>\n",
       "      <td>3.0</td>\n",
       "      <td>8.0</td>\n",
       "      <td>12</td>\n",
       "      <td>6</td>\n",
       "      <td>1.0</td>\n",
       "      <td>1.0</td>\n",
       "      <td>4.0</td>\n",
       "      <td>1.0</td>\n",
       "      <td>2A</td>\n",
       "    </tr>\n",
       "    <tr>\n",
       "      <th>4</th>\n",
       "      <td>3.0</td>\n",
       "      <td>1</td>\n",
       "      <td>0.0</td>\n",
       "      <td>5.0</td>\n",
       "      <td>1</td>\n",
       "      <td>3.0</td>\n",
       "      <td>5.0</td>\n",
       "      <td>1.0</td>\n",
       "      <td>5.0</td>\n",
       "      <td>3.0</td>\n",
       "      <td>...</td>\n",
       "      <td>4.0</td>\n",
       "      <td>6.0</td>\n",
       "      <td>8.0</td>\n",
       "      <td>43</td>\n",
       "      <td>5</td>\n",
       "      <td>5.0</td>\n",
       "      <td>10.0</td>\n",
       "      <td>2.0</td>\n",
       "      <td>1.0</td>\n",
       "      <td>6B</td>\n",
       "    </tr>\n",
       "    <tr>\n",
       "      <th>5</th>\n",
       "      <td>1.0</td>\n",
       "      <td>2</td>\n",
       "      <td>0.0</td>\n",
       "      <td>5.0</td>\n",
       "      <td>1</td>\n",
       "      <td>7.0</td>\n",
       "      <td>2.0</td>\n",
       "      <td>7.0</td>\n",
       "      <td>4.0</td>\n",
       "      <td>4.0</td>\n",
       "      <td>...</td>\n",
       "      <td>2.0</td>\n",
       "      <td>3.0</td>\n",
       "      <td>3.0</td>\n",
       "      <td>54</td>\n",
       "      <td>2</td>\n",
       "      <td>1.0</td>\n",
       "      <td>1.0</td>\n",
       "      <td>2.0</td>\n",
       "      <td>1.0</td>\n",
       "      <td>8C</td>\n",
       "    </tr>\n",
       "  </tbody>\n",
       "</table>\n",
       "<p>5 rows × 21 columns</p>\n",
       "</div>"
      ],
      "text/plain": [
       "   ALTERSKATEGORIE_GROB  ANREDE_KZ  ANZ_TITEL  HH_EINKOMMEN_SCORE  \\\n",
       "1                   1.0          2        0.0                 6.0   \n",
       "2                   3.0          2        0.0                 4.0   \n",
       "3                   4.0          2        0.0                 1.0   \n",
       "4                   3.0          1        0.0                 5.0   \n",
       "5                   1.0          2        0.0                 5.0   \n",
       "\n",
       "   OST_WEST_KZ  WOHNLAGE  EWDICHTE  INNENSTADT  GEBAEUDETYP_RASTER  KKK  \\\n",
       "1            1       4.0       3.0         8.0                 3.0  2.0   \n",
       "2            1       2.0       4.0         4.0                 4.0  2.0   \n",
       "3            1       7.0       2.0         6.0                 4.0  NaN   \n",
       "4            1       3.0       5.0         1.0                 5.0  3.0   \n",
       "5            1       7.0       2.0         7.0                 4.0  4.0   \n",
       "\n",
       "        ...        ARBEIT  ORTSGR_KLS9  PRAEGENDE_JUGENDJAHRE  \\\n",
       "1       ...           3.0          5.0                   14.0   \n",
       "2       ...           3.0          5.0                   15.0   \n",
       "3       ...           2.0          3.0                    8.0   \n",
       "4       ...           4.0          6.0                    8.0   \n",
       "5       ...           2.0          3.0                    3.0   \n",
       "\n",
       "   CAMEO_INTL_2015 FINANZTYP  GFK_URLAUBERTYP  LP_FAMILIE_FEIN  \\\n",
       "1               51         1             10.0              5.0   \n",
       "2               24         1             10.0              1.0   \n",
       "3               12         6              1.0              1.0   \n",
       "4               43         5              5.0             10.0   \n",
       "5               54         2              1.0              1.0   \n",
       "\n",
       "   LP_STATUS_GROB  GEBAEUDETYP  CAMEO_DEU_2015  \n",
       "1             1.0          8.0              8A  \n",
       "2             2.0          1.0              4C  \n",
       "3             4.0          1.0              2A  \n",
       "4             2.0          1.0              6B  \n",
       "5             2.0          1.0              8C  \n",
       "\n",
       "[5 rows x 21 columns]"
      ]
     },
     "execution_count": 40,
     "metadata": {},
     "output_type": "execute_result"
    }
   ],
   "source": [
    "print(azdias_df.shape)\n",
    "azdias_df.head()"
   ]
  },
  {
   "cell_type": "code",
   "execution_count": 41,
   "metadata": {},
   "outputs": [],
   "source": [
    "#to_encode includes categorical features with more than 2 values\n",
    "azdias_df_dum=pd.get_dummies(azdias_df, prefix_sep='_',columns=to_encode, drop_first=True)"
   ]
  },
  {
   "cell_type": "code",
   "execution_count": 42,
   "metadata": {},
   "outputs": [],
   "source": [
    "# should drop 6 original columns which were encoded\n",
    "#'FINANZTYP','GFK_URLAUBERTYP','LP_FAMILIE_FEIN','LP_STATUS_GROB','GEBAEUDETYP','CAMEO_DEU_2015'"
   ]
  },
  {
   "cell_type": "code",
   "execution_count": 43,
   "metadata": {},
   "outputs": [
    {
     "data": {
      "text/plain": [
       "(797906, 94)"
      ]
     },
     "execution_count": 43,
     "metadata": {},
     "output_type": "execute_result"
    }
   ],
   "source": [
    "azdias_df_dum.shape"
   ]
  },
  {
   "cell_type": "code",
   "execution_count": 44,
   "metadata": {},
   "outputs": [],
   "source": [
    "#azdias_df_dum.columns.tolist()"
   ]
  },
  {
   "cell_type": "markdown",
   "metadata": {},
   "source": [
    "#### Discussion 1.2.1: Re-Encode Categorical Features\n",
    "\n",
    "(Double-click this cell and replace this text with your own text, reporting your findings and decisions regarding categorical features. Which ones did you keep, which did you drop, and what engineering steps did you perform?)"
   ]
  },
  {
   "cell_type": "markdown",
   "metadata": {},
   "source": [
    "#### Step 1.2.2: Engineer Mixed-Type Features\n",
    "\n",
    "There are a handful of features that are marked as \"mixed\" in the feature summary that require special treatment in order to be included in the analysis. There are two in particular that deserve attention; the handling of the rest are up to your own choices:\n",
    "- \"PRAEGENDE_JUGENDJAHRE\" combines information on three dimensions: generation by decade, movement (mainstream vs. avantgarde), and nation (east vs. west). While there aren't enough levels to disentangle east from west, you should create two new variables to capture the other two dimensions: an interval-type variable for decade, and a binary variable for movement.\n",
    "- \"CAMEO_INTL_2015\" combines information on two axes: wealth and life stage. Break up the two-digit codes by their 'tens'-place and 'ones'-place digits into two new ordinal variables (which, for the purposes of this project, is equivalent to just treating them as their raw numeric values).\n",
    "- If you decide to keep or engineer new features around the other mixed-type features, make sure you note your steps in the Discussion section.\n",
    "\n",
    "Be sure to check `Data_Dictionary.md` for the details needed to finish these tasks."
   ]
  },
  {
   "cell_type": "code",
   "execution_count": 45,
   "metadata": {},
   "outputs": [
    {
     "data": {
      "text/plain": [
       "(797906, 94)"
      ]
     },
     "execution_count": 45,
     "metadata": {},
     "output_type": "execute_result"
    }
   ],
   "source": [
    "# Investigate \"PRAEGENDE_JUGENDJAHRE\" and engineer two new variables.\n",
    "\n",
    "azdias_df_dum.shape"
   ]
  },
  {
   "cell_type": "code",
   "execution_count": 46,
   "metadata": {},
   "outputs": [
    {
     "data": {
      "text/plain": [
       "14.0    182964\n",
       "8.0     141598\n",
       "10.0     85793\n",
       "5.0      84682\n",
       "3.0      53840\n",
       "15.0     42540\n",
       "11.0     35746\n",
       "9.0      33569\n",
       "6.0      25652\n",
       "12.0     24446\n",
       "1.0      20678\n",
       "4.0      20451\n",
       "2.0       7479\n",
       "13.0      5762\n",
       "7.0       4009\n",
       "Name: PRAEGENDE_JUGENDJAHRE, dtype: int64"
      ]
     },
     "execution_count": 46,
     "metadata": {},
     "output_type": "execute_result"
    }
   ],
   "source": [
    "#azdias_df_dum['PRAEGENDE_JUGENDJAHRE']\n",
    "azdias_df_dum['PRAEGENDE_JUGENDJAHRE'].value_counts()"
   ]
  },
  {
   "cell_type": "code",
   "execution_count": 47,
   "metadata": {},
   "outputs": [],
   "source": [
    "def movement(x):\n",
    "    if x in {1,3,5,8,10,12,14}:\n",
    "        return 0\n",
    "    if x in {2,4,6,7,9,11,13,15}:\n",
    "        return 1\n",
    "azdias_df_dum['PRAEGENDE_JUGENDJAHRE_MVMNT']=azdias_df_dum['PRAEGENDE_JUGENDJAHRE'].apply(movement)"
   ]
  },
  {
   "cell_type": "code",
   "execution_count": 48,
   "metadata": {},
   "outputs": [],
   "source": [
    "def decade(x):\n",
    "    if x in {1,2}:\n",
    "        return 40\n",
    "    if x in {3,4}:\n",
    "        return 50\n",
    "    if x in {5,6,7}:\n",
    "        return 60\n",
    "    if x in {8,9}:\n",
    "        return 70\n",
    "    if x in {10,11,12,13}:\n",
    "        return 80\n",
    "    if x in {14,15}:\n",
    "        return 90\n",
    "azdias_df_dum['PRAEGENDE_JUGENDJAHRE_DECADE']=azdias_df_dum['PRAEGENDE_JUGENDJAHRE'].apply(decade)"
   ]
  },
  {
   "cell_type": "code",
   "execution_count": 49,
   "metadata": {},
   "outputs": [
    {
     "data": {
      "text/plain": [
       "90.0    225504\n",
       "70.0    175167\n",
       "80.0    151747\n",
       "60.0    114343\n",
       "50.0     74291\n",
       "40.0     28157\n",
       "Name: PRAEGENDE_JUGENDJAHRE_DECADE, dtype: int64"
      ]
     },
     "execution_count": 49,
     "metadata": {},
     "output_type": "execute_result"
    }
   ],
   "source": [
    "azdias_df_dum['PRAEGENDE_JUGENDJAHRE_DECADE'].value_counts()"
   ]
  },
  {
   "cell_type": "code",
   "execution_count": 50,
   "metadata": {},
   "outputs": [
    {
     "data": {
      "text/plain": [
       "0.0    594001\n",
       "1.0    175208\n",
       "Name: PRAEGENDE_JUGENDJAHRE_MVMNT, dtype: int64"
      ]
     },
     "execution_count": 50,
     "metadata": {},
     "output_type": "execute_result"
    }
   ],
   "source": [
    "azdias_df_dum['PRAEGENDE_JUGENDJAHRE_MVMNT'].value_counts()"
   ]
  },
  {
   "cell_type": "code",
   "execution_count": 51,
   "metadata": {},
   "outputs": [],
   "source": [
    "azdias_df_dum.drop('PRAEGENDE_JUGENDJAHRE', axis=1, inplace=True)"
   ]
  },
  {
   "cell_type": "code",
   "execution_count": 52,
   "metadata": {},
   "outputs": [
    {
     "data": {
      "text/plain": [
       "(797906, 95)"
      ]
     },
     "execution_count": 52,
     "metadata": {},
     "output_type": "execute_result"
    }
   ],
   "source": [
    "azdias_df_dum.shape # added 2 and dropped 1 94+2-1=95"
   ]
  },
  {
   "cell_type": "code",
   "execution_count": 53,
   "metadata": {},
   "outputs": [
    {
     "data": {
      "text/plain": [
       "6106"
      ]
     },
     "execution_count": 53,
     "metadata": {},
     "output_type": "execute_result"
    }
   ],
   "source": [
    "pd.isnull(azdias_df_dum['CAMEO_INTL_2015']).sum()"
   ]
  },
  {
   "cell_type": "code",
   "execution_count": 54,
   "metadata": {},
   "outputs": [
    {
     "name": "stdout",
     "output_type": "stream",
     "text": [
      "(797906, 97)\n",
      "(797906, 96)\n"
     ]
    },
    {
     "data": {
      "text/plain": [
       "5    223577\n",
       "2    190652\n",
       "4    189959\n",
       "1    119431\n",
       "3     68181\n",
       "n      6106\n",
       "Name: CAMEO_INTL_2015_WEALTH, dtype: int64"
      ]
     },
     "execution_count": 54,
     "metadata": {},
     "output_type": "execute_result"
    }
   ],
   "source": [
    "# Investigate \"CAMEO_INTL_2015\" and engineer two new variables.\n",
    "\n",
    "azdias_df_dum['CAMEO_INTL_2015_WEALTH']=azdias_df_dum['CAMEO_INTL_2015'].astype(str).str[0]\n",
    "azdias_df_dum['CAMEO_INTL_2015_LIFESTG']=azdias_df_dum['CAMEO_INTL_2015'].astype(str).str[1]\n",
    "print(azdias_df_dum.shape)\n",
    "azdias_df_dum.drop('CAMEO_INTL_2015', axis=1, inplace=True)\n",
    "print(azdias_df_dum.shape)\n",
    "azdias_df_dum['CAMEO_INTL_2015_WEALTH'].value_counts()"
   ]
  },
  {
   "cell_type": "code",
   "execution_count": 55,
   "metadata": {},
   "outputs": [
    {
     "data": {
      "text/plain": [
       "1    245039\n",
       "4    232761\n",
       "3    119670\n",
       "5    117040\n",
       "2     77290\n",
       "a      6106\n",
       "Name: CAMEO_INTL_2015_LIFESTG, dtype: int64"
      ]
     },
     "execution_count": 55,
     "metadata": {},
     "output_type": "execute_result"
    }
   ],
   "source": [
    "azdias_df_dum['CAMEO_INTL_2015_LIFESTG'].value_counts()"
   ]
  },
  {
   "cell_type": "code",
   "execution_count": 56,
   "metadata": {},
   "outputs": [],
   "source": [
    "azdias_df_dum['CAMEO_INTL_2015_WEALTH'].replace({'n':azdias_df_dum['CAMEO_INTL_2015_WEALTH'].value_counts().index[0]}, inplace=True)"
   ]
  },
  {
   "cell_type": "code",
   "execution_count": 57,
   "metadata": {},
   "outputs": [],
   "source": [
    "azdias_df_dum['CAMEO_INTL_2015_LIFESTG'].replace({'a':azdias_df_dum['CAMEO_INTL_2015_LIFESTG'].value_counts().index[0]}, inplace=True)"
   ]
  },
  {
   "cell_type": "code",
   "execution_count": 58,
   "metadata": {},
   "outputs": [],
   "source": [
    "azdias_df_dum['CAMEO_INTL_2015_WEALTH']=azdias_df_dum['CAMEO_INTL_2015_WEALTH'].astype(int)\n",
    "azdias_df_dum['CAMEO_INTL_2015_LIFESTG']=azdias_df_dum['CAMEO_INTL_2015_LIFESTG'].astype(int)"
   ]
  },
  {
   "cell_type": "code",
   "execution_count": 59,
   "metadata": {},
   "outputs": [
    {
     "data": {
      "text/plain": [
       "5    229683\n",
       "2    190652\n",
       "4    189959\n",
       "1    119431\n",
       "3     68181\n",
       "Name: CAMEO_INTL_2015_WEALTH, dtype: int64"
      ]
     },
     "execution_count": 59,
     "metadata": {},
     "output_type": "execute_result"
    }
   ],
   "source": [
    "azdias_df_dum['CAMEO_INTL_2015_WEALTH'].value_counts()"
   ]
  },
  {
   "cell_type": "code",
   "execution_count": 60,
   "metadata": {},
   "outputs": [
    {
     "data": {
      "text/plain": [
       "1    251145\n",
       "4    232761\n",
       "3    119670\n",
       "5    117040\n",
       "2     77290\n",
       "Name: CAMEO_INTL_2015_LIFESTG, dtype: int64"
      ]
     },
     "execution_count": 60,
     "metadata": {},
     "output_type": "execute_result"
    }
   ],
   "source": [
    "azdias_df_dum['CAMEO_INTL_2015_LIFESTG'].value_counts()"
   ]
  },
  {
   "cell_type": "code",
   "execution_count": 61,
   "metadata": {},
   "outputs": [],
   "source": [
    "new_columns=['PRAEGENDE_JUGENDJAHRE_DECADE','CAMEO_INTL_2015_WEALTH','CAMEO_INTL_2015_LIFESTG']\n",
    "azdias_df_dum=pd.get_dummies(azdias_df_dum, prefix_sep='_',columns=new_columns, drop_first=True) "
   ]
  },
  {
   "cell_type": "markdown",
   "metadata": {},
   "source": [
    "#### Discussion 1.2.2: Engineer Mixed-Type Features\n",
    "\n",
    "(Double-click this cell and replace this text with your own text, reporting your findings and decisions regarding mixed-value features. Which ones did you keep, which did you drop, and what engineering steps did you perform?)"
   ]
  },
  {
   "cell_type": "markdown",
   "metadata": {},
   "source": [
    "#### Step 1.2.3: Complete Feature Selection\n",
    "\n",
    "In order to finish this step up, you need to make sure that your data frame now only has the columns that you want to keep. To summarize, the dataframe should consist of the following:\n",
    "- All numeric, interval, and ordinal type columns from the original dataset.\n",
    "- Binary categorical features (all numerically-encoded).\n",
    "- Engineered features from other multi-level categorical features and mixed features.\n",
    "\n",
    "Make sure that for any new columns that you have engineered, that you've excluded the original columns from the final dataset. Otherwise, their values will interfere with the analysis later on the project. For example, you should not keep \"PRAEGENDE_JUGENDJAHRE\", since its values won't be useful for the algorithm: only the values derived from it in the engineered features you created should be retained. As a reminder, your data should only be from **the subset with few or no missing values**."
   ]
  },
  {
   "cell_type": "code",
   "execution_count": 62,
   "metadata": {},
   "outputs": [
    {
     "name": "stdout",
     "output_type": "stream",
     "text": [
      "(797906, 106)\n",
      "Index(['ALTERSKATEGORIE_GROB', 'ANREDE_KZ', 'ANZ_TITEL', 'HH_EINKOMMEN_SCORE',\n",
      "       'OST_WEST_KZ', 'WOHNLAGE', 'EWDICHTE', 'INNENSTADT',\n",
      "       'GEBAEUDETYP_RASTER', 'KKK',\n",
      "       ...\n",
      "       'PRAEGENDE_JUGENDJAHRE_DECADE_80.0',\n",
      "       'PRAEGENDE_JUGENDJAHRE_DECADE_90.0', 'CAMEO_INTL_2015_WEALTH_2',\n",
      "       'CAMEO_INTL_2015_WEALTH_3', 'CAMEO_INTL_2015_WEALTH_4',\n",
      "       'CAMEO_INTL_2015_WEALTH_5', 'CAMEO_INTL_2015_LIFESTG_2',\n",
      "       'CAMEO_INTL_2015_LIFESTG_3', 'CAMEO_INTL_2015_LIFESTG_4',\n",
      "       'CAMEO_INTL_2015_LIFESTG_5'],\n",
      "      dtype='object', length=106)\n"
     ]
    }
   ],
   "source": [
    "# If there are other re-engineering tasks you need to perform, make sure you\n",
    "# take care of them here. (Dealing with missing data will come in step 2.1.)\n",
    "print(azdias_df_dum.shape)\n",
    "print(azdias_df_dum.columns)\n",
    "\n",
    "#These still have NaNs.\n",
    "#ordinal_feat_chosen = ['ALTERSKATEGORIE_GROB' (age - ordinal),\n",
    "#'HH_EINKOMMEN_SCORE' (household net income - ordinal),'WOHNLAGE' (neighborhood quality - rural),\n",
    "#'EWDICHTE'(density of households per square kilometer),\n",
    "#'INNENSTADT'(distance to city center - ordinal),'\n",
    "#GEBAEUDETYP_RASTER'(ratio of residential to commercial activity - business, mixed, residential),\n",
    "#'KKK' purchasing power - ordinal),'REGIOTYP' (neighborhood topology - ordinal),'\n",
    "#ARBEIT'(share of unemployment - ordinal),'ORTSGR_KLS9'(size of community - ordinal)]\n",
    "\n",
    "#numeric_feat_chosen = ['ANZ_TITEL' (number of professional academic title holder in household)]"
   ]
  },
  {
   "cell_type": "code",
   "execution_count": 63,
   "metadata": {},
   "outputs": [],
   "source": [
    "# Do whatever you need to in order to ensure that the dataframe only contains\n",
    "# the columns that should be passed to the algorithm functions.\n"
   ]
  },
  {
   "cell_type": "markdown",
   "metadata": {},
   "source": [
    "### Step 1.3: Create a Cleaning Function\n",
    "\n",
    "Even though you've finished cleaning up the general population demographics data, it's important to look ahead to the future and realize that you'll need to perform the same cleaning steps on the customer demographics data. In this substep, complete the function below to execute the main feature selection, encoding, and re-engineering steps you performed above. Then, when it comes to looking at the customer data in Step 3, you can just run this function on that DataFrame to get the trimmed dataset in a single step."
   ]
  },
  {
   "cell_type": "code",
   "execution_count": 64,
   "metadata": {},
   "outputs": [
    {
     "name": "stdout",
     "output_type": "stream",
     "text": [
      "low_set ['ALTERSKATEGORIE_GROB', 'ANREDE_KZ', 'CJT_GESAMTTYP', 'FINANZ_MINIMALIST', 'FINANZ_SPARER', 'FINANZ_VORSORGER', 'FINANZ_ANLEGER', 'FINANZ_UNAUFFAELLIGER', 'FINANZ_HAUSBAUER', 'FINANZTYP', 'GFK_URLAUBERTYP', 'GREEN_AVANTGARDE', 'HEALTH_TYP', 'LP_LEBENSPHASE_FEIN', 'LP_LEBENSPHASE_GROB', 'LP_FAMILIE_FEIN', 'LP_FAMILIE_GROB', 'LP_STATUS_FEIN', 'LP_STATUS_GROB', 'NATIONALITAET_KZ', 'PRAEGENDE_JUGENDJAHRE', 'RETOURTYP_BK_S', 'SEMIO_SOZ', 'SEMIO_FAM', 'SEMIO_REL', 'SEMIO_MAT', 'SEMIO_VERT', 'SEMIO_LUST', 'SEMIO_ERL', 'SEMIO_KULT', 'SEMIO_RAT', 'SEMIO_KRIT', 'SEMIO_DOM', 'SEMIO_KAEM', 'SEMIO_PFLICHT', 'SEMIO_TRADV', 'SHOPPER_TYP', 'SOHO_KZ', 'VERS_TYP', 'ZABEOTYP', 'ANZ_PERSONEN', 'ANZ_TITEL', 'HH_EINKOMMEN_SCORE', 'W_KEIT_KIND_HH', 'WOHNDAUER_2008', 'ANZ_HAUSHALTE_AKTIV', 'ANZ_HH_TITEL', 'GEBAEUDETYP', 'KONSUMNAEHE', 'MIN_GEBAEUDEJAHR', 'OST_WEST_KZ', 'WOHNLAGE', 'CAMEO_DEUG_2015', 'CAMEO_DEU_2015', 'CAMEO_INTL_2015', 'KBA05_ANTG1', 'KBA05_ANTG2', 'KBA05_ANTG3', 'KBA05_ANTG4', 'KBA05_GBZ', 'BALLRAUM', 'EWDICHTE', 'INNENSTADT', 'GEBAEUDETYP_RASTER', 'KKK', 'MOBI_REGIO', 'ONLINE_AFFINITAET', 'REGIOTYP', 'KBA13_ANZAHL_PKW', 'PLZ8_ANTG1', 'PLZ8_ANTG2', 'PLZ8_ANTG3', 'PLZ8_ANTG4', 'PLZ8_BAUMAX', 'PLZ8_HHZ', 'PLZ8_GBZ', 'ARBEIT', 'ORTSGR_KLS9', 'RELAT_AB']\n",
      "low_set (797906, 19)\n"
     ]
    },
    {
     "name": "stderr",
     "output_type": "stream",
     "text": [
      "/opt/conda/lib/python3.6/site-packages/ipykernel_launcher.py:66: SettingWithCopyWarning: \n",
      "A value is trying to be set on a copy of a slice from a DataFrame.\n",
      "Try using .loc[row_indexer,col_indexer] = value instead\n",
      "\n",
      "See the caveats in the documentation: http://pandas.pydata.org/pandas-docs/stable/indexing.html#indexing-view-versus-copy\n",
      "/opt/conda/lib/python3.6/site-packages/pandas/core/indexing.py:543: SettingWithCopyWarning: \n",
      "A value is trying to be set on a copy of a slice from a DataFrame.\n",
      "Try using .loc[row_indexer,col_indexer] = value instead\n",
      "\n",
      "See the caveats in the documentation: http://pandas.pydata.org/pandas-docs/stable/indexing.html#indexing-view-versus-copy\n",
      "  self.obj[item] = s\n"
     ]
    },
    {
     "name": "stdout",
     "output_type": "stream",
     "text": [
      "fillcat (797906, 19)\n",
      "fillcat ['ALTERSKATEGORIE_GROB', 'ANREDE_KZ', 'ANZ_TITEL', 'HH_EINKOMMEN_SCORE', 'OST_WEST_KZ', 'WOHNLAGE', 'EWDICHTE', 'INNENSTADT', 'GEBAEUDETYP_RASTER', 'ARBEIT', 'ORTSGR_KLS9', 'PRAEGENDE_JUGENDJAHRE', 'CAMEO_INTL_2015', 'FINANZTYP', 'GFK_URLAUBERTYP', 'LP_FAMILIE_FEIN', 'LP_STATUS_GROB', 'GEBAEUDETYP', 'CAMEO_DEU_2015']\n",
      "catdum (797906, 92)\n",
      "catdum ['ALTERSKATEGORIE_GROB', 'ANREDE_KZ', 'ANZ_TITEL', 'HH_EINKOMMEN_SCORE', 'OST_WEST_KZ', 'WOHNLAGE', 'EWDICHTE', 'INNENSTADT', 'GEBAEUDETYP_RASTER', 'ARBEIT', 'ORTSGR_KLS9', 'PRAEGENDE_JUGENDJAHRE', 'CAMEO_INTL_2015', 'FINANZTYP_2', 'FINANZTYP_3', 'FINANZTYP_4', 'FINANZTYP_5', 'FINANZTYP_6', 'GFK_URLAUBERTYP_2.0', 'GFK_URLAUBERTYP_3.0', 'GFK_URLAUBERTYP_4.0', 'GFK_URLAUBERTYP_5.0', 'GFK_URLAUBERTYP_6.0', 'GFK_URLAUBERTYP_7.0', 'GFK_URLAUBERTYP_8.0', 'GFK_URLAUBERTYP_9.0', 'GFK_URLAUBERTYP_10.0', 'GFK_URLAUBERTYP_11.0', 'GFK_URLAUBERTYP_12.0', 'LP_FAMILIE_FEIN_2.0', 'LP_FAMILIE_FEIN_3.0', 'LP_FAMILIE_FEIN_4.0', 'LP_FAMILIE_FEIN_5.0', 'LP_FAMILIE_FEIN_6.0', 'LP_FAMILIE_FEIN_7.0', 'LP_FAMILIE_FEIN_8.0', 'LP_FAMILIE_FEIN_9.0', 'LP_FAMILIE_FEIN_10.0', 'LP_FAMILIE_FEIN_11.0', 'LP_STATUS_GROB_2.0', 'LP_STATUS_GROB_3.0', 'LP_STATUS_GROB_4.0', 'LP_STATUS_GROB_5.0', 'GEBAEUDETYP_2.0', 'GEBAEUDETYP_3.0', 'GEBAEUDETYP_4.0', 'GEBAEUDETYP_5.0', 'GEBAEUDETYP_6.0', 'GEBAEUDETYP_8.0', 'CAMEO_DEU_2015_1B', 'CAMEO_DEU_2015_1C', 'CAMEO_DEU_2015_1D', 'CAMEO_DEU_2015_1E', 'CAMEO_DEU_2015_2A', 'CAMEO_DEU_2015_2B', 'CAMEO_DEU_2015_2C', 'CAMEO_DEU_2015_2D', 'CAMEO_DEU_2015_3A', 'CAMEO_DEU_2015_3B', 'CAMEO_DEU_2015_3C', 'CAMEO_DEU_2015_3D', 'CAMEO_DEU_2015_4A', 'CAMEO_DEU_2015_4B', 'CAMEO_DEU_2015_4C', 'CAMEO_DEU_2015_4D', 'CAMEO_DEU_2015_4E', 'CAMEO_DEU_2015_5A', 'CAMEO_DEU_2015_5B', 'CAMEO_DEU_2015_5C', 'CAMEO_DEU_2015_5D', 'CAMEO_DEU_2015_5E', 'CAMEO_DEU_2015_5F', 'CAMEO_DEU_2015_6A', 'CAMEO_DEU_2015_6B', 'CAMEO_DEU_2015_6C', 'CAMEO_DEU_2015_6D', 'CAMEO_DEU_2015_6E', 'CAMEO_DEU_2015_6F', 'CAMEO_DEU_2015_7A', 'CAMEO_DEU_2015_7B', 'CAMEO_DEU_2015_7C', 'CAMEO_DEU_2015_7D', 'CAMEO_DEU_2015_7E', 'CAMEO_DEU_2015_8A', 'CAMEO_DEU_2015_8B', 'CAMEO_DEU_2015_8C', 'CAMEO_DEU_2015_8D', 'CAMEO_DEU_2015_9A', 'CAMEO_DEU_2015_9B', 'CAMEO_DEU_2015_9C', 'CAMEO_DEU_2015_9D', 'CAMEO_DEU_2015_9E']\n",
      "(797906, 94)\n",
      "(797906, 103)\n",
      "Index(['ALTERSKATEGORIE_GROB', 'ANREDE_KZ', 'ANZ_TITEL', 'HH_EINKOMMEN_SCORE',\n",
      "       'OST_WEST_KZ', 'WOHNLAGE', 'EWDICHTE', 'INNENSTADT',\n",
      "       'GEBAEUDETYP_RASTER', 'ARBEIT',\n",
      "       ...\n",
      "       'PRAEGENDE_JUGENDJAHRE_DECADE_4.0', 'PRAEGENDE_JUGENDJAHRE_DECADE_90.0',\n",
      "       'CAMEO_INTL_2015_WEALTH_2', 'CAMEO_INTL_2015_WEALTH_3',\n",
      "       'CAMEO_INTL_2015_WEALTH_4', 'CAMEO_INTL_2015_WEALTH_5',\n",
      "       'CAMEO_INTL_2015_LIFESTG_2', 'CAMEO_INTL_2015_LIFESTG_3',\n",
      "       'CAMEO_INTL_2015_LIFESTG_4', 'CAMEO_INTL_2015_LIFESTG_5'],\n",
      "      dtype='object', length=103)\n"
     ]
    }
   ],
   "source": [
    "def clean_data(df,feat_info):\n",
    "    \n",
    "    \"\"\"\n",
    "    Perform feature trimming, re-encoding, and engineering for demographics\n",
    "    data\n",
    "    \n",
    "    INPUT: Demographics DataFrame\n",
    "    OUTPUT: Trimmed and cleaned demographics DataFrame\n",
    "    \"\"\"\n",
    "    \n",
    "    # Put in code here to execute all main cleaning steps:\n",
    "    \n",
    "    azdias_nan=df.copy()\n",
    "    column1 = feat_info[feat_info['missing_or_unknown']=='[-1]']        \n",
    "    column2 = feat_info[feat_info['missing_or_unknown']=='[-1,9]']\n",
    "    column3 = feat_info[feat_info['missing_or_unknown']=='[-1,0]']\n",
    "    column4 = feat_info[feat_info['missing_or_unknown']=='[0]']\n",
    "    column5 = feat_info[feat_info['missing_or_unknown']=='[-1,XX]']\n",
    "    column6 = feat_info[feat_info['missing_or_unknown']=='[-1,X]']\n",
    "    column7 = feat_info[feat_info['missing_or_unknown']=='[XX]']\n",
    "    column8 = feat_info[feat_info['missing_or_unknown']=='[-1,0,9]']\n",
    "    \n",
    "    # convert missing value codes into NaNs, ...\n",
    "    for i in column1['attribute']:\n",
    "        azdias_nan[i].replace(to_replace=[-1], value=np.nan,inplace = True)\n",
    "\n",
    "    for i in column2['attribute']:\n",
    "        azdias_nan[i].replace(to_replace=[-1,9], value=np.nan,inplace = True)\n",
    "\n",
    "    for i in column3['attribute']:\n",
    "        azdias_nan[i].replace(to_replace=[-1,0], value=np.nan,inplace = True)\n",
    "    \n",
    "    for i in column4['attribute']:\n",
    "        azdias_nan[i].replace(to_replace=[0], value=np.nan,inplace = True)\n",
    "    \n",
    "    for i in column5['attribute']:\n",
    "        azdias_nan[i].replace(to_replace=[-1,'XX'], value=np.nan,inplace = True)\n",
    "    \n",
    "    for i in column6['attribute']:\n",
    "        azdias_nan[i].replace(to_replace=[-1,'X'], value=np.nan,inplace = True)\n",
    "    \n",
    "    for i in column7['attribute']:\n",
    "        azdias_nan[i].replace(to_replace=['XX'], value=np.nan,inplace = True)\n",
    "    \n",
    "    for i in column8['attribute']:\n",
    "        azdias_nan[i].replace(to_replace=[-1,0,9], value=np.nan,inplace = True)\n",
    "    \n",
    "    # remove selected columns and rows, ...\n",
    "    #select colummns\n",
    "    df=azdias_nan.isnull().sum()/len(azdias_nan)>0.30\n",
    "    df_false=df[df.values==False]\n",
    "    df_true=df[df.values==True]\n",
    "    df=azdias_nan[df_false.index]\n",
    "    #select rows\n",
    "    nan_rowwise = df.isnull().sum(axis=1)\n",
    "    low_set = df[nan_rowwise <25]\n",
    "    high_set = df[nan_rowwise >=25]\n",
    "    print('low_set',low_set.columns.tolist())    \n",
    "    # select, re-encode, and engineer column values.\n",
    "    df=low_set[['ALTERSKATEGORIE_GROB','ANREDE_KZ','ANZ_TITEL','HH_EINKOMMEN_SCORE','OST_WEST_KZ','WOHNLAGE',\n",
    "                       'EWDICHTE','INNENSTADT','GEBAEUDETYP_RASTER','ARBEIT','ORTSGR_KLS9',\n",
    "                       'PRAEGENDE_JUGENDJAHRE','CAMEO_INTL_2015','FINANZTYP','GFK_URLAUBERTYP','LP_FAMILIE_FEIN',\n",
    "                       'LP_STATUS_GROB','GEBAEUDETYP','CAMEO_DEU_2015']] #'KKK','REGIOTYP'\n",
    "    print('low_set',df.shape)\n",
    "    \n",
    "    df['OST_WEST_KZ'] = df['OST_WEST_KZ'].replace({'O':0,'W':1})\n",
    "    \n",
    "    cat_feat_chosen = ['ANREDE_KZ','FINANZTYP','GFK_URLAUBERTYP','LP_FAMILIE_FEIN','LP_STATUS_GROB',\n",
    "                       'GEBAEUDETYP','OST_WEST_KZ','CAMEO_DEU_2015']\n",
    "    # ANREDE_KZ (2), OST_WEST_KZ (2), OPT: GREEN_AVANTGARDE (2), SOHO_K2 (2) \n",
    "    \n",
    "    ordinal_feat_chosen = ['ALTERSKATEGORIE_GROB','HH_EINKOMMEN_SCORE','WOHNLAGE','EWDICHTE',\n",
    "                  'INNENSTADT','GEBAEUDETYP_RASTER','ARBEIT','ORTSGR_KLS9'] #'KKK','REGIOTYP'\n",
    "    numeric_feat_chosen = ['ANZ_TITEL']\n",
    "    # catogorical features to be encoded\n",
    "    to_encode= ['FINANZTYP','GFK_URLAUBERTYP','LP_FAMILIE_FEIN','LP_STATUS_GROB','GEBAEUDETYP','CAMEO_DEU_2015']      \n",
    "    \n",
    "    for c in enumerate(cat_feat_chosen):\n",
    "        df.loc[:,c[1]] = df.fillna(df.loc[:, c[1]].value_counts().index[0])\n",
    " \n",
    "    print('fillcat', df.shape)\n",
    "    print('fillcat',df.columns.tolist())  \n",
    "    #to_encode includes categorical features with more than 2 values\n",
    "    df=pd.get_dummies(df, prefix_sep='_',columns=to_encode, drop_first=True)    \n",
    "    \n",
    "    print('catdum',df.shape)   \n",
    "    print('catdum',df.columns.tolist())\n",
    "    def movement(x):\n",
    "        if x in {1,3,5,8,10,12,14}:\n",
    "            return 0\n",
    "        if x in {2,4,6,7,9,11,13,15}:\n",
    "            return 1\n",
    "    df['PRAEGENDE_JUGENDJAHRE_MVMNT']=df['PRAEGENDE_JUGENDJAHRE'].apply(movement)\n",
    "    df['PRAEGENDE_JUGENDJAHRE_MVMNT'] = df.fillna(df['PRAEGENDE_JUGENDJAHRE_MVMNT'].value_counts().index[0])\n",
    "    df['PRAEGENDE_JUGENDJAHRE_MVMNT']=df['PRAEGENDE_JUGENDJAHRE_MVMNT'].astype(int)\n",
    "# 0:Mainstream. 1:Avantgrade\n",
    "    def decade(x):\n",
    "        if x in {1,2}:\n",
    "            return 40\n",
    "        if x in {3,4}:\n",
    "            return 50\n",
    "        if x in {5,6,7}:\n",
    "            return 60\n",
    "        if x in {8,9}:\n",
    "            return 70\n",
    "        if x in {10,11,12,13}:\n",
    "            return 80\n",
    "        if x in {14,15}:\n",
    "            return 90\n",
    "    df['PRAEGENDE_JUGENDJAHRE_DECADE']=df['PRAEGENDE_JUGENDJAHRE'].apply(decade)\n",
    "    df['PRAEGENDE_JUGENDJAHRE_DECADE'] = df.fillna(df['PRAEGENDE_JUGENDJAHRE_DECADE'].value_counts().index[0])\n",
    "    \n",
    "    df.drop('PRAEGENDE_JUGENDJAHRE', axis=1, inplace=True)\n",
    "    \n",
    "    df['CAMEO_INTL_2015_WEALTH']=df['CAMEO_INTL_2015'].astype(str).str[0]\n",
    "    df['CAMEO_INTL_2015_LIFESTG']=df['CAMEO_INTL_2015'].astype(str).str[1]\n",
    "    \n",
    "    df.drop('CAMEO_INTL_2015', axis=1, inplace=True)\n",
    "    \n",
    "    df['CAMEO_INTL_2015_WEALTH'].replace({'n':df['CAMEO_INTL_2015_WEALTH'].value_counts().index[0]}, inplace=True)\n",
    "    df['CAMEO_INTL_2015_LIFESTG'].replace({'a':df['CAMEO_INTL_2015_LIFESTG'].value_counts().index[0]}, inplace=True)\n",
    "    df['CAMEO_INTL_2015_WEALTH']=df['CAMEO_INTL_2015_WEALTH'].astype(int)\n",
    "    df['CAMEO_INTL_2015_LIFESTG']=df['CAMEO_INTL_2015_LIFESTG'].astype(int)\n",
    "    print(df.shape)\n",
    "    #print(df.columns)\n",
    "    new_columns=['PRAEGENDE_JUGENDJAHRE_DECADE','CAMEO_INTL_2015_WEALTH','CAMEO_INTL_2015_LIFESTG']\n",
    "    df=pd.get_dummies(df, prefix_sep='_',columns=new_columns, drop_first=True)   \n",
    "    # Return the cleaned dataframe.\n",
    "    print(df.shape) \n",
    "    print(df.columns)\n",
    "    if 'GEBAEUDETYP_5.0' in df:\n",
    "        df.drop(['GEBAEUDETYP_5.0'],axis = 1, inplace = True)\n",
    "    return df\n",
    "azdias_df_clean=clean_data(azdias,feat_info) "
   ]
  },
  {
   "cell_type": "code",
   "execution_count": 65,
   "metadata": {},
   "outputs": [
    {
     "data": {
      "text/html": [
       "<div>\n",
       "<style scoped>\n",
       "    .dataframe tbody tr th:only-of-type {\n",
       "        vertical-align: middle;\n",
       "    }\n",
       "\n",
       "    .dataframe tbody tr th {\n",
       "        vertical-align: top;\n",
       "    }\n",
       "\n",
       "    .dataframe thead th {\n",
       "        text-align: right;\n",
       "    }\n",
       "</style>\n",
       "<table border=\"1\" class=\"dataframe\">\n",
       "  <thead>\n",
       "    <tr style=\"text-align: right;\">\n",
       "      <th></th>\n",
       "      <th>ALTERSKATEGORIE_GROB</th>\n",
       "      <th>ANREDE_KZ</th>\n",
       "      <th>ANZ_TITEL</th>\n",
       "      <th>HH_EINKOMMEN_SCORE</th>\n",
       "      <th>OST_WEST_KZ</th>\n",
       "      <th>WOHNLAGE</th>\n",
       "      <th>EWDICHTE</th>\n",
       "      <th>INNENSTADT</th>\n",
       "      <th>GEBAEUDETYP_RASTER</th>\n",
       "      <th>ARBEIT</th>\n",
       "      <th>...</th>\n",
       "      <th>PRAEGENDE_JUGENDJAHRE_DECADE_4.0</th>\n",
       "      <th>PRAEGENDE_JUGENDJAHRE_DECADE_90.0</th>\n",
       "      <th>CAMEO_INTL_2015_WEALTH_2</th>\n",
       "      <th>CAMEO_INTL_2015_WEALTH_3</th>\n",
       "      <th>CAMEO_INTL_2015_WEALTH_4</th>\n",
       "      <th>CAMEO_INTL_2015_WEALTH_5</th>\n",
       "      <th>CAMEO_INTL_2015_LIFESTG_2</th>\n",
       "      <th>CAMEO_INTL_2015_LIFESTG_3</th>\n",
       "      <th>CAMEO_INTL_2015_LIFESTG_4</th>\n",
       "      <th>CAMEO_INTL_2015_LIFESTG_5</th>\n",
       "    </tr>\n",
       "  </thead>\n",
       "  <tbody>\n",
       "    <tr>\n",
       "      <th>count</th>\n",
       "      <td>795106.000000</td>\n",
       "      <td>797906.000000</td>\n",
       "      <td>797906.000000</td>\n",
       "      <td>797906.000000</td>\n",
       "      <td>797906.00000</td>\n",
       "      <td>797906.000000</td>\n",
       "      <td>797314.000000</td>\n",
       "      <td>797314.000000</td>\n",
       "      <td>797899.000000</td>\n",
       "      <td>793681.000000</td>\n",
       "      <td>...</td>\n",
       "      <td>797906.000000</td>\n",
       "      <td>797906.000000</td>\n",
       "      <td>797906.000000</td>\n",
       "      <td>797906.00000</td>\n",
       "      <td>797906.000000</td>\n",
       "      <td>797906.000000</td>\n",
       "      <td>797906.000000</td>\n",
       "      <td>797906.000000</td>\n",
       "      <td>797906.000000</td>\n",
       "      <td>797906.000000</td>\n",
       "    </tr>\n",
       "    <tr>\n",
       "      <th>mean</th>\n",
       "      <td>2.795396</td>\n",
       "      <td>1.521476</td>\n",
       "      <td>0.004160</td>\n",
       "      <td>4.413807</td>\n",
       "      <td>0.78880</td>\n",
       "      <td>4.053114</td>\n",
       "      <td>3.939296</td>\n",
       "      <td>4.549364</td>\n",
       "      <td>3.738256</td>\n",
       "      <td>3.166750</td>\n",
       "      <td>...</td>\n",
       "      <td>0.279771</td>\n",
       "      <td>0.003509</td>\n",
       "      <td>0.238940</td>\n",
       "      <td>0.08545</td>\n",
       "      <td>0.238072</td>\n",
       "      <td>0.287857</td>\n",
       "      <td>0.096866</td>\n",
       "      <td>0.149980</td>\n",
       "      <td>0.291715</td>\n",
       "      <td>0.146684</td>\n",
       "    </tr>\n",
       "    <tr>\n",
       "      <th>std</th>\n",
       "      <td>1.018434</td>\n",
       "      <td>0.499539</td>\n",
       "      <td>0.068876</td>\n",
       "      <td>1.545156</td>\n",
       "      <td>0.40816</td>\n",
       "      <td>1.949211</td>\n",
       "      <td>1.718982</td>\n",
       "      <td>2.028929</td>\n",
       "      <td>0.923170</td>\n",
       "      <td>0.999058</td>\n",
       "      <td>...</td>\n",
       "      <td>0.448887</td>\n",
       "      <td>0.059134</td>\n",
       "      <td>0.426437</td>\n",
       "      <td>0.27955</td>\n",
       "      <td>0.425904</td>\n",
       "      <td>0.452765</td>\n",
       "      <td>0.295775</td>\n",
       "      <td>0.357052</td>\n",
       "      <td>0.454552</td>\n",
       "      <td>0.353791</td>\n",
       "    </tr>\n",
       "    <tr>\n",
       "      <th>min</th>\n",
       "      <td>1.000000</td>\n",
       "      <td>1.000000</td>\n",
       "      <td>0.000000</td>\n",
       "      <td>1.000000</td>\n",
       "      <td>0.00000</td>\n",
       "      <td>0.000000</td>\n",
       "      <td>1.000000</td>\n",
       "      <td>1.000000</td>\n",
       "      <td>1.000000</td>\n",
       "      <td>1.000000</td>\n",
       "      <td>...</td>\n",
       "      <td>0.000000</td>\n",
       "      <td>0.000000</td>\n",
       "      <td>0.000000</td>\n",
       "      <td>0.00000</td>\n",
       "      <td>0.000000</td>\n",
       "      <td>0.000000</td>\n",
       "      <td>0.000000</td>\n",
       "      <td>0.000000</td>\n",
       "      <td>0.000000</td>\n",
       "      <td>0.000000</td>\n",
       "    </tr>\n",
       "    <tr>\n",
       "      <th>25%</th>\n",
       "      <td>2.000000</td>\n",
       "      <td>1.000000</td>\n",
       "      <td>0.000000</td>\n",
       "      <td>3.000000</td>\n",
       "      <td>1.00000</td>\n",
       "      <td>3.000000</td>\n",
       "      <td>2.000000</td>\n",
       "      <td>3.000000</td>\n",
       "      <td>3.000000</td>\n",
       "      <td>3.000000</td>\n",
       "      <td>...</td>\n",
       "      <td>0.000000</td>\n",
       "      <td>0.000000</td>\n",
       "      <td>0.000000</td>\n",
       "      <td>0.00000</td>\n",
       "      <td>0.000000</td>\n",
       "      <td>0.000000</td>\n",
       "      <td>0.000000</td>\n",
       "      <td>0.000000</td>\n",
       "      <td>0.000000</td>\n",
       "      <td>0.000000</td>\n",
       "    </tr>\n",
       "    <tr>\n",
       "      <th>50%</th>\n",
       "      <td>3.000000</td>\n",
       "      <td>2.000000</td>\n",
       "      <td>0.000000</td>\n",
       "      <td>5.000000</td>\n",
       "      <td>1.00000</td>\n",
       "      <td>3.000000</td>\n",
       "      <td>4.000000</td>\n",
       "      <td>5.000000</td>\n",
       "      <td>4.000000</td>\n",
       "      <td>3.000000</td>\n",
       "      <td>...</td>\n",
       "      <td>0.000000</td>\n",
       "      <td>0.000000</td>\n",
       "      <td>0.000000</td>\n",
       "      <td>0.00000</td>\n",
       "      <td>0.000000</td>\n",
       "      <td>0.000000</td>\n",
       "      <td>0.000000</td>\n",
       "      <td>0.000000</td>\n",
       "      <td>0.000000</td>\n",
       "      <td>0.000000</td>\n",
       "    </tr>\n",
       "    <tr>\n",
       "      <th>75%</th>\n",
       "      <td>4.000000</td>\n",
       "      <td>2.000000</td>\n",
       "      <td>0.000000</td>\n",
       "      <td>6.000000</td>\n",
       "      <td>1.00000</td>\n",
       "      <td>5.000000</td>\n",
       "      <td>6.000000</td>\n",
       "      <td>6.000000</td>\n",
       "      <td>4.000000</td>\n",
       "      <td>4.000000</td>\n",
       "      <td>...</td>\n",
       "      <td>1.000000</td>\n",
       "      <td>0.000000</td>\n",
       "      <td>0.000000</td>\n",
       "      <td>0.00000</td>\n",
       "      <td>0.000000</td>\n",
       "      <td>1.000000</td>\n",
       "      <td>0.000000</td>\n",
       "      <td>0.000000</td>\n",
       "      <td>1.000000</td>\n",
       "      <td>0.000000</td>\n",
       "    </tr>\n",
       "    <tr>\n",
       "      <th>max</th>\n",
       "      <td>4.000000</td>\n",
       "      <td>2.000000</td>\n",
       "      <td>6.000000</td>\n",
       "      <td>6.000000</td>\n",
       "      <td>1.00000</td>\n",
       "      <td>8.000000</td>\n",
       "      <td>6.000000</td>\n",
       "      <td>8.000000</td>\n",
       "      <td>5.000000</td>\n",
       "      <td>5.000000</td>\n",
       "      <td>...</td>\n",
       "      <td>1.000000</td>\n",
       "      <td>1.000000</td>\n",
       "      <td>1.000000</td>\n",
       "      <td>1.00000</td>\n",
       "      <td>1.000000</td>\n",
       "      <td>1.000000</td>\n",
       "      <td>1.000000</td>\n",
       "      <td>1.000000</td>\n",
       "      <td>1.000000</td>\n",
       "      <td>1.000000</td>\n",
       "    </tr>\n",
       "  </tbody>\n",
       "</table>\n",
       "<p>8 rows × 102 columns</p>\n",
       "</div>"
      ],
      "text/plain": [
       "       ALTERSKATEGORIE_GROB      ANREDE_KZ      ANZ_TITEL  HH_EINKOMMEN_SCORE  \\\n",
       "count         795106.000000  797906.000000  797906.000000       797906.000000   \n",
       "mean               2.795396       1.521476       0.004160            4.413807   \n",
       "std                1.018434       0.499539       0.068876            1.545156   \n",
       "min                1.000000       1.000000       0.000000            1.000000   \n",
       "25%                2.000000       1.000000       0.000000            3.000000   \n",
       "50%                3.000000       2.000000       0.000000            5.000000   \n",
       "75%                4.000000       2.000000       0.000000            6.000000   \n",
       "max                4.000000       2.000000       6.000000            6.000000   \n",
       "\n",
       "        OST_WEST_KZ       WOHNLAGE       EWDICHTE     INNENSTADT  \\\n",
       "count  797906.00000  797906.000000  797314.000000  797314.000000   \n",
       "mean        0.78880       4.053114       3.939296       4.549364   \n",
       "std         0.40816       1.949211       1.718982       2.028929   \n",
       "min         0.00000       0.000000       1.000000       1.000000   \n",
       "25%         1.00000       3.000000       2.000000       3.000000   \n",
       "50%         1.00000       3.000000       4.000000       5.000000   \n",
       "75%         1.00000       5.000000       6.000000       6.000000   \n",
       "max         1.00000       8.000000       6.000000       8.000000   \n",
       "\n",
       "       GEBAEUDETYP_RASTER         ARBEIT            ...              \\\n",
       "count       797899.000000  793681.000000            ...               \n",
       "mean             3.738256       3.166750            ...               \n",
       "std              0.923170       0.999058            ...               \n",
       "min              1.000000       1.000000            ...               \n",
       "25%              3.000000       3.000000            ...               \n",
       "50%              4.000000       3.000000            ...               \n",
       "75%              4.000000       4.000000            ...               \n",
       "max              5.000000       5.000000            ...               \n",
       "\n",
       "       PRAEGENDE_JUGENDJAHRE_DECADE_4.0  PRAEGENDE_JUGENDJAHRE_DECADE_90.0  \\\n",
       "count                     797906.000000                      797906.000000   \n",
       "mean                           0.279771                           0.003509   \n",
       "std                            0.448887                           0.059134   \n",
       "min                            0.000000                           0.000000   \n",
       "25%                            0.000000                           0.000000   \n",
       "50%                            0.000000                           0.000000   \n",
       "75%                            1.000000                           0.000000   \n",
       "max                            1.000000                           1.000000   \n",
       "\n",
       "       CAMEO_INTL_2015_WEALTH_2  CAMEO_INTL_2015_WEALTH_3  \\\n",
       "count             797906.000000              797906.00000   \n",
       "mean                   0.238940                   0.08545   \n",
       "std                    0.426437                   0.27955   \n",
       "min                    0.000000                   0.00000   \n",
       "25%                    0.000000                   0.00000   \n",
       "50%                    0.000000                   0.00000   \n",
       "75%                    0.000000                   0.00000   \n",
       "max                    1.000000                   1.00000   \n",
       "\n",
       "       CAMEO_INTL_2015_WEALTH_4  CAMEO_INTL_2015_WEALTH_5  \\\n",
       "count             797906.000000             797906.000000   \n",
       "mean                   0.238072                  0.287857   \n",
       "std                    0.425904                  0.452765   \n",
       "min                    0.000000                  0.000000   \n",
       "25%                    0.000000                  0.000000   \n",
       "50%                    0.000000                  0.000000   \n",
       "75%                    0.000000                  1.000000   \n",
       "max                    1.000000                  1.000000   \n",
       "\n",
       "       CAMEO_INTL_2015_LIFESTG_2  CAMEO_INTL_2015_LIFESTG_3  \\\n",
       "count              797906.000000              797906.000000   \n",
       "mean                    0.096866                   0.149980   \n",
       "std                     0.295775                   0.357052   \n",
       "min                     0.000000                   0.000000   \n",
       "25%                     0.000000                   0.000000   \n",
       "50%                     0.000000                   0.000000   \n",
       "75%                     0.000000                   0.000000   \n",
       "max                     1.000000                   1.000000   \n",
       "\n",
       "       CAMEO_INTL_2015_LIFESTG_4  CAMEO_INTL_2015_LIFESTG_5  \n",
       "count              797906.000000              797906.000000  \n",
       "mean                    0.291715                   0.146684  \n",
       "std                     0.454552                   0.353791  \n",
       "min                     0.000000                   0.000000  \n",
       "25%                     0.000000                   0.000000  \n",
       "50%                     0.000000                   0.000000  \n",
       "75%                     1.000000                   0.000000  \n",
       "max                     1.000000                   1.000000  \n",
       "\n",
       "[8 rows x 102 columns]"
      ]
     },
     "execution_count": 65,
     "metadata": {},
     "output_type": "execute_result"
    }
   ],
   "source": [
    "azdias_df_clean.describe()\n",
    "#print(azdias_df_clean.describe().columns.tolist())\n",
    "#print(azdias_df_clean.columns.tolist())\n",
    "#'PRAEGENDE_JUGENDJAHRE_MVMNT'"
   ]
  },
  {
   "cell_type": "markdown",
   "metadata": {},
   "source": [
    "## Step 2: Feature Transformation\n",
    "\n",
    "### Step 2.1: Apply Feature Scaling\n",
    "\n",
    "Before we apply dimensionality reduction techniques to the data, we need to perform feature scaling so that the principal component vectors are not influenced by the natural differences in scale for features. Starting from this part of the project, you'll want to keep an eye on the [API reference page for sklearn](http://scikit-learn.org/stable/modules/classes.html) to help you navigate to all of the classes and functions that you'll need. In this substep, you'll need to check the following:\n",
    "\n",
    "- sklearn requires that data not have missing values in order for its estimators to work properly. So, before applying the scaler to your data, make sure that you've cleaned the DataFrame of the remaining missing values. This can be as simple as just removing all data points with missing data, or applying an [Imputer](https://scikit-learn.org/0.16/modules/generated/sklearn.preprocessing.Imputer.html) to replace all missing values. You might also try a more complicated procedure where you temporarily remove missing values in order to compute the scaling parameters before re-introducing those missing values and applying imputation. Think about how much missing data you have and what possible effects each approach might have on your analysis, and justify your decision in the discussion section below.\n",
    "- For the actual scaling function, a [StandardScaler](http://scikit-learn.org/stable/modules/generated/sklearn.preprocessing.StandardScaler.html) instance is suggested, scaling each feature to mean 0 and standard deviation 1.\n",
    "- For these classes, you can make use of the `.fit_transform()` method to both fit a procedure to the data as well as apply the transformation to the data at the same time. Don't forget to keep the fit sklearn objects handy, since you'll be applying them to the customer demographics data towards the end of the project."
   ]
  },
  {
   "cell_type": "code",
   "execution_count": 66,
   "metadata": {},
   "outputs": [
    {
     "name": "stdout",
     "output_type": "stream",
     "text": [
      "(797906, 102)\n",
      "(797906, 102)\n"
     ]
    }
   ],
   "source": [
    "from sklearn.preprocessing import Imputer\n",
    "def imp(df):\n",
    "    print(df.shape)\n",
    "    imputer = Imputer(missing_values=np.nan, strategy='mean', axis=0)\n",
    "    imputer = imputer.fit(df[['ANZ_TITEL']])\n",
    "    df['ANZ_TITEL']=imputer.transform(df[['ANZ_TITEL']])\n",
    "\n",
    "    imputer = Imputer(missing_values=np.nan, strategy='median', axis=0)\n",
    "    imputer = imputer.fit(df[['ANREDE_KZ']])\n",
    "    df['ANREDE_KZ']=imputer.transform(df[['ANREDE_KZ']])\n",
    "\n",
    "#ordinal_feat_chosen = ['ALTERSKATEGORIE_GROB','HH_EINKOMMEN_SCORE','WOHNLAGE','EWDICHTE',\n",
    "#                 'INNENSTADT','GEBAEUDETYP_RASTER','KKK','REGIOTYP','ARBEIT','ORTSGR_KLS9']\n",
    "\n",
    "    df['ALTERSKATEGORIE_GROB'] = imputer.fit_transform(df[['ALTERSKATEGORIE_GROB']])\n",
    "    df['HH_EINKOMMEN_SCORE'] = imputer.fit_transform(df[['HH_EINKOMMEN_SCORE']])\n",
    "    df['WOHNLAGE'] = imputer.fit_transform(df[['WOHNLAGE']])\n",
    "    df['EWDICHTE'] = imputer.fit_transform(df[['EWDICHTE']])\n",
    "    df['INNENSTADT'] = imputer.fit_transform(df[['INNENSTADT']])\n",
    "    df['GEBAEUDETYP_RASTER'] = imputer.fit_transform(df[['GEBAEUDETYP_RASTER']])\n",
    "\n",
    "    #df['KKK'] = imputer.fit_transform(df[['KKK']])\n",
    "    #df['REGIOTYP'] = imputer.fit_transform(df[['REGIOTYP']])\n",
    "    df['ARBEIT'] = imputer.fit_transform(df[['ARBEIT']])\n",
    "    df['ORTSGR_KLS9'] = imputer.fit_transform(df[['ORTSGR_KLS9']])\n",
    "    print(df.shape)\n",
    "    return df\n",
    "azdias_df_imp=imp(azdias_df_clean)"
   ]
  },
  {
   "cell_type": "code",
   "execution_count": 67,
   "metadata": {},
   "outputs": [
    {
     "data": {
      "text/html": [
       "<div>\n",
       "<style scoped>\n",
       "    .dataframe tbody tr th:only-of-type {\n",
       "        vertical-align: middle;\n",
       "    }\n",
       "\n",
       "    .dataframe tbody tr th {\n",
       "        vertical-align: top;\n",
       "    }\n",
       "\n",
       "    .dataframe thead th {\n",
       "        text-align: right;\n",
       "    }\n",
       "</style>\n",
       "<table border=\"1\" class=\"dataframe\">\n",
       "  <thead>\n",
       "    <tr style=\"text-align: right;\">\n",
       "      <th></th>\n",
       "      <th>ALTERSKATEGORIE_GROB</th>\n",
       "      <th>ANREDE_KZ</th>\n",
       "      <th>ANZ_TITEL</th>\n",
       "      <th>HH_EINKOMMEN_SCORE</th>\n",
       "      <th>OST_WEST_KZ</th>\n",
       "      <th>WOHNLAGE</th>\n",
       "      <th>EWDICHTE</th>\n",
       "      <th>INNENSTADT</th>\n",
       "      <th>GEBAEUDETYP_RASTER</th>\n",
       "      <th>ARBEIT</th>\n",
       "      <th>...</th>\n",
       "      <th>PRAEGENDE_JUGENDJAHRE_DECADE_4.0</th>\n",
       "      <th>PRAEGENDE_JUGENDJAHRE_DECADE_90.0</th>\n",
       "      <th>CAMEO_INTL_2015_WEALTH_2</th>\n",
       "      <th>CAMEO_INTL_2015_WEALTH_3</th>\n",
       "      <th>CAMEO_INTL_2015_WEALTH_4</th>\n",
       "      <th>CAMEO_INTL_2015_WEALTH_5</th>\n",
       "      <th>CAMEO_INTL_2015_LIFESTG_2</th>\n",
       "      <th>CAMEO_INTL_2015_LIFESTG_3</th>\n",
       "      <th>CAMEO_INTL_2015_LIFESTG_4</th>\n",
       "      <th>CAMEO_INTL_2015_LIFESTG_5</th>\n",
       "    </tr>\n",
       "  </thead>\n",
       "  <tbody>\n",
       "    <tr>\n",
       "      <th>1</th>\n",
       "      <td>1.0</td>\n",
       "      <td>2.0</td>\n",
       "      <td>0.0</td>\n",
       "      <td>6.0</td>\n",
       "      <td>1</td>\n",
       "      <td>4.0</td>\n",
       "      <td>3.0</td>\n",
       "      <td>8.0</td>\n",
       "      <td>3.0</td>\n",
       "      <td>3.0</td>\n",
       "      <td>...</td>\n",
       "      <td>0</td>\n",
       "      <td>0</td>\n",
       "      <td>0</td>\n",
       "      <td>0</td>\n",
       "      <td>0</td>\n",
       "      <td>1</td>\n",
       "      <td>0</td>\n",
       "      <td>0</td>\n",
       "      <td>0</td>\n",
       "      <td>0</td>\n",
       "    </tr>\n",
       "    <tr>\n",
       "      <th>2</th>\n",
       "      <td>3.0</td>\n",
       "      <td>2.0</td>\n",
       "      <td>0.0</td>\n",
       "      <td>4.0</td>\n",
       "      <td>1</td>\n",
       "      <td>2.0</td>\n",
       "      <td>4.0</td>\n",
       "      <td>4.0</td>\n",
       "      <td>4.0</td>\n",
       "      <td>3.0</td>\n",
       "      <td>...</td>\n",
       "      <td>0</td>\n",
       "      <td>0</td>\n",
       "      <td>1</td>\n",
       "      <td>0</td>\n",
       "      <td>0</td>\n",
       "      <td>0</td>\n",
       "      <td>0</td>\n",
       "      <td>0</td>\n",
       "      <td>1</td>\n",
       "      <td>0</td>\n",
       "    </tr>\n",
       "    <tr>\n",
       "      <th>3</th>\n",
       "      <td>4.0</td>\n",
       "      <td>2.0</td>\n",
       "      <td>0.0</td>\n",
       "      <td>1.0</td>\n",
       "      <td>1</td>\n",
       "      <td>7.0</td>\n",
       "      <td>2.0</td>\n",
       "      <td>6.0</td>\n",
       "      <td>4.0</td>\n",
       "      <td>2.0</td>\n",
       "      <td>...</td>\n",
       "      <td>1</td>\n",
       "      <td>0</td>\n",
       "      <td>0</td>\n",
       "      <td>0</td>\n",
       "      <td>0</td>\n",
       "      <td>0</td>\n",
       "      <td>1</td>\n",
       "      <td>0</td>\n",
       "      <td>0</td>\n",
       "      <td>0</td>\n",
       "    </tr>\n",
       "    <tr>\n",
       "      <th>4</th>\n",
       "      <td>3.0</td>\n",
       "      <td>1.0</td>\n",
       "      <td>0.0</td>\n",
       "      <td>5.0</td>\n",
       "      <td>1</td>\n",
       "      <td>3.0</td>\n",
       "      <td>5.0</td>\n",
       "      <td>1.0</td>\n",
       "      <td>5.0</td>\n",
       "      <td>4.0</td>\n",
       "      <td>...</td>\n",
       "      <td>0</td>\n",
       "      <td>0</td>\n",
       "      <td>0</td>\n",
       "      <td>0</td>\n",
       "      <td>1</td>\n",
       "      <td>0</td>\n",
       "      <td>0</td>\n",
       "      <td>1</td>\n",
       "      <td>0</td>\n",
       "      <td>0</td>\n",
       "    </tr>\n",
       "    <tr>\n",
       "      <th>5</th>\n",
       "      <td>1.0</td>\n",
       "      <td>2.0</td>\n",
       "      <td>0.0</td>\n",
       "      <td>5.0</td>\n",
       "      <td>1</td>\n",
       "      <td>7.0</td>\n",
       "      <td>2.0</td>\n",
       "      <td>7.0</td>\n",
       "      <td>4.0</td>\n",
       "      <td>2.0</td>\n",
       "      <td>...</td>\n",
       "      <td>0</td>\n",
       "      <td>0</td>\n",
       "      <td>0</td>\n",
       "      <td>0</td>\n",
       "      <td>0</td>\n",
       "      <td>1</td>\n",
       "      <td>0</td>\n",
       "      <td>0</td>\n",
       "      <td>1</td>\n",
       "      <td>0</td>\n",
       "    </tr>\n",
       "  </tbody>\n",
       "</table>\n",
       "<p>5 rows × 102 columns</p>\n",
       "</div>"
      ],
      "text/plain": [
       "   ALTERSKATEGORIE_GROB  ANREDE_KZ  ANZ_TITEL  HH_EINKOMMEN_SCORE  \\\n",
       "1                   1.0        2.0        0.0                 6.0   \n",
       "2                   3.0        2.0        0.0                 4.0   \n",
       "3                   4.0        2.0        0.0                 1.0   \n",
       "4                   3.0        1.0        0.0                 5.0   \n",
       "5                   1.0        2.0        0.0                 5.0   \n",
       "\n",
       "   OST_WEST_KZ  WOHNLAGE  EWDICHTE  INNENSTADT  GEBAEUDETYP_RASTER  ARBEIT  \\\n",
       "1            1       4.0       3.0         8.0                 3.0     3.0   \n",
       "2            1       2.0       4.0         4.0                 4.0     3.0   \n",
       "3            1       7.0       2.0         6.0                 4.0     2.0   \n",
       "4            1       3.0       5.0         1.0                 5.0     4.0   \n",
       "5            1       7.0       2.0         7.0                 4.0     2.0   \n",
       "\n",
       "             ...              PRAEGENDE_JUGENDJAHRE_DECADE_4.0  \\\n",
       "1            ...                                             0   \n",
       "2            ...                                             0   \n",
       "3            ...                                             1   \n",
       "4            ...                                             0   \n",
       "5            ...                                             0   \n",
       "\n",
       "   PRAEGENDE_JUGENDJAHRE_DECADE_90.0  CAMEO_INTL_2015_WEALTH_2  \\\n",
       "1                                  0                         0   \n",
       "2                                  0                         1   \n",
       "3                                  0                         0   \n",
       "4                                  0                         0   \n",
       "5                                  0                         0   \n",
       "\n",
       "   CAMEO_INTL_2015_WEALTH_3  CAMEO_INTL_2015_WEALTH_4  \\\n",
       "1                         0                         0   \n",
       "2                         0                         0   \n",
       "3                         0                         0   \n",
       "4                         0                         1   \n",
       "5                         0                         0   \n",
       "\n",
       "   CAMEO_INTL_2015_WEALTH_5  CAMEO_INTL_2015_LIFESTG_2  \\\n",
       "1                         1                          0   \n",
       "2                         0                          0   \n",
       "3                         0                          1   \n",
       "4                         0                          0   \n",
       "5                         1                          0   \n",
       "\n",
       "   CAMEO_INTL_2015_LIFESTG_3  CAMEO_INTL_2015_LIFESTG_4  \\\n",
       "1                          0                          0   \n",
       "2                          0                          1   \n",
       "3                          0                          0   \n",
       "4                          1                          0   \n",
       "5                          0                          1   \n",
       "\n",
       "   CAMEO_INTL_2015_LIFESTG_5  \n",
       "1                          0  \n",
       "2                          0  \n",
       "3                          0  \n",
       "4                          0  \n",
       "5                          0  \n",
       "\n",
       "[5 rows x 102 columns]"
      ]
     },
     "execution_count": 67,
     "metadata": {},
     "output_type": "execute_result"
    }
   ],
   "source": [
    "# If you've not yet cleaned the dataset of all NaN values, then investigate and\n",
    "# do that now.\n",
    "azdias_df_clean.head()"
   ]
  },
  {
   "cell_type": "code",
   "execution_count": 68,
   "metadata": {},
   "outputs": [
    {
     "data": {
      "text/plain": [
       "Index([], dtype='object')"
      ]
     },
     "execution_count": 68,
     "metadata": {},
     "output_type": "execute_result"
    }
   ],
   "source": [
    "azdias_df_imp.columns[(azdias_df_clean.isnull().sum()>0)==True]"
   ]
  },
  {
   "cell_type": "code",
   "execution_count": 69,
   "metadata": {},
   "outputs": [
    {
     "name": "stdout",
     "output_type": "stream",
     "text": [
      "0\n",
      "(797906, 102)\n"
     ]
    }
   ],
   "source": [
    "print(pd.isnull(azdias_df_imp['ANZ_TITEL']).sum())\n",
    "print(azdias_df_imp.shape)"
   ]
  },
  {
   "cell_type": "code",
   "execution_count": 70,
   "metadata": {},
   "outputs": [],
   "source": [
    "# Apply feature scaling to the general population demographics data.\n",
    "from sklearn.preprocessing import StandardScaler\n",
    "def scale(df): \n",
    "    scaler = StandardScaler() # instantiate\n",
    "    scaler.fit(df) #compute the mean & standard which will be used in the next command\n",
    "    azdias_df_trnsf=scaler.transform(df)\n",
    "    return df, scaler\n",
    "azdias_df_trnsf, scaler=scale(azdias_df_imp)"
   ]
  },
  {
   "cell_type": "markdown",
   "metadata": {},
   "source": [
    "### Discussion 2.1: Apply Feature Scaling\n",
    "\n",
    "(Double-click this cell and replace this text with your own text, reporting your decisions regarding feature scaling.)"
   ]
  },
  {
   "cell_type": "markdown",
   "metadata": {},
   "source": [
    "### Step 2.2: Perform Dimensionality Reduction\n",
    "\n",
    "On your scaled data, you are now ready to apply dimensionality reduction techniques.\n",
    "\n",
    "- Use sklearn's [PCA](http://scikit-learn.org/stable/modules/generated/sklearn.decomposition.PCA.html) class to apply principal component analysis on the data, thus finding the vectors of maximal variance in the data. To start, you should not set any parameters (so all components are computed) or set a number of components that is at least half the number of features (so there's enough features to see the general trend in variability).\n",
    "- Check out the ratio of variance explained by each principal component as well as the cumulative variance explained. Try plotting the cumulative or sequential values using matplotlib's [`plot()`](https://matplotlib.org/api/_as_gen/matplotlib.pyplot.plot.html) function. Based on what you find, select a value for the number of transformed features you'll retain for the clustering part of the project.\n",
    "- Once you've made a choice for the number of components to keep, make sure you re-fit a PCA instance to perform the decided-on transformation."
   ]
  },
  {
   "cell_type": "code",
   "execution_count": 71,
   "metadata": {},
   "outputs": [],
   "source": [
    "# Apply PCA to the data. \n",
    "from sklearn.decomposition import PCA\n",
    "def do_pca(n_components, data):\n",
    "#data=StandardScalar().fit.transform(data) this step was skipped since it is already done above\n",
    "    pca=PCA(n_components)\n",
    "    X_pca=pca.fit_transform(data)\n",
    "    return pca, X_pca"
   ]
  },
  {
   "cell_type": "code",
   "execution_count": 72,
   "metadata": {},
   "outputs": [
    {
     "name": "stdout",
     "output_type": "stream",
     "text": [
      "8\n"
     ]
    }
   ],
   "source": [
    "\n",
    "for i in range(0, azdias_df_trnsf.shape[1]):\n",
    "    pca_pop, X_pca_pop=do_pca(i,azdias_df_trnsf)\n",
    "    if pca_pop.explained_variance_ratio_[0:i].sum() >0.8:\n",
    "        print(i)\n",
    "\n",
    "        break"
   ]
  },
  {
   "cell_type": "code",
   "execution_count": 73,
   "metadata": {},
   "outputs": [],
   "source": [
    "pca=PCA(8)\n",
    "pca=pca.fit(azdias_df_trnsf)\n",
    "X_pca_pop=pca.transform(azdias_df_trnsf)"
   ]
  },
  {
   "cell_type": "code",
   "execution_count": 74,
   "metadata": {},
   "outputs": [
    {
     "data": {
      "image/png": "[encoded data removed]",
      "text/plain": [
       "<matplotlib.figure.Figure at 0x7f06da2f5160>"
      ]
     },
     "metadata": {
      "needs_background": "light"
     },
     "output_type": "display_data"
    }
   ],
   "source": [
    "# Investigate the variance accounted for by each principal component.\n",
    "def scree_plot(pca):\n",
    "    '''\n",
    "    Creates a scree plot associated with the principal components \n",
    "    \n",
    "    INPUT: pca - the result of instantian of PCA in scikit learn\n",
    "            \n",
    "    OUTPUT:\n",
    "            None\n",
    "    '''\n",
    "    num_components = len(pca.explained_variance_ratio_)\n",
    "    ind = np.arange(num_components)\n",
    "    vals = pca.explained_variance_ratio_\n",
    " \n",
    "    plt.figure(figsize=(10, 6))\n",
    "    ax = plt.subplot(111)\n",
    "    cumvals = np.cumsum(vals)\n",
    "    ax.bar(ind, vals)\n",
    "    ax.plot(ind, cumvals)\n",
    "    for i in range(num_components):\n",
    "        ax.annotate(r\"%s%%\" % ((str(vals[i]*100)[:4])), (ind[i]+0.2, vals[i]), va=\"bottom\", ha=\"center\", fontsize=12)\n",
    " \n",
    "    ax.xaxis.set_tick_params(width=0)\n",
    "    ax.yaxis.set_tick_params(width=2, length=12)\n",
    " \n",
    "    ax.set_xlabel(\"Principal Component\")\n",
    "    ax.set_ylabel(\"Variance Explained (%)\")\n",
    "    plt.title('Explained Variance Per Principal Component')\n",
    "    \n",
    "\n",
    "scree_plot(pca)"
   ]
  },
  {
   "cell_type": "code",
   "execution_count": 75,
   "metadata": {},
   "outputs": [
    {
     "data": {
      "text/plain": [
       "'\\nfrom sklearn.decomposition import PCA\\ndef do_pca(n_components, data):\\n    pca=PCA(n_components)\\n    X_pca=pca.fit_transform(data)\\n    return pca, X_pca\\n\\npca, X_pca=do_pca(64,azdias_df_clean)\\nX_pca.shape\\n'"
      ]
     },
     "execution_count": 75,
     "metadata": {},
     "output_type": "execute_result"
    }
   ],
   "source": [
    "## Re-apply PCA to the data while selecting for number of components to retain.\n",
    "'''\n",
    "from sklearn.decomposition import PCA\n",
    "def do_pca(n_components, data):\n",
    "    pca=PCA(n_components)\n",
    "    X_pca=pca.fit_transform(data)\n",
    "    return pca, X_pca\n",
    "\n",
    "pca, X_pca=do_pca(64,azdias_df_clean)\n",
    "X_pca.shape\n",
    "'''"
   ]
  },
  {
   "cell_type": "code",
   "execution_count": 76,
   "metadata": {},
   "outputs": [],
   "source": [
    "#scree_plot(pca)"
   ]
  },
  {
   "cell_type": "markdown",
   "metadata": {},
   "source": [
    "### Discussion 2.2: Perform Dimensionality Reduction\n",
    "\n",
    "(Double-click this cell and replace this text with your own text, reporting your findings and decisions regarding dimensionality reduction. How many principal components / transformed features are you retaining for the next step of the analysis?)\n",
    "\n",
    "- 8 principal components account for 80% of the variance\n",
    "- [ 0.53032102  0.13461214  0.1004087   0.09103754  0.05103407  0.03780439\n",
    "  0.03117632  0.02360582]"
   ]
  },
  {
   "cell_type": "markdown",
   "metadata": {},
   "source": [
    "### Step 2.3: Interpret Principal Components\n",
    "\n",
    "Now that we have our transformed principal components, it's a nice idea to check out the weight of each variable on the first few components to see if they can be interpreted in some fashion.\n",
    "\n",
    "As a reminder, each principal component is a unit vector that points in the direction of highest variance (after accounting for the variance captured by earlier principal components). The further a weight is from zero, the more the principal component is in the direction of the corresponding feature. If two features have large weights of the same sign (both positive or both negative), then increases in one tend expect to be associated with increases in the other. To contrast, features with different signs can be expected to show a negative correlation: increases in one variable should result in a decrease in the other.\n",
    "\n",
    "- To investigate the features, you should map each weight to their corresponding feature name, then sort the features according to weight. The most interesting features for each principal component, then, will be those at the beginning and end of the sorted list. Use the data dictionary document to help you understand these most prominent features, their relationships, and what a positive or negative value on the principal component might indicate.\n",
    "- You should investigate and interpret feature associations from the first three principal components in this substep. To help facilitate this, you should write a function that you can call at any time to print the sorted list of feature weights, for the *i*-th principal component. This might come in handy in the next step of the project, when you interpret the tendencies of the discovered clusters."
   ]
  },
  {
   "cell_type": "code",
   "execution_count": 77,
   "metadata": {},
   "outputs": [
    {
     "name": "stdout",
     "output_type": "stream",
     "text": [
      "[ 0.53032102  0.13461214  0.1004087   0.09103754  0.05103407  0.03780439\n",
      "  0.03117632  0.02360582]\n"
     ]
    }
   ],
   "source": [
    "# Map weights for the first principal component to corresponding feature names\n",
    "# and then print the linked values, sorted by weight.\n",
    "# HINT: Try defining a function here or in a new cell that you can reuse in the\n",
    "# other cells.\n",
    "\n",
    "ex_variance = np.var(X_pca_pop, axis=0)\n",
    "ex_variance_ratio=ex_variance/np.sum(ex_variance)\n",
    "print (ex_variance_ratio)"
   ]
  },
  {
   "cell_type": "code",
   "execution_count": 78,
   "metadata": {},
   "outputs": [],
   "source": [
    "def weights(pca,n):\n",
    "    for i in range(n):\n",
    "        print (X_pca_pop[:,i])"
   ]
  },
  {
   "cell_type": "code",
   "execution_count": 79,
   "metadata": {},
   "outputs": [
    {
     "data": {
      "text/plain": [
       "array([-0.41944301,  1.69421035,  0.73591535, ..., -2.05371195,\n",
       "       -2.42707192,  1.2088382 ])"
      ]
     },
     "execution_count": 79,
     "metadata": {},
     "output_type": "execute_result"
    }
   ],
   "source": [
    "# Map weights for the second principal component to corresponding feature names\n",
    "# and then print the linked values, sorted by weight.\n",
    "\n",
    "X_pca_pop[:,1]"
   ]
  },
  {
   "cell_type": "code",
   "execution_count": 80,
   "metadata": {},
   "outputs": [
    {
     "name": "stdout",
     "output_type": "stream",
     "text": [
      "[10, 5, 89, 3, 10, 8, 8, 6]\n"
     ]
    },
    {
     "data": {
      "text/plain": [
       "Index(['ORTSGR_KLS9', 'WOHNLAGE', 'PRAEGENDE_JUGENDJAHRE_MVMNT',\n",
       "       'HH_EINKOMMEN_SCORE', 'ORTSGR_KLS9', 'GEBAEUDETYP_RASTER',\n",
       "       'GEBAEUDETYP_RASTER', 'EWDICHTE'],\n",
       "      dtype='object')"
      ]
     },
     "execution_count": 80,
     "metadata": {},
     "output_type": "execute_result"
    }
   ],
   "source": [
    "# get the index of the most important feature on EACH component\n",
    "n_pcs=pca.components_.shape[0]\n",
    "most_important = [np.abs(pca.components_[i]).argmax() for i in range (n_pcs)]\n",
    "print(most_important)\n",
    "azdias_df_clean.columns[[most_important]]"
   ]
  },
  {
   "cell_type": "code",
   "execution_count": 81,
   "metadata": {},
   "outputs": [
    {
     "data": {
      "text/html": [
       "<div>\n",
       "<style scoped>\n",
       "    .dataframe tbody tr th:only-of-type {\n",
       "        vertical-align: middle;\n",
       "    }\n",
       "\n",
       "    .dataframe tbody tr th {\n",
       "        vertical-align: top;\n",
       "    }\n",
       "\n",
       "    .dataframe thead th {\n",
       "        text-align: right;\n",
       "    }\n",
       "</style>\n",
       "<table border=\"1\" class=\"dataframe\">\n",
       "  <thead>\n",
       "    <tr style=\"text-align: right;\">\n",
       "      <th></th>\n",
       "      <th>0</th>\n",
       "    </tr>\n",
       "  </thead>\n",
       "  <tbody>\n",
       "    <tr>\n",
       "      <th>PC0</th>\n",
       "      <td>ORTSGR_KLS9</td>\n",
       "    </tr>\n",
       "    <tr>\n",
       "      <th>PC1</th>\n",
       "      <td>WOHNLAGE</td>\n",
       "    </tr>\n",
       "    <tr>\n",
       "      <th>PC2</th>\n",
       "      <td>PRAEGENDE_JUGENDJAHRE_MVMNT</td>\n",
       "    </tr>\n",
       "    <tr>\n",
       "      <th>PC3</th>\n",
       "      <td>HH_EINKOMMEN_SCORE</td>\n",
       "    </tr>\n",
       "    <tr>\n",
       "      <th>PC4</th>\n",
       "      <td>ORTSGR_KLS9</td>\n",
       "    </tr>\n",
       "    <tr>\n",
       "      <th>PC5</th>\n",
       "      <td>GEBAEUDETYP_RASTER</td>\n",
       "    </tr>\n",
       "    <tr>\n",
       "      <th>PC6</th>\n",
       "      <td>GEBAEUDETYP_RASTER</td>\n",
       "    </tr>\n",
       "    <tr>\n",
       "      <th>PC7</th>\n",
       "      <td>EWDICHTE</td>\n",
       "    </tr>\n",
       "  </tbody>\n",
       "</table>\n",
       "</div>"
      ],
      "text/plain": [
       "                               0\n",
       "PC0                  ORTSGR_KLS9\n",
       "PC1                     WOHNLAGE\n",
       "PC2  PRAEGENDE_JUGENDJAHRE_MVMNT\n",
       "PC3           HH_EINKOMMEN_SCORE\n",
       "PC4                  ORTSGR_KLS9\n",
       "PC5           GEBAEUDETYP_RASTER\n",
       "PC6           GEBAEUDETYP_RASTER\n",
       "PC7                     EWDICHTE"
      ]
     },
     "execution_count": 81,
     "metadata": {},
     "output_type": "execute_result"
    }
   ],
   "source": [
    "initial_feature_names =azdias_df_clean.columns.tolist() \n",
    "# get the names\n",
    "most_important_names = [initial_feature_names[most_important[i]] for i in range(n_pcs)]\n",
    "\n",
    "# LIST COMPREHENSION HERE AGAIN\n",
    "dic = {'PC{}'.format(i): most_important_names[i] for i in range(n_pcs)}\n",
    "#print(dic)\n",
    "# build the dataframe\n",
    "df = pd.DataFrame.from_dict(dic, orient='index')\n",
    "df"
   ]
  },
  {
   "cell_type": "code",
   "execution_count": 82,
   "metadata": {},
   "outputs": [
    {
     "data": {
      "text/html": [
       "<div>\n",
       "<style scoped>\n",
       "    .dataframe tbody tr th:only-of-type {\n",
       "        vertical-align: middle;\n",
       "    }\n",
       "\n",
       "    .dataframe tbody tr th {\n",
       "        vertical-align: top;\n",
       "    }\n",
       "\n",
       "    .dataframe thead th {\n",
       "        text-align: right;\n",
       "    }\n",
       "</style>\n",
       "<table border=\"1\" class=\"dataframe\">\n",
       "  <thead>\n",
       "    <tr style=\"text-align: right;\">\n",
       "      <th></th>\n",
       "      <th>ALTERSKATEGORIE_GROB</th>\n",
       "      <th>ANREDE_KZ</th>\n",
       "      <th>ANZ_TITEL</th>\n",
       "      <th>HH_EINKOMMEN_SCORE</th>\n",
       "      <th>OST_WEST_KZ</th>\n",
       "      <th>WOHNLAGE</th>\n",
       "      <th>EWDICHTE</th>\n",
       "      <th>INNENSTADT</th>\n",
       "      <th>GEBAEUDETYP_RASTER</th>\n",
       "      <th>ARBEIT</th>\n",
       "      <th>...</th>\n",
       "      <th>PRAEGENDE_JUGENDJAHRE_DECADE_4.0</th>\n",
       "      <th>PRAEGENDE_JUGENDJAHRE_DECADE_90.0</th>\n",
       "      <th>CAMEO_INTL_2015_WEALTH_2</th>\n",
       "      <th>CAMEO_INTL_2015_WEALTH_3</th>\n",
       "      <th>CAMEO_INTL_2015_WEALTH_4</th>\n",
       "      <th>CAMEO_INTL_2015_WEALTH_5</th>\n",
       "      <th>CAMEO_INTL_2015_LIFESTG_2</th>\n",
       "      <th>CAMEO_INTL_2015_LIFESTG_3</th>\n",
       "      <th>CAMEO_INTL_2015_LIFESTG_4</th>\n",
       "      <th>CAMEO_INTL_2015_LIFESTG_5</th>\n",
       "    </tr>\n",
       "  </thead>\n",
       "  <tbody>\n",
       "    <tr>\n",
       "      <th>0</th>\n",
       "      <td>0.025136</td>\n",
       "      <td>-0.000397</td>\n",
       "      <td>-0.000244</td>\n",
       "      <td>-0.136988</td>\n",
       "      <td>0.005630</td>\n",
       "      <td>0.369242</td>\n",
       "      <td>-0.444378</td>\n",
       "      <td>0.468060</td>\n",
       "      <td>0.079340</td>\n",
       "      <td>-0.152270</td>\n",
       "      <td>...</td>\n",
       "      <td>0.010106</td>\n",
       "      <td>-0.000185</td>\n",
       "      <td>0.038380</td>\n",
       "      <td>0.000559</td>\n",
       "      <td>-0.008713</td>\n",
       "      <td>-0.044493</td>\n",
       "      <td>0.012795</td>\n",
       "      <td>0.018301</td>\n",
       "      <td>0.011784</td>\n",
       "      <td>0.000438</td>\n",
       "    </tr>\n",
       "    <tr>\n",
       "      <th>1</th>\n",
       "      <td>0.137203</td>\n",
       "      <td>-0.009293</td>\n",
       "      <td>0.001209</td>\n",
       "      <td>-0.548106</td>\n",
       "      <td>0.040429</td>\n",
       "      <td>-0.716878</td>\n",
       "      <td>-0.053494</td>\n",
       "      <td>0.309639</td>\n",
       "      <td>0.112800</td>\n",
       "      <td>-0.059089</td>\n",
       "      <td>...</td>\n",
       "      <td>0.045234</td>\n",
       "      <td>-0.000528</td>\n",
       "      <td>0.036237</td>\n",
       "      <td>0.004816</td>\n",
       "      <td>-0.015706</td>\n",
       "      <td>-0.086447</td>\n",
       "      <td>0.002536</td>\n",
       "      <td>0.015001</td>\n",
       "      <td>0.042340</td>\n",
       "      <td>0.016273</td>\n",
       "    </tr>\n",
       "    <tr>\n",
       "      <th>2</th>\n",
       "      <td>0.486074</td>\n",
       "      <td>-0.021779</td>\n",
       "      <td>0.001293</td>\n",
       "      <td>-0.388866</td>\n",
       "      <td>0.000056</td>\n",
       "      <td>0.331339</td>\n",
       "      <td>0.064413</td>\n",
       "      <td>-0.442461</td>\n",
       "      <td>-0.011995</td>\n",
       "      <td>-0.076818</td>\n",
       "      <td>...</td>\n",
       "      <td>0.160241</td>\n",
       "      <td>-0.002190</td>\n",
       "      <td>0.016500</td>\n",
       "      <td>0.002230</td>\n",
       "      <td>-0.014239</td>\n",
       "      <td>-0.041873</td>\n",
       "      <td>-0.002778</td>\n",
       "      <td>-0.001306</td>\n",
       "      <td>0.017955</td>\n",
       "      <td>0.017193</td>\n",
       "    </tr>\n",
       "    <tr>\n",
       "      <th>3</th>\n",
       "      <td>-0.442627</td>\n",
       "      <td>-0.006069</td>\n",
       "      <td>0.000774</td>\n",
       "      <td>-0.591397</td>\n",
       "      <td>0.029280</td>\n",
       "      <td>0.140507</td>\n",
       "      <td>0.028777</td>\n",
       "      <td>-0.385030</td>\n",
       "      <td>0.021514</td>\n",
       "      <td>-0.155172</td>\n",
       "      <td>...</td>\n",
       "      <td>-0.153932</td>\n",
       "      <td>0.001797</td>\n",
       "      <td>0.038372</td>\n",
       "      <td>0.006450</td>\n",
       "      <td>-0.024050</td>\n",
       "      <td>-0.083675</td>\n",
       "      <td>0.010889</td>\n",
       "      <td>0.011427</td>\n",
       "      <td>0.029196</td>\n",
       "      <td>-0.010988</td>\n",
       "    </tr>\n",
       "    <tr>\n",
       "      <th>4</th>\n",
       "      <td>0.022789</td>\n",
       "      <td>0.021677</td>\n",
       "      <td>-0.001209</td>\n",
       "      <td>0.324424</td>\n",
       "      <td>0.024051</td>\n",
       "      <td>-0.451231</td>\n",
       "      <td>-0.187985</td>\n",
       "      <td>-0.545888</td>\n",
       "      <td>0.107834</td>\n",
       "      <td>-0.177459</td>\n",
       "      <td>...</td>\n",
       "      <td>0.010844</td>\n",
       "      <td>0.000048</td>\n",
       "      <td>0.005137</td>\n",
       "      <td>-0.005813</td>\n",
       "      <td>0.012070</td>\n",
       "      <td>0.004702</td>\n",
       "      <td>-0.009496</td>\n",
       "      <td>0.006945</td>\n",
       "      <td>0.004057</td>\n",
       "      <td>0.003516</td>\n",
       "    </tr>\n",
       "  </tbody>\n",
       "</table>\n",
       "<p>5 rows × 102 columns</p>\n",
       "</div>"
      ],
      "text/plain": [
       "   ALTERSKATEGORIE_GROB  ANREDE_KZ  ANZ_TITEL  HH_EINKOMMEN_SCORE  \\\n",
       "0              0.025136  -0.000397  -0.000244           -0.136988   \n",
       "1              0.137203  -0.009293   0.001209           -0.548106   \n",
       "2              0.486074  -0.021779   0.001293           -0.388866   \n",
       "3             -0.442627  -0.006069   0.000774           -0.591397   \n",
       "4              0.022789   0.021677  -0.001209            0.324424   \n",
       "\n",
       "   OST_WEST_KZ  WOHNLAGE  EWDICHTE  INNENSTADT  GEBAEUDETYP_RASTER    ARBEIT  \\\n",
       "0     0.005630  0.369242 -0.444378    0.468060            0.079340 -0.152270   \n",
       "1     0.040429 -0.716878 -0.053494    0.309639            0.112800 -0.059089   \n",
       "2     0.000056  0.331339  0.064413   -0.442461           -0.011995 -0.076818   \n",
       "3     0.029280  0.140507  0.028777   -0.385030            0.021514 -0.155172   \n",
       "4     0.024051 -0.451231 -0.187985   -0.545888            0.107834 -0.177459   \n",
       "\n",
       "             ...              PRAEGENDE_JUGENDJAHRE_DECADE_4.0  \\\n",
       "0            ...                                      0.010106   \n",
       "1            ...                                      0.045234   \n",
       "2            ...                                      0.160241   \n",
       "3            ...                                     -0.153932   \n",
       "4            ...                                      0.010844   \n",
       "\n",
       "   PRAEGENDE_JUGENDJAHRE_DECADE_90.0  CAMEO_INTL_2015_WEALTH_2  \\\n",
       "0                          -0.000185                  0.038380   \n",
       "1                          -0.000528                  0.036237   \n",
       "2                          -0.002190                  0.016500   \n",
       "3                           0.001797                  0.038372   \n",
       "4                           0.000048                  0.005137   \n",
       "\n",
       "   CAMEO_INTL_2015_WEALTH_3  CAMEO_INTL_2015_WEALTH_4  \\\n",
       "0                  0.000559                 -0.008713   \n",
       "1                  0.004816                 -0.015706   \n",
       "2                  0.002230                 -0.014239   \n",
       "3                  0.006450                 -0.024050   \n",
       "4                 -0.005813                  0.012070   \n",
       "\n",
       "   CAMEO_INTL_2015_WEALTH_5  CAMEO_INTL_2015_LIFESTG_2  \\\n",
       "0                 -0.044493                   0.012795   \n",
       "1                 -0.086447                   0.002536   \n",
       "2                 -0.041873                  -0.002778   \n",
       "3                 -0.083675                   0.010889   \n",
       "4                  0.004702                  -0.009496   \n",
       "\n",
       "   CAMEO_INTL_2015_LIFESTG_3  CAMEO_INTL_2015_LIFESTG_4  \\\n",
       "0                   0.018301                   0.011784   \n",
       "1                   0.015001                   0.042340   \n",
       "2                  -0.001306                   0.017955   \n",
       "3                   0.011427                   0.029196   \n",
       "4                   0.006945                   0.004057   \n",
       "\n",
       "   CAMEO_INTL_2015_LIFESTG_5  \n",
       "0                   0.000438  \n",
       "1                   0.016273  \n",
       "2                   0.017193  \n",
       "3                  -0.010988  \n",
       "4                   0.003516  \n",
       "\n",
       "[5 rows x 102 columns]"
      ]
     },
     "execution_count": 82,
     "metadata": {},
     "output_type": "execute_result"
    }
   ],
   "source": [
    "# Map weights for the third principal component to corresponding feature names\n",
    "# and then print the linked values, sorted by weight.\n",
    "\n",
    "#print(abs(pca.components_))\n",
    "df=pd.DataFrame(pca.components_, columns=azdias_df_clean.columns.tolist() )\n",
    "df.head()"
   ]
  },
  {
   "cell_type": "code",
   "execution_count": 83,
   "metadata": {},
   "outputs": [],
   "source": [
    "#df.sort_values(by=0, axis=1, ascending=False)\n",
    "#https://betterprogramming.pub/sorting-a-python-pandas-dataframes-by-index-and-value-7306ac754014                 "
   ]
  },
  {
   "cell_type": "markdown",
   "metadata": {},
   "source": [
    "### Discussion 2.3: Interpret Principal Components\n",
    "\n",
    "(Double-click this cell and replace this text with your own text, reporting your observations from detailed investigation of the first few principal components generated. Can we interpret positive and negative values from them in a meaningful way?)\n",
    "\n",
    "- The important features are the ones that influemce more the components & thus, have a large absolute value on the component. The importance of each feature is reflected by the magnitude of the corresponding values in the eigenvectors (higher magnitude - higher importance)\n",
    "- 9. Community-level features: ORTSGR_KLS9 size of community \n",
    "- 3. Building-level features: WOHNLAGE neighborhood quality (or rural flag) - very good, good, average, poor, very poor, rural, new building in rural neighborhood\n",
    "- 1. Person-level features: PRAEGENDE_JUGENDJAHRE dominating movement of person's youth (avantgarde vs mainstream)\n",
    "- avantgarde: reconstruction years, milk bar/individualisation, generation 68/student protestors, opponents to the building of the Wall, peace movement,ecological awareness\n",
    "- mainstream: war years, economic miracle, family orientation, generation golf, FDJ/communist party youth organisation, digital media kids\n",
    "- 2. Household-level features: HH_EINKOMMEN_SCORE estimated household net income\n",
    "- 7.RR1 region features: GEBAEUDETYP_RASTER ratio of residental to commercial activity business cell, mixed cell with high business share, mixed cell with middle business share, mixed cell with low business share, residential cell\n",
    "- 6. Postcode-level feaures EWDICHTE density of households per square kilometer less than 34 households per km^2 etc."
   ]
  },
  {
   "cell_type": "markdown",
   "metadata": {},
   "source": [
    "## Step 3: Clustering\n",
    "\n",
    "### Step 3.1: Apply Clustering to General Population\n",
    "\n",
    "You've assessed and cleaned the demographics data, then scaled and transformed them. Now, it's time to see how the data clusters in the principal components space. In this substep, you will apply k-means clustering to the dataset and use the average within-cluster distances from each point to their assigned cluster's centroid to decide on a number of clusters to keep.\n",
    "\n",
    "- Use sklearn's [KMeans](http://scikit-learn.org/stable/modules/generated/sklearn.cluster.KMeans.html#sklearn.cluster.KMeans) class to perform k-means clustering on the PCA-transformed data.\n",
    "- Then, compute the average difference from each point to its assigned cluster's center. **Hint**: The KMeans object's `.score()` method might be useful here, but note that in sklearn, scores tend to be defined so that larger is better. Try applying it to a small, toy dataset, or use an internet search to help your understanding.\n",
    "- Perform the above two steps for a number of different cluster counts. You can then see how the average distance decreases with an increasing number of clusters. However, each additional cluster provides a smaller net benefit. Use this fact to select a final number of clusters in which to group the data. **Warning**: because of the large size of the dataset, it can take a long time for the algorithm to resolve. The more clusters to fit, the longer the algorithm will take. You should test for cluster counts through at least 10 clusters to get the full picture, but you shouldn't need to test for a number of clusters above about 30.\n",
    "- Once you've selected a final number of clusters to use, re-fit a KMeans instance to perform the clustering operation. Make sure that you also obtain the cluster assignments for the general demographics data, since you'll be using them in the final Step 3.3."
   ]
  },
  {
   "cell_type": "code",
   "execution_count": 84,
   "metadata": {},
   "outputs": [],
   "source": [
    "from sklearn.cluster import KMeans\n",
    "# Over a number of different cluster counts...\n",
    "\n",
    "    # run k-means clustering on the data and...\n",
    " \n",
    "    # compute the average within-cluster distances.\n",
    "    \n",
    "#Sum of squared distances of samples to their closest cluster center."
   ]
  },
  {
   "cell_type": "code",
   "execution_count": 85,
   "metadata": {},
   "outputs": [
    {
     "data": {
      "text/plain": [
       "[18356845.953767736,\n",
       " 11249387.801308347,\n",
       " 8480663.1233425066,\n",
       " 7725580.4305021903,\n",
       " 7205245.3800269859,\n",
       " 6821720.3905611178,\n",
       " 6488854.3562994711,\n",
       " 6133322.1610437138,\n",
       " 5892349.3082045922,\n",
       " 5653863.9332897589]"
      ]
     },
     "execution_count": 85,
     "metadata": {},
     "output_type": "execute_result"
    },
    {
     "data": {
      "image/png": "[encoded data removed]",
      "text/plain": [
       "<matplotlib.figure.Figure at 0x7f0603baa550>"
      ]
     },
     "metadata": {
      "needs_background": "light"
     },
     "output_type": "display_data"
    }
   ],
   "source": [
    "# Investigate the change in within-cluster distance across number of clusters.\n",
    "# HINT: Use matplotlib's plot function to visualize this relationship.\n",
    "data=X_pca_pop\n",
    "scores = []\n",
    "for k in range(1,11):\n",
    "   \n",
    "    kmeans_k = KMeans(n_clusters=k, random_state=0)\n",
    "    model_k = kmeans_k.fit(data)\n",
    "    labels_k = model_k.predict(data)\n",
    "    scores.append(abs(model_k.score(data)))\n",
    "    \n",
    "centers = list(range(1,11))\n",
    "plt.plot(centers, scores, linestyle='--', marker='o', color='b');\n",
    "plt.xlabel('K');\n",
    "plt.ylabel('SSE');\n",
    "plt.title('SSE vs. K');\n",
    "#The objective in the K-means is to reduce the sum of squares \n",
    "#of the distances of points from their respective cluster centroids\n",
    "\n",
    "scores #Sum of squared distances of samples to their closest cluster center.\n",
    "#model_4.cluster_centers_"
   ]
  },
  {
   "cell_type": "code",
   "execution_count": 86,
   "metadata": {},
   "outputs": [
    {
     "data": {
      "text/plain": [
       "4786594.2666649353"
      ]
     },
     "execution_count": 86,
     "metadata": {},
     "output_type": "execute_result"
    }
   ],
   "source": [
    "# Re-fit the k-means model with the selected number of clusters and obtain\n",
    "# cluster predictions for the general population demographics data.\n",
    "kmeans = KMeans(n_clusters=17, random_state=0)\n",
    "model_pop = kmeans.fit(X_pca_pop) \n",
    "labels_pop = model_pop.predict(X_pca_pop) \n",
    "\n",
    "abs(model_pop.score(X_pca_pop))"
   ]
  },
  {
   "cell_type": "code",
   "execution_count": 87,
   "metadata": {},
   "outputs": [
    {
     "data": {
      "text/plain": [
       "<matplotlib.axes._subplots.AxesSubplot at 0x7f06da2ecb00>"
      ]
     },
     "execution_count": 87,
     "metadata": {},
     "output_type": "execute_result"
    },
    {
     "data": {
      "image/png": "[encoded data removed]",
      "text/plain": [
       "<matplotlib.figure.Figure at 0x7f0603ba8f60>"
      ]
     },
     "metadata": {
      "needs_background": "light"
     },
     "output_type": "display_data"
    }
   ],
   "source": [
    "sns.countplot(labels_pop)"
   ]
  },
  {
   "cell_type": "markdown",
   "metadata": {},
   "source": [
    "### Discussion 3.1: Apply Clustering to General Population\n",
    "\n",
    "(Double-click this cell and replace this text with your own text, reporting your findings and decisions regarding clustering. Into how many clusters have you decided to segment the population?)"
   ]
  },
  {
   "cell_type": "markdown",
   "metadata": {},
   "source": [
    "### Step 3.2: Apply All Steps to the Customer Data\n",
    "\n",
    "Now that you have clusters and cluster centers for the general population, it's time to see how the customer data maps on to those clusters. Take care to not confuse this for re-fitting all of the models to the customer data. Instead, you're going to use the fits from the general population to clean, transform, and cluster the customer data. In the last step of the project, you will interpret how the general population fits apply to the customer data.\n",
    "\n",
    "- Don't forget when loading in the customers data, that it is semicolon (`;`) delimited.\n",
    "- Apply the same feature wrangling, selection, and engineering steps to the customer demographics using the `clean_data()` function you created earlier. (You can assume that the customer demographics data has similar meaning behind missing data patterns as the general demographics data.)\n",
    "- Use the sklearn objects from the general demographics data, and apply their transformations to the customers data. That is, you should not be using a `.fit()` or `.fit_transform()` method to re-fit the old objects, nor should you be creating new sklearn objects! Carry the data through the feature scaling, PCA, and clustering steps, obtaining cluster assignments for all of the data in the customer demographics data."
   ]
  },
  {
   "cell_type": "code",
   "execution_count": 88,
   "metadata": {},
   "outputs": [],
   "source": [
    "# Load in the customer demographics data.\n",
    "customers = pd.read_csv('./Udacity_CUSTOMERS_Subset.csv', delimiter=';')"
   ]
  },
  {
   "cell_type": "code",
   "execution_count": 89,
   "metadata": {},
   "outputs": [
    {
     "name": "stdout",
     "output_type": "stream",
     "text": [
      "['AGER_TYP', 'ALTERSKATEGORIE_GROB', 'ANREDE_KZ', 'CJT_GESAMTTYP', 'FINANZ_MINIMALIST', 'FINANZ_SPARER', 'FINANZ_VORSORGER', 'FINANZ_ANLEGER', 'FINANZ_UNAUFFAELLIGER', 'FINANZ_HAUSBAUER', 'FINANZTYP', 'GEBURTSJAHR', 'GFK_URLAUBERTYP', 'GREEN_AVANTGARDE', 'HEALTH_TYP', 'LP_LEBENSPHASE_FEIN', 'LP_LEBENSPHASE_GROB', 'LP_FAMILIE_FEIN', 'LP_FAMILIE_GROB', 'LP_STATUS_FEIN', 'LP_STATUS_GROB', 'NATIONALITAET_KZ', 'PRAEGENDE_JUGENDJAHRE', 'RETOURTYP_BK_S', 'SEMIO_SOZ', 'SEMIO_FAM', 'SEMIO_REL', 'SEMIO_MAT', 'SEMIO_VERT', 'SEMIO_LUST', 'SEMIO_ERL', 'SEMIO_KULT', 'SEMIO_RAT', 'SEMIO_KRIT', 'SEMIO_DOM', 'SEMIO_KAEM', 'SEMIO_PFLICHT', 'SEMIO_TRADV', 'SHOPPER_TYP', 'SOHO_KZ', 'TITEL_KZ', 'VERS_TYP', 'ZABEOTYP', 'ALTER_HH', 'ANZ_PERSONEN', 'ANZ_TITEL', 'HH_EINKOMMEN_SCORE', 'KK_KUNDENTYP', 'W_KEIT_KIND_HH', 'WOHNDAUER_2008', 'ANZ_HAUSHALTE_AKTIV', 'ANZ_HH_TITEL', 'GEBAEUDETYP', 'KONSUMNAEHE', 'MIN_GEBAEUDEJAHR', 'OST_WEST_KZ', 'WOHNLAGE', 'CAMEO_DEUG_2015', 'CAMEO_DEU_2015', 'CAMEO_INTL_2015', 'KBA05_ANTG1', 'KBA05_ANTG2', 'KBA05_ANTG3', 'KBA05_ANTG4', 'KBA05_BAUMAX', 'KBA05_GBZ', 'BALLRAUM', 'EWDICHTE', 'INNENSTADT', 'GEBAEUDETYP_RASTER', 'KKK', 'MOBI_REGIO', 'ONLINE_AFFINITAET', 'REGIOTYP', 'KBA13_ANZAHL_PKW', 'PLZ8_ANTG1', 'PLZ8_ANTG2', 'PLZ8_ANTG3', 'PLZ8_ANTG4', 'PLZ8_BAUMAX', 'PLZ8_HHZ', 'PLZ8_GBZ', 'ARBEIT', 'ORTSGR_KLS9', 'RELAT_AB']\n"
     ]
    }
   ],
   "source": [
    "print(customers.columns.tolist())"
   ]
  },
  {
   "cell_type": "code",
   "execution_count": 90,
   "metadata": {},
   "outputs": [
    {
     "name": "stdout",
     "output_type": "stream",
     "text": [
      "low_set ['ALTERSKATEGORIE_GROB', 'ANREDE_KZ', 'CJT_GESAMTTYP', 'FINANZ_MINIMALIST', 'FINANZ_SPARER', 'FINANZ_VORSORGER', 'FINANZ_ANLEGER', 'FINANZ_UNAUFFAELLIGER', 'FINANZ_HAUSBAUER', 'FINANZTYP', 'GFK_URLAUBERTYP', 'GREEN_AVANTGARDE', 'HEALTH_TYP', 'LP_LEBENSPHASE_FEIN', 'LP_LEBENSPHASE_GROB', 'LP_FAMILIE_FEIN', 'LP_FAMILIE_GROB', 'LP_STATUS_FEIN', 'LP_STATUS_GROB', 'NATIONALITAET_KZ', 'PRAEGENDE_JUGENDJAHRE', 'RETOURTYP_BK_S', 'SEMIO_SOZ', 'SEMIO_FAM', 'SEMIO_REL', 'SEMIO_MAT', 'SEMIO_VERT', 'SEMIO_LUST', 'SEMIO_ERL', 'SEMIO_KULT', 'SEMIO_RAT', 'SEMIO_KRIT', 'SEMIO_DOM', 'SEMIO_KAEM', 'SEMIO_PFLICHT', 'SEMIO_TRADV', 'SHOPPER_TYP', 'SOHO_KZ', 'VERS_TYP', 'ZABEOTYP', 'ANZ_PERSONEN', 'ANZ_TITEL', 'HH_EINKOMMEN_SCORE', 'W_KEIT_KIND_HH', 'WOHNDAUER_2008', 'ANZ_HAUSHALTE_AKTIV', 'ANZ_HH_TITEL', 'GEBAEUDETYP', 'KONSUMNAEHE', 'MIN_GEBAEUDEJAHR', 'OST_WEST_KZ', 'WOHNLAGE', 'CAMEO_DEUG_2015', 'CAMEO_DEU_2015', 'CAMEO_INTL_2015', 'KBA05_ANTG1', 'KBA05_ANTG2', 'KBA05_ANTG3', 'KBA05_ANTG4', 'KBA05_GBZ', 'BALLRAUM', 'EWDICHTE', 'INNENSTADT', 'GEBAEUDETYP_RASTER', 'MOBI_REGIO', 'ONLINE_AFFINITAET', 'KBA13_ANZAHL_PKW', 'PLZ8_ANTG1', 'PLZ8_ANTG2', 'PLZ8_ANTG3', 'PLZ8_ANTG4', 'PLZ8_BAUMAX', 'PLZ8_HHZ', 'PLZ8_GBZ', 'ARBEIT', 'ORTSGR_KLS9', 'RELAT_AB']\n",
      "low_set (141716, 19)\n"
     ]
    },
    {
     "name": "stderr",
     "output_type": "stream",
     "text": [
      "/opt/conda/lib/python3.6/site-packages/ipykernel_launcher.py:66: SettingWithCopyWarning: \n",
      "A value is trying to be set on a copy of a slice from a DataFrame.\n",
      "Try using .loc[row_indexer,col_indexer] = value instead\n",
      "\n",
      "See the caveats in the documentation: http://pandas.pydata.org/pandas-docs/stable/indexing.html#indexing-view-versus-copy\n",
      "/opt/conda/lib/python3.6/site-packages/pandas/core/indexing.py:543: SettingWithCopyWarning: \n",
      "A value is trying to be set on a copy of a slice from a DataFrame.\n",
      "Try using .loc[row_indexer,col_indexer] = value instead\n",
      "\n",
      "See the caveats in the documentation: http://pandas.pydata.org/pandas-docs/stable/indexing.html#indexing-view-versus-copy\n",
      "  self.obj[item] = s\n"
     ]
    },
    {
     "name": "stdout",
     "output_type": "stream",
     "text": [
      "fillcat (141716, 19)\n",
      "fillcat ['ALTERSKATEGORIE_GROB', 'ANREDE_KZ', 'ANZ_TITEL', 'HH_EINKOMMEN_SCORE', 'OST_WEST_KZ', 'WOHNLAGE', 'EWDICHTE', 'INNENSTADT', 'GEBAEUDETYP_RASTER', 'ARBEIT', 'ORTSGR_KLS9', 'PRAEGENDE_JUGENDJAHRE', 'CAMEO_INTL_2015', 'FINANZTYP', 'GFK_URLAUBERTYP', 'LP_FAMILIE_FEIN', 'LP_STATUS_GROB', 'GEBAEUDETYP', 'CAMEO_DEU_2015']\n",
      "catdum (141716, 91)\n",
      "catdum ['ALTERSKATEGORIE_GROB', 'ANREDE_KZ', 'ANZ_TITEL', 'HH_EINKOMMEN_SCORE', 'OST_WEST_KZ', 'WOHNLAGE', 'EWDICHTE', 'INNENSTADT', 'GEBAEUDETYP_RASTER', 'ARBEIT', 'ORTSGR_KLS9', 'PRAEGENDE_JUGENDJAHRE', 'CAMEO_INTL_2015', 'FINANZTYP_2', 'FINANZTYP_3', 'FINANZTYP_4', 'FINANZTYP_5', 'FINANZTYP_6', 'GFK_URLAUBERTYP_2.0', 'GFK_URLAUBERTYP_3.0', 'GFK_URLAUBERTYP_4.0', 'GFK_URLAUBERTYP_5.0', 'GFK_URLAUBERTYP_6.0', 'GFK_URLAUBERTYP_7.0', 'GFK_URLAUBERTYP_8.0', 'GFK_URLAUBERTYP_9.0', 'GFK_URLAUBERTYP_10.0', 'GFK_URLAUBERTYP_11.0', 'GFK_URLAUBERTYP_12.0', 'LP_FAMILIE_FEIN_2.0', 'LP_FAMILIE_FEIN_3.0', 'LP_FAMILIE_FEIN_4.0', 'LP_FAMILIE_FEIN_5.0', 'LP_FAMILIE_FEIN_6.0', 'LP_FAMILIE_FEIN_7.0', 'LP_FAMILIE_FEIN_8.0', 'LP_FAMILIE_FEIN_9.0', 'LP_FAMILIE_FEIN_10.0', 'LP_FAMILIE_FEIN_11.0', 'LP_STATUS_GROB_2.0', 'LP_STATUS_GROB_3.0', 'LP_STATUS_GROB_4.0', 'LP_STATUS_GROB_5.0', 'GEBAEUDETYP_2.0', 'GEBAEUDETYP_3.0', 'GEBAEUDETYP_4.0', 'GEBAEUDETYP_6.0', 'GEBAEUDETYP_8.0', 'CAMEO_DEU_2015_1B', 'CAMEO_DEU_2015_1C', 'CAMEO_DEU_2015_1D', 'CAMEO_DEU_2015_1E', 'CAMEO_DEU_2015_2A', 'CAMEO_DEU_2015_2B', 'CAMEO_DEU_2015_2C', 'CAMEO_DEU_2015_2D', 'CAMEO_DEU_2015_3A', 'CAMEO_DEU_2015_3B', 'CAMEO_DEU_2015_3C', 'CAMEO_DEU_2015_3D', 'CAMEO_DEU_2015_4A', 'CAMEO_DEU_2015_4B', 'CAMEO_DEU_2015_4C', 'CAMEO_DEU_2015_4D', 'CAMEO_DEU_2015_4E', 'CAMEO_DEU_2015_5A', 'CAMEO_DEU_2015_5B', 'CAMEO_DEU_2015_5C', 'CAMEO_DEU_2015_5D', 'CAMEO_DEU_2015_5E', 'CAMEO_DEU_2015_5F', 'CAMEO_DEU_2015_6A', 'CAMEO_DEU_2015_6B', 'CAMEO_DEU_2015_6C', 'CAMEO_DEU_2015_6D', 'CAMEO_DEU_2015_6E', 'CAMEO_DEU_2015_6F', 'CAMEO_DEU_2015_7A', 'CAMEO_DEU_2015_7B', 'CAMEO_DEU_2015_7C', 'CAMEO_DEU_2015_7D', 'CAMEO_DEU_2015_7E', 'CAMEO_DEU_2015_8A', 'CAMEO_DEU_2015_8B', 'CAMEO_DEU_2015_8C', 'CAMEO_DEU_2015_8D', 'CAMEO_DEU_2015_9A', 'CAMEO_DEU_2015_9B', 'CAMEO_DEU_2015_9C', 'CAMEO_DEU_2015_9D', 'CAMEO_DEU_2015_9E']\n",
      "(141716, 93)\n",
      "(141716, 102)\n",
      "Index(['ALTERSKATEGORIE_GROB', 'ANREDE_KZ', 'ANZ_TITEL', 'HH_EINKOMMEN_SCORE',\n",
      "       'OST_WEST_KZ', 'WOHNLAGE', 'EWDICHTE', 'INNENSTADT',\n",
      "       'GEBAEUDETYP_RASTER', 'ARBEIT',\n",
      "       ...\n",
      "       'PRAEGENDE_JUGENDJAHRE_DECADE_4.0', 'PRAEGENDE_JUGENDJAHRE_DECADE_50.0',\n",
      "       'CAMEO_INTL_2015_WEALTH_2', 'CAMEO_INTL_2015_WEALTH_3',\n",
      "       'CAMEO_INTL_2015_WEALTH_4', 'CAMEO_INTL_2015_WEALTH_5',\n",
      "       'CAMEO_INTL_2015_LIFESTG_2', 'CAMEO_INTL_2015_LIFESTG_3',\n",
      "       'CAMEO_INTL_2015_LIFESTG_4', 'CAMEO_INTL_2015_LIFESTG_5'],\n",
      "      dtype='object', length=102)\n"
     ]
    }
   ],
   "source": [
    "# Apply preprocessing, feature transformation, and clustering from the general\n",
    "# demographics onto the customer data, obtaining cluster predictions for the\n",
    "# customer demographics data.\n",
    " \n",
    "customers = clean_data(customers, feat_info)"
   ]
  },
  {
   "cell_type": "code",
   "execution_count": 91,
   "metadata": {},
   "outputs": [
    {
     "name": "stdout",
     "output_type": "stream",
     "text": [
      "['PRAEGENDE_JUGENDJAHRE_DECADE_90.0', 'PRAEGENDE_JUGENDJAHRE_DECADE_50.0']\n"
     ]
    }
   ],
   "source": [
    "def difference (list1, list2):\n",
    "    list_dif = [i for i in list1 + list2 if i not in list1 or i not in list2]\n",
    "    return list_dif\n",
    "g=azdias_df_clean.columns.tolist()\n",
    "c=customers.columns.tolist()\n",
    "z=difference(g,c)\n",
    "print(str(z))"
   ]
  },
  {
   "cell_type": "code",
   "execution_count": 92,
   "metadata": {},
   "outputs": [
    {
     "name": "stdout",
     "output_type": "stream",
     "text": [
      "(141716, 102)\n",
      "(141716, 102)\n"
     ]
    }
   ],
   "source": [
    "customers = imp(customers)"
   ]
  },
  {
   "cell_type": "code",
   "execution_count": 93,
   "metadata": {},
   "outputs": [],
   "source": [
    "customers, scaler = scale(customers)"
   ]
  },
  {
   "cell_type": "code",
   "execution_count": 94,
   "metadata": {},
   "outputs": [],
   "source": [
    "\n",
    "X_pca_customer=pca.transform(customers)"
   ]
  },
  {
   "cell_type": "code",
   "execution_count": 95,
   "metadata": {},
   "outputs": [
    {
     "data": {
      "text/plain": [
       "<matplotlib.axes._subplots.AxesSubplot at 0x7f061524cd30>"
      ]
     },
     "execution_count": 95,
     "metadata": {},
     "output_type": "execute_result"
    },
    {
     "data": {
      "image/png": "[encoded data removed]",
      "text/plain": [
       "<matplotlib.figure.Figure at 0x7f061528a0b8>"
      ]
     },
     "metadata": {
      "needs_background": "light"
     },
     "output_type": "display_data"
    }
   ],
   "source": [
    "#customer_model = kmeans.fit(X_pca_customer) \n",
    "labels_customer = model_pop.predict(X_pca_customer)\n",
    "sns.countplot(labels_customer)"
   ]
  },
  {
   "cell_type": "markdown",
   "metadata": {},
   "source": [
    "### Step 3.3: Compare Customer Data to Demographics Data\n",
    "\n",
    "At this point, you have clustered data based on demographics of the general population of Germany, and seen how the customer data for a mail-order sales company maps onto those demographic clusters. In this final substep, you will compare the two cluster distributions to see where the strongest customer base for the company is.\n",
    "\n",
    "Consider the proportion of persons in each cluster for the general population, and the proportions for the customers. If we think the company's customer base to be universal, then the cluster assignment proportions should be fairly similar between the two. If there are only particular segments of the population that are interested in the company's products, then we should see a mismatch from one to the other. If there is a higher proportion of persons in a cluster for the customer data compared to the general population (e.g. 5% of persons are assigned to a cluster for the general population, but 15% of the customer data is closest to that cluster's centroid) then that suggests the people in that cluster to be a target audience for the company. On the other hand, the proportion of the data in a cluster being larger in the general population than the customer data (e.g. only 2% of customers closest to a population centroid that captures 6% of the data) suggests that group of persons to be outside of the target demographics.\n",
    "\n",
    "Take a look at the following points in this step:\n",
    "\n",
    "- Compute the proportion of data points in each cluster for the general population and the customer data. Visualizations will be useful here: both for the individual dataset proportions, but also to visualize the ratios in cluster representation between groups. Seaborn's [`countplot()`](https://seaborn.pydata.org/generated/seaborn.countplot.html) or [`barplot()`](https://seaborn.pydata.org/generated/seaborn.barplot.html) function could be handy.\n",
    "  - Recall the analysis you performed in step 1.1.3 of the project, where you separated out certain data points from the dataset if they had more than a specified threshold of missing values. If you found that this group was qualitatively different from the main bulk of the data, you should treat this as an additional data cluster in this analysis. Make sure that you account for the number of data points in this subset, for both the general population and customer datasets, when making your computations!\n",
    "- Which cluster or clusters are overrepresented in the customer dataset compared to the general population? Select at least one such cluster and infer what kind of people might be represented by that cluster. Use the principal component interpretations from step 2.3 or look at additional components to help you make this inference. Alternatively, you can use the `.inverse_transform()` method of the PCA and StandardScaler objects to transform centroids back to the original data space and interpret the retrieved values directly.\n",
    "- Perform a similar investigation for the underrepresented clusters. Which cluster or clusters are underrepresented in the customer dataset compared to the general population, and what kinds of people are typified by these clusters?"
   ]
  },
  {
   "cell_type": "code",
   "execution_count": 96,
   "metadata": {},
   "outputs": [
    {
     "data": {
      "image/png": "[encoded data removed]",
      "text/plain": [
       "<matplotlib.figure.Figure at 0x7f0603b77ef0>"
      ]
     },
     "metadata": {
      "needs_background": "light"
     },
     "output_type": "display_data"
    }
   ],
   "source": [
    "# Compare the proportion of data in each cluster for the customer data to the\n",
    "# proportion of data in each cluster for the general population.#sns.countplot(model_pop.labels_)\n",
    "plt.figure(figsize = (16,15))\n",
    "plt.subplot(1,2,1)\n",
    "sns.countplot(labels_pop)\n",
    "plt.subplot(1,2,2)\n",
    "sns.countplot(labels_customer)\n",
    "plt.tight_layout(2)\n"
   ]
  },
  {
   "cell_type": "code",
   "execution_count": 97,
   "metadata": {},
   "outputs": [
    {
     "name": "stdout",
     "output_type": "stream",
     "text": [
      "[[ 6.02634201  2.05896221  0.02066181 ...,  0.24205954  0.50098408\n",
      "   0.28179366]\n",
      " [ 5.86861     2.04834129  0.0209393  ...,  0.202952    0.46863971\n",
      "   0.28049724]\n",
      " [ 6.04603927  2.04435186  0.02058407 ...,  0.25705106  0.49817164\n",
      "   0.27507018]\n",
      " ..., \n",
      " [ 5.81485922  2.01537703  0.0214686  ...,  0.26868318  0.56227744\n",
      "   0.27597237]\n",
      " [ 6.0155763   2.01849389  0.02185796 ...,  0.24968401  0.57672246\n",
      "   0.29786781]\n",
      " [ 4.57063511  2.06119622  0.02037702 ...,  0.2593743   0.49734329\n",
      "   0.24568602]]\n"
     ]
    }
   ],
   "source": [
    "# What kinds of people are part of a cluster that is overrepresented in the\n",
    "# customer data compared to the general population? \n",
    "#https://knowledge.udacity.com/questions/624310\n",
    "#we just want to look at the centroids; the centroids represent the weights?\n",
    "print(scaler.inverse_transform(pca.inverse_transform(model_pop.cluster_centers_)))\n",
    "\n",
    "cluster_inverse=scaler.inverse_transform(pca.inverse_transform(model_pop.cluster_centers_))"
   ]
  },
  {
   "cell_type": "code",
   "execution_count": 98,
   "metadata": {},
   "outputs": [
    {
     "data": {
      "text/html": [
       "<div>\n",
       "<style scoped>\n",
       "    .dataframe tbody tr th:only-of-type {\n",
       "        vertical-align: middle;\n",
       "    }\n",
       "\n",
       "    .dataframe tbody tr th {\n",
       "        vertical-align: top;\n",
       "    }\n",
       "\n",
       "    .dataframe thead th {\n",
       "        text-align: right;\n",
       "    }\n",
       "</style>\n",
       "<table border=\"1\" class=\"dataframe\">\n",
       "  <thead>\n",
       "    <tr style=\"text-align: right;\">\n",
       "      <th></th>\n",
       "      <th>ALTERSKATEGORIE_GROB</th>\n",
       "      <th>ANREDE_KZ</th>\n",
       "      <th>ANZ_TITEL</th>\n",
       "      <th>HH_EINKOMMEN_SCORE</th>\n",
       "      <th>OST_WEST_KZ</th>\n",
       "      <th>WOHNLAGE</th>\n",
       "      <th>EWDICHTE</th>\n",
       "      <th>INNENSTADT</th>\n",
       "      <th>GEBAEUDETYP_RASTER</th>\n",
       "      <th>ARBEIT</th>\n",
       "      <th>...</th>\n",
       "      <th>PRAEGENDE_JUGENDJAHRE_DECADE_4.0</th>\n",
       "      <th>PRAEGENDE_JUGENDJAHRE_DECADE_90.0</th>\n",
       "      <th>CAMEO_INTL_2015_WEALTH_2</th>\n",
       "      <th>CAMEO_INTL_2015_WEALTH_3</th>\n",
       "      <th>CAMEO_INTL_2015_WEALTH_4</th>\n",
       "      <th>CAMEO_INTL_2015_WEALTH_5</th>\n",
       "      <th>CAMEO_INTL_2015_LIFESTG_2</th>\n",
       "      <th>CAMEO_INTL_2015_LIFESTG_3</th>\n",
       "      <th>CAMEO_INTL_2015_LIFESTG_4</th>\n",
       "      <th>CAMEO_INTL_2015_LIFESTG_5</th>\n",
       "    </tr>\n",
       "  </thead>\n",
       "  <tbody>\n",
       "    <tr>\n",
       "      <th>0</th>\n",
       "      <td>0.025136</td>\n",
       "      <td>-0.000397</td>\n",
       "      <td>-0.000244</td>\n",
       "      <td>-0.136988</td>\n",
       "      <td>0.005630</td>\n",
       "      <td>0.369242</td>\n",
       "      <td>-0.444378</td>\n",
       "      <td>0.468060</td>\n",
       "      <td>0.079340</td>\n",
       "      <td>-0.152270</td>\n",
       "      <td>...</td>\n",
       "      <td>0.010106</td>\n",
       "      <td>-0.000185</td>\n",
       "      <td>0.038380</td>\n",
       "      <td>0.000559</td>\n",
       "      <td>-0.008713</td>\n",
       "      <td>-0.044493</td>\n",
       "      <td>0.012795</td>\n",
       "      <td>0.018301</td>\n",
       "      <td>0.011784</td>\n",
       "      <td>0.000438</td>\n",
       "    </tr>\n",
       "    <tr>\n",
       "      <th>1</th>\n",
       "      <td>0.137203</td>\n",
       "      <td>-0.009293</td>\n",
       "      <td>0.001209</td>\n",
       "      <td>-0.548106</td>\n",
       "      <td>0.040429</td>\n",
       "      <td>-0.716878</td>\n",
       "      <td>-0.053494</td>\n",
       "      <td>0.309639</td>\n",
       "      <td>0.112800</td>\n",
       "      <td>-0.059089</td>\n",
       "      <td>...</td>\n",
       "      <td>0.045234</td>\n",
       "      <td>-0.000528</td>\n",
       "      <td>0.036237</td>\n",
       "      <td>0.004816</td>\n",
       "      <td>-0.015706</td>\n",
       "      <td>-0.086447</td>\n",
       "      <td>0.002536</td>\n",
       "      <td>0.015001</td>\n",
       "      <td>0.042340</td>\n",
       "      <td>0.016273</td>\n",
       "    </tr>\n",
       "    <tr>\n",
       "      <th>2</th>\n",
       "      <td>0.486074</td>\n",
       "      <td>-0.021779</td>\n",
       "      <td>0.001293</td>\n",
       "      <td>-0.388866</td>\n",
       "      <td>0.000056</td>\n",
       "      <td>0.331339</td>\n",
       "      <td>0.064413</td>\n",
       "      <td>-0.442461</td>\n",
       "      <td>-0.011995</td>\n",
       "      <td>-0.076818</td>\n",
       "      <td>...</td>\n",
       "      <td>0.160241</td>\n",
       "      <td>-0.002190</td>\n",
       "      <td>0.016500</td>\n",
       "      <td>0.002230</td>\n",
       "      <td>-0.014239</td>\n",
       "      <td>-0.041873</td>\n",
       "      <td>-0.002778</td>\n",
       "      <td>-0.001306</td>\n",
       "      <td>0.017955</td>\n",
       "      <td>0.017193</td>\n",
       "    </tr>\n",
       "    <tr>\n",
       "      <th>3</th>\n",
       "      <td>-0.442627</td>\n",
       "      <td>-0.006069</td>\n",
       "      <td>0.000774</td>\n",
       "      <td>-0.591397</td>\n",
       "      <td>0.029280</td>\n",
       "      <td>0.140507</td>\n",
       "      <td>0.028777</td>\n",
       "      <td>-0.385030</td>\n",
       "      <td>0.021514</td>\n",
       "      <td>-0.155172</td>\n",
       "      <td>...</td>\n",
       "      <td>-0.153932</td>\n",
       "      <td>0.001797</td>\n",
       "      <td>0.038372</td>\n",
       "      <td>0.006450</td>\n",
       "      <td>-0.024050</td>\n",
       "      <td>-0.083675</td>\n",
       "      <td>0.010889</td>\n",
       "      <td>0.011427</td>\n",
       "      <td>0.029196</td>\n",
       "      <td>-0.010988</td>\n",
       "    </tr>\n",
       "    <tr>\n",
       "      <th>4</th>\n",
       "      <td>0.022789</td>\n",
       "      <td>0.021677</td>\n",
       "      <td>-0.001209</td>\n",
       "      <td>0.324424</td>\n",
       "      <td>0.024051</td>\n",
       "      <td>-0.451231</td>\n",
       "      <td>-0.187985</td>\n",
       "      <td>-0.545888</td>\n",
       "      <td>0.107834</td>\n",
       "      <td>-0.177459</td>\n",
       "      <td>...</td>\n",
       "      <td>0.010844</td>\n",
       "      <td>0.000048</td>\n",
       "      <td>0.005137</td>\n",
       "      <td>-0.005813</td>\n",
       "      <td>0.012070</td>\n",
       "      <td>0.004702</td>\n",
       "      <td>-0.009496</td>\n",
       "      <td>0.006945</td>\n",
       "      <td>0.004057</td>\n",
       "      <td>0.003516</td>\n",
       "    </tr>\n",
       "  </tbody>\n",
       "</table>\n",
       "<p>5 rows × 102 columns</p>\n",
       "</div>"
      ],
      "text/plain": [
       "   ALTERSKATEGORIE_GROB  ANREDE_KZ  ANZ_TITEL  HH_EINKOMMEN_SCORE  \\\n",
       "0              0.025136  -0.000397  -0.000244           -0.136988   \n",
       "1              0.137203  -0.009293   0.001209           -0.548106   \n",
       "2              0.486074  -0.021779   0.001293           -0.388866   \n",
       "3             -0.442627  -0.006069   0.000774           -0.591397   \n",
       "4              0.022789   0.021677  -0.001209            0.324424   \n",
       "\n",
       "   OST_WEST_KZ  WOHNLAGE  EWDICHTE  INNENSTADT  GEBAEUDETYP_RASTER    ARBEIT  \\\n",
       "0     0.005630  0.369242 -0.444378    0.468060            0.079340 -0.152270   \n",
       "1     0.040429 -0.716878 -0.053494    0.309639            0.112800 -0.059089   \n",
       "2     0.000056  0.331339  0.064413   -0.442461           -0.011995 -0.076818   \n",
       "3     0.029280  0.140507  0.028777   -0.385030            0.021514 -0.155172   \n",
       "4     0.024051 -0.451231 -0.187985   -0.545888            0.107834 -0.177459   \n",
       "\n",
       "             ...              PRAEGENDE_JUGENDJAHRE_DECADE_4.0  \\\n",
       "0            ...                                      0.010106   \n",
       "1            ...                                      0.045234   \n",
       "2            ...                                      0.160241   \n",
       "3            ...                                     -0.153932   \n",
       "4            ...                                      0.010844   \n",
       "\n",
       "   PRAEGENDE_JUGENDJAHRE_DECADE_90.0  CAMEO_INTL_2015_WEALTH_2  \\\n",
       "0                          -0.000185                  0.038380   \n",
       "1                          -0.000528                  0.036237   \n",
       "2                          -0.002190                  0.016500   \n",
       "3                           0.001797                  0.038372   \n",
       "4                           0.000048                  0.005137   \n",
       "\n",
       "   CAMEO_INTL_2015_WEALTH_3  CAMEO_INTL_2015_WEALTH_4  \\\n",
       "0                  0.000559                 -0.008713   \n",
       "1                  0.004816                 -0.015706   \n",
       "2                  0.002230                 -0.014239   \n",
       "3                  0.006450                 -0.024050   \n",
       "4                 -0.005813                  0.012070   \n",
       "\n",
       "   CAMEO_INTL_2015_WEALTH_5  CAMEO_INTL_2015_LIFESTG_2  \\\n",
       "0                 -0.044493                   0.012795   \n",
       "1                 -0.086447                   0.002536   \n",
       "2                 -0.041873                  -0.002778   \n",
       "3                 -0.083675                   0.010889   \n",
       "4                  0.004702                  -0.009496   \n",
       "\n",
       "   CAMEO_INTL_2015_LIFESTG_3  CAMEO_INTL_2015_LIFESTG_4  \\\n",
       "0                   0.018301                   0.011784   \n",
       "1                   0.015001                   0.042340   \n",
       "2                  -0.001306                   0.017955   \n",
       "3                   0.011427                   0.029196   \n",
       "4                   0.006945                   0.004057   \n",
       "\n",
       "   CAMEO_INTL_2015_LIFESTG_5  \n",
       "0                   0.000438  \n",
       "1                   0.016273  \n",
       "2                   0.017193  \n",
       "3                  -0.010988  \n",
       "4                   0.003516  \n",
       "\n",
       "[5 rows x 102 columns]"
      ]
     },
     "execution_count": 98,
     "metadata": {},
     "output_type": "execute_result"
    }
   ],
   "source": [
    "cluster_df=pd.DataFrame(cluster_inverse, columns=azdias_df_clean.columns.tolist() )\n",
    "df.head()"
   ]
  },
  {
   "cell_type": "code",
   "execution_count": 104,
   "metadata": {},
   "outputs": [
    {
     "name": "stdout",
     "output_type": "stream",
     "text": [
      "ORTSGR_KLS9                          15.729995\n",
      "INNENSTADT                           13.681372\n",
      "EWDICHTE                             10.501597\n",
      "WOHNLAGE                              9.030758\n",
      "GEBAEUDETYP_RASTER                    7.181501\n",
      "HH_EINKOMMEN_SCORE                    6.532073\n",
      "PRAEGENDE_JUGENDJAHRE_MVMNT           6.032230\n",
      "ALTERSKATEGORIE_GROB                  6.015576\n",
      "ARBEIT                                5.666770\n",
      "ANREDE_KZ                             2.018494\n",
      "OST_WEST_KZ                           1.172543\n",
      "PRAEGENDE_JUGENDJAHRE_DECADE_4.0      0.834653\n",
      "LP_STATUS_GROB_5.0                    0.622889\n",
      "CAMEO_INTL_2015_LIFESTG_4             0.576722\n",
      "PRAEGENDE_JUGENDJAHRE_DECADE_3.0      0.554018\n",
      "CAMEO_INTL_2015_WEALTH_2              0.458036\n",
      "FINANZTYP_6                           0.451618\n",
      "FINANZTYP_5                           0.441890\n",
      "FINANZTYP_2                           0.417835\n",
      "LP_STATUS_GROB_4.0                    0.343582\n",
      "LP_FAMILIE_FEIN_10.0                  0.337774\n",
      "CAMEO_INTL_2015_LIFESTG_5             0.297868\n",
      "CAMEO_INTL_2015_WEALTH_4              0.273732\n",
      "LP_FAMILIE_FEIN_2.0                   0.272166\n",
      "GFK_URLAUBERTYP_10.0                  0.264266\n",
      "CAMEO_INTL_2015_LIFESTG_3             0.249684\n",
      "GEBAEUDETYP_3.0                       0.214190\n",
      "LP_STATUS_GROB_2.0                    0.190454\n",
      "GEBAEUDETYP_8.0                       0.185477\n",
      "LP_FAMILIE_FEIN_11.0                  0.185377\n",
      "                                       ...    \n",
      "CAMEO_DEU_2015_3A                     0.017397\n",
      "CAMEO_DEU_2015_5A                     0.016570\n",
      "CAMEO_DEU_2015_4B                     0.016431\n",
      "GEBAEUDETYP_2.0                       0.016126\n",
      "CAMEO_DEU_2015_8D                     0.015818\n",
      "CAMEO_DEU_2015_3B                     0.014338\n",
      "CAMEO_DEU_2015_5B                     0.013208\n",
      "CAMEO_DEU_2015_9D                     0.012619\n",
      "CAMEO_DEU_2015_5C                     0.012001\n",
      "CAMEO_DEU_2015_9E                     0.011062\n",
      "CAMEO_DEU_2015_4E                     0.010193\n",
      "CAMEO_DEU_2015_6D                     0.009368\n",
      "CAMEO_DEU_2015_1B                     0.009219\n",
      "CAMEO_DEU_2015_7C                     0.008845\n",
      "CAMEO_DEU_2015_6F                     0.008791\n",
      "CAMEO_DEU_2015_5F                     0.008229\n",
      "CAMEO_DEU_2015_7E                     0.007743\n",
      "LP_FAMILIE_FEIN_5.0                   0.006836\n",
      "LP_FAMILIE_FEIN_6.0                   0.006363\n",
      "CAMEO_DEU_2015_5E                     0.006287\n",
      "CAMEO_DEU_2015_9A                     0.005985\n",
      "CAMEO_DEU_2015_7D                     0.005883\n",
      "CAMEO_DEU_2015_6A                     0.005648\n",
      "CAMEO_DEU_2015_9C                     0.005562\n",
      "CAMEO_DEU_2015_9B                     0.004854\n",
      "LP_FAMILIE_FEIN_4.0                   0.003944\n",
      "GEBAEUDETYP_4.0                       0.001872\n",
      "PRAEGENDE_JUGENDJAHRE_DECADE_90.0     0.001669\n",
      "GEBAEUDETYP_6.0                       0.001042\n",
      "LP_FAMILIE_FEIN_3.0                   0.001028\n",
      "Name: 15, Length: 102, dtype: float64\n"
     ]
    }
   ],
   "source": [
    "# Customers represented by Cluster 15 is over represented as compared to the general population\n",
    "print(cluster_df.iloc[15].sort_values(ascending=False))"
   ]
  },
  {
   "cell_type": "code",
   "execution_count": 105,
   "metadata": {},
   "outputs": [
    {
     "name": "stdout",
     "output_type": "stream",
     "text": [
      "ORTSGR_KLS9                          18.566980\n",
      "HH_EINKOMMEN_SCORE                   12.038977\n",
      "INNENSTADT                           11.935062\n",
      "EWDICHTE                             11.701265\n",
      "WOHNLAGE                             10.805022\n",
      "GEBAEUDETYP_RASTER                    7.025326\n",
      "ARBEIT                                6.365921\n",
      "ALTERSKATEGORIE_GROB                  4.586021\n",
      "PRAEGENDE_JUGENDJAHRE_MVMNT           4.570556\n",
      "ANREDE_KZ                             2.067925\n",
      "OST_WEST_KZ                           1.133179\n",
      "PRAEGENDE_JUGENDJAHRE_DECADE_4.0      0.516727\n",
      "CAMEO_INTL_2015_LIFESTG_4             0.474399\n",
      "PRAEGENDE_JUGENDJAHRE_DECADE_3.0      0.472704\n",
      "FINANZTYP_6                           0.402819\n",
      "LP_STATUS_GROB_5.0                    0.398422\n",
      "FINANZTYP_5                           0.358246\n",
      "CAMEO_INTL_2015_WEALTH_2              0.355609\n",
      "CAMEO_INTL_2015_WEALTH_4              0.311311\n",
      "LP_FAMILIE_FEIN_10.0                  0.297028\n",
      "FINANZTYP_2                           0.283043\n",
      "CAMEO_INTL_2015_WEALTH_5              0.272626\n",
      "CAMEO_INTL_2015_LIFESTG_5             0.253345\n",
      "LP_STATUS_GROB_4.0                    0.251571\n",
      "GFK_URLAUBERTYP_10.0                  0.247233\n",
      "GEBAEUDETYP_3.0                       0.243162\n",
      "GEBAEUDETYP_8.0                       0.232855\n",
      "CAMEO_INTL_2015_LIFESTG_3             0.218837\n",
      "LP_FAMILIE_FEIN_2.0                   0.218585\n",
      "LP_STATUS_GROB_2.0                    0.217113\n",
      "                                       ...    \n",
      "CAMEO_DEU_2015_4D                     0.016078\n",
      "CAMEO_DEU_2015_1C                     0.015950\n",
      "CAMEO_DEU_2015_5A                     0.015570\n",
      "CAMEO_DEU_2015_4B                     0.015502\n",
      "GEBAEUDETYP_2.0                       0.014613\n",
      "CAMEO_DEU_2015_3A                     0.014414\n",
      "CAMEO_DEU_2015_5B                     0.012988\n",
      "CAMEO_DEU_2015_3B                     0.012697\n",
      "CAMEO_DEU_2015_5C                     0.012100\n",
      "CAMEO_DEU_2015_9C                     0.011496\n",
      "CAMEO_DEU_2015_9B                     0.011396\n",
      "CAMEO_DEU_2015_9A                     0.011141\n",
      "CAMEO_DEU_2015_9E                     0.010980\n",
      "CAMEO_DEU_2015_7C                     0.009746\n",
      "CAMEO_DEU_2015_4E                     0.009489\n",
      "CAMEO_DEU_2015_6D                     0.009390\n",
      "CAMEO_DEU_2015_6F                     0.008787\n",
      "CAMEO_DEU_2015_1B                     0.008499\n",
      "CAMEO_DEU_2015_5F                     0.007802\n",
      "CAMEO_DEU_2015_7E                     0.007711\n",
      "LP_FAMILIE_FEIN_5.0                   0.007491\n",
      "LP_FAMILIE_FEIN_6.0                   0.006680\n",
      "CAMEO_DEU_2015_7D                     0.006224\n",
      "CAMEO_DEU_2015_5E                     0.006114\n",
      "CAMEO_DEU_2015_6A                     0.006109\n",
      "LP_FAMILIE_FEIN_4.0                   0.005181\n",
      "PRAEGENDE_JUGENDJAHRE_DECADE_90.0     0.002020\n",
      "GEBAEUDETYP_4.0                       0.001785\n",
      "LP_FAMILIE_FEIN_3.0                   0.001359\n",
      "GEBAEUDETYP_6.0                       0.000995\n",
      "Name: 10, Length: 102, dtype: float64\n"
     ]
    }
   ],
   "source": [
    "# Customers represented by Cluster 10 is under represented as compared to the general population\n",
    "print(cluster_df.iloc[10].sort_values(ascending=False))"
   ]
  },
  {
   "cell_type": "code",
   "execution_count": 100,
   "metadata": {},
   "outputs": [
    {
     "name": "stdout",
     "output_type": "stream",
     "text": [
      "17\n",
      "[7, 10, 7, 10, 7, 10, 10, 7, 10, 7, 10, 5, 10, 10, 5, 10, 5]\n"
     ]
    },
    {
     "data": {
      "text/plain": [
       "Index(['INNENSTADT', 'ORTSGR_KLS9', 'INNENSTADT', 'ORTSGR_KLS9', 'INNENSTADT',\n",
       "       'ORTSGR_KLS9', 'ORTSGR_KLS9', 'INNENSTADT', 'ORTSGR_KLS9', 'INNENSTADT',\n",
       "       'ORTSGR_KLS9', 'WOHNLAGE', 'ORTSGR_KLS9', 'ORTSGR_KLS9', 'WOHNLAGE',\n",
       "       'ORTSGR_KLS9', 'WOHNLAGE'],\n",
       "      dtype='object')"
      ]
     },
     "execution_count": 100,
     "metadata": {},
     "output_type": "execute_result"
    }
   ],
   "source": [
    "# What kinds of people are part of a cluster that is underrepresented in the\n",
    "# customer data compared to the general population?\n",
    "n_inverse=cluster_inverse.shape[0] # 17 clusters with 102 features\n",
    "print(n_inverse)\n",
    "most_important = [(cluster_inverse[i]).argmax() for i in range (n_inverse)]\n",
    "print(most_important)\n",
    "azdias_df_clean.columns[[most_important]]"
   ]
  },
  {
   "cell_type": "markdown",
   "metadata": {},
   "source": [
    "### Discussion 3.3: Compare Customer Data to Demographics Data\n",
    "\n",
    "(Double-click this cell and replace this text with your own text, reporting findings and conclusions from the clustering analysis. Can we describe segments of the population that are relatively popular with the mail-order company, or relatively unpopular with the company?)\n",
    "  --Segment relatively popular:\n",
    "- INNENSTADT distance to city center\n",
    "- ORTSGR_KLS9 size of community\n",
    "- WOHNLAGE neighborhood quality (cluster 15)\n",
    "  --Segment least popular\n",
    "- GEBAEUDETYP_6.0: mixed building without actually known household"
   ]
  },
  {
   "cell_type": "code",
   "execution_count": 101,
   "metadata": {},
   "outputs": [
    {
     "name": "stdout",
     "output_type": "stream",
     "text": [
      "[44, 44, 44, 44, 44, 44, 44, 44, 44, 44, 44, 44, 44, 44, 44, 28, 44]\n"
     ]
    },
    {
     "data": {
      "text/plain": [
       "Index(['GEBAEUDETYP_6.0', 'GEBAEUDETYP_6.0', 'GEBAEUDETYP_6.0',\n",
       "       'GEBAEUDETYP_6.0', 'GEBAEUDETYP_6.0', 'GEBAEUDETYP_6.0',\n",
       "       'GEBAEUDETYP_6.0', 'GEBAEUDETYP_6.0', 'GEBAEUDETYP_6.0',\n",
       "       'GEBAEUDETYP_6.0', 'GEBAEUDETYP_6.0', 'GEBAEUDETYP_6.0',\n",
       "       'GEBAEUDETYP_6.0', 'GEBAEUDETYP_6.0', 'GEBAEUDETYP_6.0',\n",
       "       'LP_FAMILIE_FEIN_3.0', 'GEBAEUDETYP_6.0'],\n",
       "      dtype='object')"
      ]
     },
     "execution_count": 101,
     "metadata": {},
     "output_type": "execute_result"
    }
   ],
   "source": [
    "least_important = [(cluster_inverse[i]).argmin() for i in range (n_inverse)] # gives index\n",
    "print(least_important)\n",
    "azdias_df_clean.columns[[least_important]]"
   ]
  },
  {
   "cell_type": "markdown",
   "metadata": {},
   "source": [
    "> Congratulations on making it this far in the project! Before you finish, make sure to check through the entire notebook from top to bottom to make sure that your analysis follows a logical flow and all of your findings are documented in **Discussion** cells. Once you've checked over all of your work, you should export the notebook as an HTML document to submit for evaluation. You can do this from the menu, navigating to **File -> Download as -> HTML (.html)**. You will submit both that document and this notebook for your project submission."
   ]
  },
  {
   "cell_type": "code",
   "execution_count": null,
   "metadata": {},
   "outputs": [],
   "source": []
  }
 ],
 "metadata": {
  "kernelspec": {
   "display_name": "Python 3",
   "language": "python",
   "name": "python3"
  },
  "language_info": {
   "codemirror_mode": {
    "name": "ipython",
    "version": 3
   },
   "file_extension": ".py",
   "mimetype": "text/x-python",
   "name": "python",
   "nbconvert_exporter": "python",
   "pygments_lexer": "ipython3",
   "version": "3.6.3"
  }
 },
 "nbformat": 4,
 "nbformat_minor": 2
}
